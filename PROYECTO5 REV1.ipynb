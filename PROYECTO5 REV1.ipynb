{
 "cells": [
  {
   "cell_type": "markdown",
   "metadata": {},
   "source": [
    "# ¡Hola Luz! 😊\n",
    "\n",
    "Mi nombre es **Alejandro Castellanos** y hoy tengo el placer de ser el revisor de tu proyecto.\n",
    "\n",
    "Voy a revisar todo tu código con detalle, buscando tanto los puntos fuertes como aquellos en los que podrías mejorar. Te dejaré comentarios a lo largo del notebook, destacando lo que has hecho bien y sugiriendo ajustes donde sea necesario. Si encuentro algún error, no te preocupes, te lo haré saber de forma clara y te daré información útil para que puedas corregirlo en la próxima iteración. Si en algún punto tienes comentarios, siéntete libre de dejarlos también.\n",
    "\n",
    "\n",
    "Encontrarás mis comentarios específicos dentro de cajas verdes, amarillas o rojas, es muy importante que no muevas, modifiques o borres mis comentarios, con el fin de tener un seguimiento adecuado de tu proceso:\n",
    "\n",
    "\n",
    "<div class=\"alert alert-block alert-success\">\n",
    "<b>Comentario del revisor</b> <a class=“tocSkip”></a>\n",
    "Si todo está perfecto.\n",
    "</div>\n",
    "\n",
    "<div class=\"alert alert-block alert-warning\">\n",
    "<b>Comentario del revisor</b> <a class=“tocSkip”></a>\n",
    "Si tu código está bien pero se puede mejorar o hay algún detalle que le hace falta.\n",
    "</div>\n",
    "\n",
    "<div class=\"alert alert-block alert-danger\">\n",
    "<b>Comentario del revisor</b> <a class=“tocSkip”></a>\n",
    "Si de pronto hace falta algo o existe algún problema con tu código o conclusiones.\n",
    "</div>\n",
    "\n",
    "Puedes responderme de esta forma:\n",
    "<div class=\"alert alert-block alert-info\">\n",
    "<b>Respuesta del estudiante</b> <a class=“tocSkip”></a>\n",
    "</div>\n",
    "\n",
    "A continuación te dejaré un comentario general con mi valoración del proyecto. **¡Mi objetivo es que sigas aprendiendo y mejorando con cada paso!**\n"
   ]
  },
  {
   "cell_type": "markdown",
   "metadata": {},
   "source": [
    "----"
   ]
  },
  {
   "cell_type": "markdown",
   "metadata": {},
   "source": [
    "<div class=\"alert alert-block alert-danger\">\n",
    "<b>Comentario General del revisor (1ra Iteración)</b> <a class=“tocSkip”></a>\n",
    "\n",
    "Luz, hiciste un buen inicio en el análisis exploratorio de los datos, empleando herramientas adecuadas para entender su estructura y asegurarte de que estén listos para el análisis. También mostraste una buena organización al agrupar la información. \n",
    "\n",
    "Sin embargo, es importante que ajustes el cálculo del consumo de llamadas e internet aplicando los redondeos como lo indica el enunciado, ya que esto impacta directamente en la estimación de ingresos. Además, el análisis del comportamiento de los usuarios debe extenderse a todos los conjuntos de datos con la misma profundidad que empleaste para la información de llamadas, y en las pruebas de hipótesis es clave utilizar las columnas correctas al aplicar filtros, para que las comparaciones y conclusiones reflejen con precisión el comportamiento de los usuarios. \n",
    "\n",
    "Tienes una base sólida, solo necesitas pulir algunos detalles para que tu análisis esté completo y bien alineado con los objetivos del proyecto. No te desanimes, con estos ajustes tu trabajo quedará mucho más claro y robusto.\n",
    "\n",
    "Estaré atento a tu próxima iteración 👀\n",
    "\n",
    "*Estado del Proyecto:* **No Aprobado**\n",
    "\n",
    "</div>"
   ]
  },
  {
   "cell_type": "markdown",
   "metadata": {},
   "source": [
    "-----"
   ]
  },
  {
   "cell_type": "markdown",
   "metadata": {
    "id": "3rYiDeEH0q0f"
   },
   "source": [
    "# ¿Cuál es la mejor tarifa?\n",
    "\n",
    "Trabajas como analista para el operador de telecomunicaciones Megaline. La empresa ofrece a sus clientes dos tarifas de prepago, Surf y Ultimate. El departamento comercial quiere saber cuál de las tarifas genera más ingresos para poder ajustar el presupuesto de publicidad.\n",
    "\n",
    "Vas a realizar un análisis preliminar de las tarifas basado en una selección de clientes relativamente pequeña. Tendrás los datos de 500 clientes de Megaline: quiénes son los clientes, de dónde son, qué tarifa usan, así como la cantidad de llamadas que hicieron y los mensajes de texto que enviaron en 2018. Tu trabajo es analizar el comportamiento de los clientes y determinar qué tarifa de prepago genera más ingresos."
   ]
  },
  {
   "cell_type": "markdown",
   "metadata": {
    "id": "VNddPNRQ0q0w"
   },
   "source": [
    "[Te proporcionamos algunos comentarios para orientarte mientras completas este proyecto. Pero debes asegurarte de eliminar todos los comentarios entre corchetes antes de entregar tu proyecto.]\n",
    "\n",
    "[Antes de sumergirte en el análisis de datos, explica por tu propia cuenta el propósito del proyecto y las acciones que planeas realizar.]\n",
    "\n",
    "[Ten en cuenta que estudiar, modificar y analizar datos es un proceso iterativo. Es normal volver a los pasos anteriores y corregirlos/ampliarlos para permitir nuevos pasos.]"
   ]
  },
  {
   "cell_type": "markdown",
   "metadata": {
    "id": "MQi4IPy70q0y"
   },
   "source": [
    "## Inicialización"
   ]
  },
  {
   "cell_type": "code",
   "execution_count": null,
   "metadata": {
    "id": "MtYIuBxu0q0z"
   },
   "outputs": [],
   "source": [
    "# Cargar todas las librerías\n",
    "import pandas as pd #trabajar con tablas de datos\n",
    "import numpy as np #operaciones matematicas y numericas\n",
    "from matplotlib import pyplot as plt #generar visualizaciones (graficos)\n",
    "import scipy.stats as st #pruebas de hipotesis\n",
    "from datetime import datetime"
   ]
  },
  {
   "cell_type": "markdown",
   "metadata": {
    "id": "4ysWWC5i0q00"
   },
   "source": [
    "## Cargar datos"
   ]
  },
  {
   "cell_type": "code",
   "execution_count": null,
   "metadata": {
    "id": "CCqPW7rS0q01"
   },
   "outputs": [],
   "source": [
    "# Carga los archivos de datos en diferentes DataFrames\n",
    "df_users=pd.read_csv('/datasets/megaline_users.csv', sep=\",\")\n",
    "df_calls=pd.read_csv('/datasets/megaline_calls.csv',  sep=\",\")\n",
    "df_messages=pd.read_csv('/datasets/megaline_messages.csv',  sep=\",\")\n",
    "df_internet=pd.read_csv('/datasets/megaline_internet.csv',  sep=\",\")\n",
    "df_plans=pd.read_csv('/datasets/megaline_plans.csv',  sep=\",\")\n"
   ]
  },
  {
   "cell_type": "markdown",
   "metadata": {
    "id": "69qqoJ3r0q01"
   },
   "source": [
    "## Preparar los datos"
   ]
  },
  {
   "cell_type": "markdown",
   "metadata": {
    "id": "ohBhimvH0q01"
   },
   "source": [
    "## Tarifas"
   ]
  },
  {
   "cell_type": "code",
   "execution_count": null,
   "metadata": {
    "id": "GptqP3Q40q02"
   },
   "outputs": [],
   "source": [
    "# Imprime la información general/resumida sobre el DataFrame de las tarifas\n",
    "df_plans.info()"
   ]
  },
  {
   "cell_type": "code",
   "execution_count": null,
   "metadata": {
    "id": "64xzjwL70q02"
   },
   "outputs": [],
   "source": [
    "# Imprime una muestra de los datos para las tarifas\n",
    "df_plans.head()\n"
   ]
  },
  {
   "cell_type": "markdown",
   "metadata": {
    "id": "mEc_3_hs0q02"
   },
   "source": [
    "El DataFrame solo muestra dos filas y 8 columnas donde esta el detalle de lo que contiene cada plan, no se observa datos ausente o duplicados, sin embargo en la columna 2 que corresponde a mb_per_month_included presenta el valor por megabytes que en el caso de consumo de datos debe corresponder a gigabytes ya que asi es el manejo en el mercado para el caso de los celulares por lo cual se debe adicionar una nueva columna con gigabytes, adicionalmente podriamos adicionar por plan el valor de los costos de minutos, mensajes y gigas que costarian fuera de los planes para poder comparar el ahorro aproximado que se tiene por plan y valor total ahorrado."
   ]
  },
  {
   "cell_type": "markdown",
   "metadata": {
    "collapsed": false,
    "id": "R3C05i1l0q03",
    "jupyter": {
     "outputs_hidden": false
    }
   },
   "source": [
    "## Corregir datos"
   ]
  },
  {
   "cell_type": "code",
   "execution_count": null,
   "metadata": {
    "id": "Y7SVmjGn0q03"
   },
   "outputs": [],
   "source": [
    "df_plans['gb_per_month_included'] = df_plans['mb_per_month_included'] / 1024\n",
    "df_plans.head()"
   ]
  },
  {
   "cell_type": "markdown",
   "metadata": {
    "id": "LJir7bml0q03"
   },
   "source": [
    "## Enriquecer los datos"
   ]
  },
  {
   "cell_type": "code",
   "execution_count": null,
   "metadata": {
    "id": "gfcIEuXV0q04"
   },
   "outputs": [],
   "source": [
    "#Costo por gigabytes fuera del plan por la cantidad que esta incluido en el plan\n",
    "df_plans['costo_gigas'] = df_plans['gb_per_month_included'] * (df_plans['usd_per_gb'])\n",
    "#Costo por minuto fuera del plan por la cantidad que esta incluido en el plan\n",
    "df_plans['costo_minuto'] = df_plans['minutes_included'] * df_plans['usd_per_minute']\n",
    "#Costo por mensaje fuera del plan por la cantidad que esta incluido en el plan\n",
    "df_plans['costo_mensaje'] = df_plans['messages_included'] * df_plans['usd_per_message']\n",
    "#Total de costo de paquete fuera del plan\n",
    "df_plans['total_costo'] = (df_plans['costo_gigas']) + df_plans['costo_minuto'] + df_plans['costo_mensaje']\n",
    "#Ahorro por plan\n",
    "df_plans['ahorro_plan'] = df_plans['total_costo'] - df_plans['usd_monthly_pay']\n",
    "df_plans.head()"
   ]
  },
  {
   "cell_type": "markdown",
   "metadata": {
    "id": "1n2X6WXf0q04"
   },
   "source": [
    "## Usuarios/as"
   ]
  },
  {
   "cell_type": "code",
   "execution_count": null,
   "metadata": {
    "id": "2NgjWFqx0q05"
   },
   "outputs": [],
   "source": [
    "# Imprime la información general/resumida sobre el DataFrame de usuarios\n",
    "df_users.info()"
   ]
  },
  {
   "cell_type": "code",
   "execution_count": null,
   "metadata": {
    "id": "1IN1L9uh0q05"
   },
   "outputs": [],
   "source": [
    "# Imprime una muestra de datos para usuarios\n",
    "df_users.sample(20)"
   ]
  },
  {
   "cell_type": "markdown",
   "metadata": {
    "id": "dCZoUq4f0q06"
   },
   "source": [
    "Del DataFrame se oberva que la fecha esta en otro formato y se debe cambiar a dd/mm/aa, adicionalmente podemos incluir una columna donde podamos validar que usuarios estan activos y cuales inactivos, la antiguedad del usuario, clasificar por un rango de edades de los usuarios, separar por ciudad y estado."
   ]
  },
  {
   "cell_type": "markdown",
   "metadata": {
    "id": "BX5FQh_I0q06"
   },
   "source": [
    "### Corregir los datos"
   ]
  },
  {
   "cell_type": "code",
   "execution_count": null,
   "metadata": {
    "id": "yUqX-K0C0q07"
   },
   "outputs": [],
   "source": [
    "df_users['reg_date'] = pd.to_datetime(df_users['reg_date'], dayfirst=True, errors='coerce')\n",
    "df_users.sample(20)"
   ]
  },
  {
   "cell_type": "markdown",
   "metadata": {
    "id": "ycwuARJp0q07"
   },
   "source": [
    "### Enriquecer los datos"
   ]
  },
  {
   "cell_type": "code",
   "execution_count": null,
   "metadata": {
    "id": "iq0AaBS90q08"
   },
   "outputs": [],
   "source": [
    "#Antiguedad de usuario en años\n",
    "hoy = pd.to_datetime('today')\n",
    "df_users['antiguedad_dias'] = (hoy - df_users['reg_date']).dt.days\n",
    "df_users['antiguedad_anos'] = df_users['antiguedad_dias'] // 365\n",
    "#Cambiar formato columna 'reg_date' a str\n",
    "df_users['reg_date'] = pd.to_datetime(df_users['reg_date'], format='%Y/%m/%d').dt.strftime('%d/%m/%Y')\n",
    "#Obtener la ciudad y estado por separado.\n",
    "df_users['ciudad_sola'] = df_users['city'].str.split(',').str[0]\n",
    "df_users['estado'] = df_users['city'].str.extract(r', (\\w{2})')\n",
    "#Agrupar edad por rangos\n",
    "df_users['grupo_edad'] = pd.cut(\n",
    "    df_users['age'],\n",
    "    bins=[0, 25, 35, 50, 65, 100],\n",
    "    labels=['18-25', '26-35', '36-50', '51-65', '66+'],\n",
    "    right=True)\n",
    "#Status de usuario\n",
    "df_users['status'] = df_users['churn_date'].isna()\n",
    "df_users.sample(10)"
   ]
  },
  {
   "cell_type": "markdown",
   "metadata": {
    "id": "o7MeKCid0q08"
   },
   "source": [
    "## Llamadas"
   ]
  },
  {
   "cell_type": "code",
   "execution_count": null,
   "metadata": {
    "id": "6dDlnoDm0q08"
   },
   "outputs": [],
   "source": [
    "# Imprime la información general/resumida sobre el DataFrame de las llamadas\n",
    "df_calls.info()"
   ]
  },
  {
   "cell_type": "code",
   "execution_count": null,
   "metadata": {
    "id": "kuh1vlNB0q09"
   },
   "outputs": [],
   "source": [
    "# Imprime una muestra de datos para las llamadas\n",
    "df_calls.sample(10)"
   ]
  },
  {
   "cell_type": "markdown",
   "metadata": {
    "id": "DOAxYJSx0q09"
   },
   "source": [
    "Para el Dataframe de Llamadas se debe cambiar el formato de la fecha de llamada en dd/mm/aa,  y que este en datetime64, podemos incluir la columna del total de minutos mensuales para comparar con los minutos que incluye el plan y validar si supera el consumo de acuerdo al plan contratado y cuantos usuarios superar el plan mensualmente."
   ]
  },
  {
   "cell_type": "markdown",
   "metadata": {
    "id": "S7hzxmbX0q0-"
   },
   "source": [
    "### Corregir los datos"
   ]
  },
  {
   "cell_type": "code",
   "execution_count": null,
   "metadata": {
    "id": "S2r8xA4f0q0-",
    "scrolled": true
   },
   "outputs": [],
   "source": [
    "df_calls['call_date'] = pd.to_datetime(df_calls['call_date'], dayfirst=True, errors='coerce')\n",
    "df_calls.sample(20)"
   ]
  },
  {
   "cell_type": "markdown",
   "metadata": {
    "id": "KrMgTrlG0q0_"
   },
   "source": [
    "### Enriquecer los datos"
   ]
  },
  {
   "cell_type": "code",
   "execution_count": null,
   "metadata": {
    "id": "iZ1avpA_0q0_"
   },
   "outputs": [],
   "source": [
    "#Crear columna año-mes para agrupar\n",
    "df_calls['year_month'] = df_calls['call_date'].dt.to_period('M').astype(str)\n",
    "#Redondear los segundos a minutos\n",
    "df_calls['minutes'] = np.ceil(df_calls['duration']).astype(int)\n",
    "#Agrupar total minutos por mes y usuario\n",
    "df_minutos_mes = df_calls.groupby(['user_id', 'year_month']).agg(\n",
    "    total_minutos_mes=('minutes', 'sum')\n",
    ").reset_index()\n",
    "#Agregar columna del plan de usuario\n",
    "df_minutos_mes = df_minutos_mes.merge(df_users[['user_id', 'plan']], on='user_id', how='left')\n",
    "#Agregar los minutos incluidos del plan\n",
    "df_minutos_mes = df_minutos_mes.merge(\n",
    "    df_plans[['plan_name', 'minutes_included']],\n",
    "    left_on='plan',\n",
    "    right_on='plan_name',\n",
    "    how='left'\n",
    ")\n",
    "df_minutos_mes = df_minutos_mes.drop(columns=['plan_name'])\n",
    "#Comparar el consumo del mes con los minutos consumidos por mes\n",
    "df_minutos_mes['supero_plan'] = df_minutos_mes['total_minutos_mes'] > df_minutos_mes['minutes_included']\n",
    "df_minutos_mes['total_minutos_mes'] = df_minutos_mes['total_minutos_mes'].round(2)\n",
    "#Agregar columnas al DataFrame df_calls\n",
    "df_calls = df_calls.merge(\n",
    "    df_minutos_mes[['user_id', 'year_month', 'total_minutos_mes', 'plan', 'minutes_included', 'supero_plan']],\n",
    "    on=['user_id', 'year_month'],\n",
    "    how='left'\n",
    ")\n",
    "print(df_calls['supero_plan'].value_counts())\n"
   ]
  },
  {
   "cell_type": "markdown",
   "metadata": {
    "id": "mOUZSi180q0_"
   },
   "source": [
    "## Mensajes"
   ]
  },
  {
   "cell_type": "code",
   "execution_count": null,
   "metadata": {
    "id": "R-bYJpdV0q1A"
   },
   "outputs": [],
   "source": [
    "# Imprime la información general/resumida sobre el DataFrame de los mensajes\n",
    "df_messages.info()"
   ]
  },
  {
   "cell_type": "code",
   "execution_count": null,
   "metadata": {
    "id": "mCEl2iGE0q1A"
   },
   "outputs": [],
   "source": [
    "# Imprime una muestra de datos para los mensajes\n",
    "df_messages.sample(20)"
   ]
  },
  {
   "cell_type": "markdown",
   "metadata": {
    "id": "04xDj7KH0q1A"
   },
   "source": [
    "En el DataFrame df_messages se debe corregir la columna message_date que este en Datetime64, podemos incluir una columna de año y mes para poder posteriormente totalizar el total de mensajes usados en el mes y compararlos con la cantidad contratado con el plan y validar si superaron la cantidad del plan."
   ]
  },
  {
   "cell_type": "markdown",
   "metadata": {
    "id": "Sprfak900q1B"
   },
   "source": [
    "### Corregir los datos"
   ]
  },
  {
   "cell_type": "code",
   "execution_count": null,
   "metadata": {
    "id": "vsllvkoa0q1B"
   },
   "outputs": [],
   "source": [
    "df_messages['message_date'] = pd.to_datetime(df_messages['message_date'], dayfirst=True, errors='coerce')\n",
    "df_messages.sample(20)"
   ]
  },
  {
   "cell_type": "markdown",
   "metadata": {
    "id": "HvLid7iD0q1B"
   },
   "source": [
    "### Enriquecer los datos"
   ]
  },
  {
   "cell_type": "code",
   "execution_count": null,
   "metadata": {
    "id": "zYEXZac10q1C"
   },
   "outputs": [],
   "source": [
    "#Crear columna año-mes para agrupar\n",
    "df_messages['year_month'] = df_messages['message_date'].dt.to_period('M').astype(str)\n",
    "#Contar mensajes por mes y usuario\n",
    "df_mensajes_mes = df_messages.groupby(['user_id', 'year_month']).agg(\n",
    "    total_mensajes_mes=('id', 'count')\n",
    ").reset_index()\n",
    "#Agregar columna del plan de usuario\n",
    "df_mensajes_mes = df_mensajes_mes.merge(df_users[['user_id', 'plan']], on='user_id', how='left')\n",
    "#Agregar total mensajes incluidos del plan\n",
    "df_mensajes_mes = df_mensajes_mes.merge(\n",
    "    df_plans[['plan_name', 'messages_included']],\n",
    "    left_on='plan',\n",
    "    right_on='plan_name',\n",
    "    how='left'\n",
    ")\n",
    "df_mensajes_mes = df_mensajes_mes.drop(columns=['plan_name'])\n",
    "#Comparar el consumo del mes con los mensajes consumidos por mes\n",
    "df_mensajes_mes['supero_plan'] = df_mensajes_mes['total_mensajes_mes'] > df_mensajes_mes['messages_included']\n",
    "df_mensajes_mes['total_mensajes_mes'] = df_mensajes_mes['total_mensajes_mes'].round(2)\n",
    "#Agregar columnas al DataFrame df_calls\n",
    "df_messages = df_messages.merge(\n",
    "    df_mensajes_mes[['user_id', 'year_month', 'total_mensajes_mes', 'plan', 'messages_included', 'supero_plan']],\n",
    "    on=['user_id', 'year_month'],\n",
    "    how='left'\n",
    ")\n",
    "print(df_messages['supero_plan'].value_counts())\n",
    "df_messages.sample(20)"
   ]
  },
  {
   "cell_type": "markdown",
   "metadata": {
    "id": "bStkaxn40q1C"
   },
   "source": [
    "## Internet"
   ]
  },
  {
   "cell_type": "code",
   "execution_count": 276,
   "metadata": {
    "id": "e-Uz5qyn0q1C"
   },
   "outputs": [
    {
     "name": "stdout",
     "output_type": "stream",
     "text": [
      "<class 'pandas.core.frame.DataFrame'>\n",
      "RangeIndex: 104825 entries, 0 to 104824\n",
      "Data columns (total 5 columns):\n",
      " #   Column        Non-Null Count   Dtype         \n",
      "---  ------        --------------   -----         \n",
      " 0   id            104825 non-null  object        \n",
      " 1   user_id       104825 non-null  int64         \n",
      " 2   session_date  104825 non-null  datetime64[ns]\n",
      " 3   mb_used       104825 non-null  float64       \n",
      " 4   year_month    104825 non-null  object        \n",
      "dtypes: datetime64[ns](1), float64(1), int64(1), object(2)\n",
      "memory usage: 4.0+ MB\n"
     ]
    }
   ],
   "source": [
    "# Imprime la información general/resumida sobre el DataFrame de internet\n",
    "df_internet.info()"
   ]
  },
  {
   "cell_type": "code",
   "execution_count": 277,
   "metadata": {
    "id": "9r3x_XLw0q1C"
   },
   "outputs": [
    {
     "data": {
      "text/html": [
       "<div>\n",
       "<style scoped>\n",
       "    .dataframe tbody tr th:only-of-type {\n",
       "        vertical-align: middle;\n",
       "    }\n",
       "\n",
       "    .dataframe tbody tr th {\n",
       "        vertical-align: top;\n",
       "    }\n",
       "\n",
       "    .dataframe thead th {\n",
       "        text-align: right;\n",
       "    }\n",
       "</style>\n",
       "<table border=\"1\" class=\"dataframe\">\n",
       "  <thead>\n",
       "    <tr style=\"text-align: right;\">\n",
       "      <th></th>\n",
       "      <th>id</th>\n",
       "      <th>user_id</th>\n",
       "      <th>session_date</th>\n",
       "      <th>mb_used</th>\n",
       "      <th>year_month</th>\n",
       "    </tr>\n",
       "  </thead>\n",
       "  <tbody>\n",
       "    <tr>\n",
       "      <th>14314</th>\n",
       "      <td>1066_205</td>\n",
       "      <td>1066</td>\n",
       "      <td>2018-08-24</td>\n",
       "      <td>235.91</td>\n",
       "      <td>2018-08</td>\n",
       "    </tr>\n",
       "    <tr>\n",
       "      <th>104385</th>\n",
       "      <td>1498_459</td>\n",
       "      <td>1498</td>\n",
       "      <td>2018-08-18</td>\n",
       "      <td>602.15</td>\n",
       "      <td>2018-08</td>\n",
       "    </tr>\n",
       "    <tr>\n",
       "      <th>68889</th>\n",
       "      <td>1321_336</td>\n",
       "      <td>1321</td>\n",
       "      <td>2018-06-24</td>\n",
       "      <td>122.62</td>\n",
       "      <td>2018-06</td>\n",
       "    </tr>\n",
       "    <tr>\n",
       "      <th>50054</th>\n",
       "      <td>1223_253</td>\n",
       "      <td>1223</td>\n",
       "      <td>2018-08-27</td>\n",
       "      <td>460.67</td>\n",
       "      <td>2018-08</td>\n",
       "    </tr>\n",
       "    <tr>\n",
       "      <th>65647</th>\n",
       "      <td>1302_193</td>\n",
       "      <td>1302</td>\n",
       "      <td>2018-09-27</td>\n",
       "      <td>477.05</td>\n",
       "      <td>2018-09</td>\n",
       "    </tr>\n",
       "    <tr>\n",
       "      <th>29677</th>\n",
       "      <td>1136_314</td>\n",
       "      <td>1136</td>\n",
       "      <td>2018-12-30</td>\n",
       "      <td>505.30</td>\n",
       "      <td>2018-12</td>\n",
       "    </tr>\n",
       "    <tr>\n",
       "      <th>85488</th>\n",
       "      <td>1399_95</td>\n",
       "      <td>1399</td>\n",
       "      <td>2018-10-02</td>\n",
       "      <td>204.43</td>\n",
       "      <td>2018-10</td>\n",
       "    </tr>\n",
       "    <tr>\n",
       "      <th>41432</th>\n",
       "      <td>1185_469</td>\n",
       "      <td>1185</td>\n",
       "      <td>2018-11-21</td>\n",
       "      <td>126.23</td>\n",
       "      <td>2018-11</td>\n",
       "    </tr>\n",
       "    <tr>\n",
       "      <th>76278</th>\n",
       "      <td>1358_501</td>\n",
       "      <td>1358</td>\n",
       "      <td>2018-06-25</td>\n",
       "      <td>503.47</td>\n",
       "      <td>2018-06</td>\n",
       "    </tr>\n",
       "    <tr>\n",
       "      <th>71845</th>\n",
       "      <td>1335_84</td>\n",
       "      <td>1335</td>\n",
       "      <td>2018-06-26</td>\n",
       "      <td>861.86</td>\n",
       "      <td>2018-06</td>\n",
       "    </tr>\n",
       "    <tr>\n",
       "      <th>66829</th>\n",
       "      <td>1312_52</td>\n",
       "      <td>1312</td>\n",
       "      <td>2018-05-13</td>\n",
       "      <td>255.46</td>\n",
       "      <td>2018-05</td>\n",
       "    </tr>\n",
       "    <tr>\n",
       "      <th>95034</th>\n",
       "      <td>1443_104</td>\n",
       "      <td>1443</td>\n",
       "      <td>2018-11-24</td>\n",
       "      <td>638.52</td>\n",
       "      <td>2018-11</td>\n",
       "    </tr>\n",
       "    <tr>\n",
       "      <th>88657</th>\n",
       "      <td>1408_376</td>\n",
       "      <td>1408</td>\n",
       "      <td>2018-12-01</td>\n",
       "      <td>898.14</td>\n",
       "      <td>2018-12</td>\n",
       "    </tr>\n",
       "    <tr>\n",
       "      <th>33585</th>\n",
       "      <td>1153_30</td>\n",
       "      <td>1153</td>\n",
       "      <td>2018-12-23</td>\n",
       "      <td>109.86</td>\n",
       "      <td>2018-12</td>\n",
       "    </tr>\n",
       "    <tr>\n",
       "      <th>4096</th>\n",
       "      <td>1023_234</td>\n",
       "      <td>1023</td>\n",
       "      <td>2018-07-22</td>\n",
       "      <td>334.13</td>\n",
       "      <td>2018-07</td>\n",
       "    </tr>\n",
       "    <tr>\n",
       "      <th>71668</th>\n",
       "      <td>1334_236</td>\n",
       "      <td>1334</td>\n",
       "      <td>2018-04-26</td>\n",
       "      <td>336.45</td>\n",
       "      <td>2018-04</td>\n",
       "    </tr>\n",
       "    <tr>\n",
       "      <th>84883</th>\n",
       "      <td>1397_92</td>\n",
       "      <td>1397</td>\n",
       "      <td>2018-06-11</td>\n",
       "      <td>184.83</td>\n",
       "      <td>2018-06</td>\n",
       "    </tr>\n",
       "    <tr>\n",
       "      <th>57386</th>\n",
       "      <td>1258_494</td>\n",
       "      <td>1258</td>\n",
       "      <td>2018-12-20</td>\n",
       "      <td>391.18</td>\n",
       "      <td>2018-12</td>\n",
       "    </tr>\n",
       "    <tr>\n",
       "      <th>46466</th>\n",
       "      <td>1206_329</td>\n",
       "      <td>1206</td>\n",
       "      <td>2018-12-07</td>\n",
       "      <td>294.03</td>\n",
       "      <td>2018-12</td>\n",
       "    </tr>\n",
       "    <tr>\n",
       "      <th>29804</th>\n",
       "      <td>1138_30</td>\n",
       "      <td>1138</td>\n",
       "      <td>2018-10-04</td>\n",
       "      <td>0.00</td>\n",
       "      <td>2018-10</td>\n",
       "    </tr>\n",
       "  </tbody>\n",
       "</table>\n",
       "</div>"
      ],
      "text/plain": [
       "              id  user_id session_date  mb_used year_month\n",
       "14314   1066_205     1066   2018-08-24   235.91    2018-08\n",
       "104385  1498_459     1498   2018-08-18   602.15    2018-08\n",
       "68889   1321_336     1321   2018-06-24   122.62    2018-06\n",
       "50054   1223_253     1223   2018-08-27   460.67    2018-08\n",
       "65647   1302_193     1302   2018-09-27   477.05    2018-09\n",
       "29677   1136_314     1136   2018-12-30   505.30    2018-12\n",
       "85488    1399_95     1399   2018-10-02   204.43    2018-10\n",
       "41432   1185_469     1185   2018-11-21   126.23    2018-11\n",
       "76278   1358_501     1358   2018-06-25   503.47    2018-06\n",
       "71845    1335_84     1335   2018-06-26   861.86    2018-06\n",
       "66829    1312_52     1312   2018-05-13   255.46    2018-05\n",
       "95034   1443_104     1443   2018-11-24   638.52    2018-11\n",
       "88657   1408_376     1408   2018-12-01   898.14    2018-12\n",
       "33585    1153_30     1153   2018-12-23   109.86    2018-12\n",
       "4096    1023_234     1023   2018-07-22   334.13    2018-07\n",
       "71668   1334_236     1334   2018-04-26   336.45    2018-04\n",
       "84883    1397_92     1397   2018-06-11   184.83    2018-06\n",
       "57386   1258_494     1258   2018-12-20   391.18    2018-12\n",
       "46466   1206_329     1206   2018-12-07   294.03    2018-12\n",
       "29804    1138_30     1138   2018-10-04     0.00    2018-10"
      ]
     },
     "execution_count": 277,
     "metadata": {},
     "output_type": "execute_result"
    }
   ],
   "source": [
    "# Imprime una muestra de datos para el tráfico de internet\n",
    "df_internet.sample(20)"
   ]
  },
  {
   "cell_type": "markdown",
   "metadata": {
    "id": "EzOG5ik30q1D"
   },
   "source": [
    "En el DataFrame df_internet se debe corregir la columna session_date que este en Datetime64, convertir la columna mb_used en gigabytes y podemos incluir una columna de año y mes para poder posteriormente totalizar los gigabytes  usados en el mes y compararlos con la cantidad contratado con el plan y validar si superaron la cantidad del plan."
   ]
  },
  {
   "cell_type": "markdown",
   "metadata": {
    "id": "yA0tkPFg0q1D"
   },
   "source": [
    "### Corregir los datos"
   ]
  },
  {
   "cell_type": "code",
   "execution_count": 278,
   "metadata": {
    "id": "zVeanzdd0q1E"
   },
   "outputs": [
    {
     "data": {
      "text/html": [
       "<div>\n",
       "<style scoped>\n",
       "    .dataframe tbody tr th:only-of-type {\n",
       "        vertical-align: middle;\n",
       "    }\n",
       "\n",
       "    .dataframe tbody tr th {\n",
       "        vertical-align: top;\n",
       "    }\n",
       "\n",
       "    .dataframe thead th {\n",
       "        text-align: right;\n",
       "    }\n",
       "</style>\n",
       "<table border=\"1\" class=\"dataframe\">\n",
       "  <thead>\n",
       "    <tr style=\"text-align: right;\">\n",
       "      <th></th>\n",
       "      <th>id</th>\n",
       "      <th>user_id</th>\n",
       "      <th>session_date</th>\n",
       "      <th>mb_used</th>\n",
       "      <th>year_month</th>\n",
       "    </tr>\n",
       "  </thead>\n",
       "  <tbody>\n",
       "    <tr>\n",
       "      <th>100719</th>\n",
       "      <td>1477_34</td>\n",
       "      <td>1477</td>\n",
       "      <td>2018-11-28</td>\n",
       "      <td>9.70</td>\n",
       "      <td>2018-11</td>\n",
       "    </tr>\n",
       "    <tr>\n",
       "      <th>99064</th>\n",
       "      <td>1467_201</td>\n",
       "      <td>1467</td>\n",
       "      <td>2018-07-21</td>\n",
       "      <td>258.02</td>\n",
       "      <td>2018-07</td>\n",
       "    </tr>\n",
       "    <tr>\n",
       "      <th>84238</th>\n",
       "      <td>1392_206</td>\n",
       "      <td>1392</td>\n",
       "      <td>2018-10-15</td>\n",
       "      <td>68.45</td>\n",
       "      <td>2018-10</td>\n",
       "    </tr>\n",
       "    <tr>\n",
       "      <th>29910</th>\n",
       "      <td>1138_137</td>\n",
       "      <td>1138</td>\n",
       "      <td>2018-03-01</td>\n",
       "      <td>535.36</td>\n",
       "      <td>2018-03</td>\n",
       "    </tr>\n",
       "    <tr>\n",
       "      <th>52377</th>\n",
       "      <td>1236_228</td>\n",
       "      <td>1236</td>\n",
       "      <td>2018-10-30</td>\n",
       "      <td>364.93</td>\n",
       "      <td>2018-10</td>\n",
       "    </tr>\n",
       "    <tr>\n",
       "      <th>8125</th>\n",
       "      <td>1043_239</td>\n",
       "      <td>1043</td>\n",
       "      <td>2018-08-23</td>\n",
       "      <td>812.29</td>\n",
       "      <td>2018-08</td>\n",
       "    </tr>\n",
       "    <tr>\n",
       "      <th>30624</th>\n",
       "      <td>1140_167</td>\n",
       "      <td>1140</td>\n",
       "      <td>2018-08-11</td>\n",
       "      <td>199.53</td>\n",
       "      <td>2018-08</td>\n",
       "    </tr>\n",
       "    <tr>\n",
       "      <th>10571</th>\n",
       "      <td>1054_104</td>\n",
       "      <td>1054</td>\n",
       "      <td>2018-04-28</td>\n",
       "      <td>818.16</td>\n",
       "      <td>2018-04</td>\n",
       "    </tr>\n",
       "    <tr>\n",
       "      <th>27574</th>\n",
       "      <td>1127_289</td>\n",
       "      <td>1127</td>\n",
       "      <td>2018-08-27</td>\n",
       "      <td>820.24</td>\n",
       "      <td>2018-08</td>\n",
       "    </tr>\n",
       "    <tr>\n",
       "      <th>74610</th>\n",
       "      <td>1351_96</td>\n",
       "      <td>1351</td>\n",
       "      <td>2018-12-20</td>\n",
       "      <td>267.31</td>\n",
       "      <td>2018-12</td>\n",
       "    </tr>\n",
       "  </tbody>\n",
       "</table>\n",
       "</div>"
      ],
      "text/plain": [
       "              id  user_id session_date  mb_used year_month\n",
       "100719   1477_34     1477   2018-11-28     9.70    2018-11\n",
       "99064   1467_201     1467   2018-07-21   258.02    2018-07\n",
       "84238   1392_206     1392   2018-10-15    68.45    2018-10\n",
       "29910   1138_137     1138   2018-03-01   535.36    2018-03\n",
       "52377   1236_228     1236   2018-10-30   364.93    2018-10\n",
       "8125    1043_239     1043   2018-08-23   812.29    2018-08\n",
       "30624   1140_167     1140   2018-08-11   199.53    2018-08\n",
       "10571   1054_104     1054   2018-04-28   818.16    2018-04\n",
       "27574   1127_289     1127   2018-08-27   820.24    2018-08\n",
       "74610    1351_96     1351   2018-12-20   267.31    2018-12"
      ]
     },
     "execution_count": 278,
     "metadata": {},
     "output_type": "execute_result"
    }
   ],
   "source": [
    "df_internet['session_date'] = pd.to_datetime(df_internet['session_date'], dayfirst=True, errors='coerce')\n",
    "df_internet.sample(10)"
   ]
  },
  {
   "cell_type": "markdown",
   "metadata": {
    "id": "e8_mLF4a0q1E"
   },
   "source": [
    "### Enriquecer los datos"
   ]
  },
  {
   "cell_type": "code",
   "execution_count": 279,
   "metadata": {
    "id": "ESiYPIEK0q1E"
   },
   "outputs": [
    {
     "name": "stdout",
     "output_type": "stream",
     "text": [
      "False    1325\n",
      "True      952\n",
      "Name: supero_plan_gb, dtype: int64\n"
     ]
    },
    {
     "data": {
      "text/html": [
       "<div>\n",
       "<style scoped>\n",
       "    .dataframe tbody tr th:only-of-type {\n",
       "        vertical-align: middle;\n",
       "    }\n",
       "\n",
       "    .dataframe tbody tr th {\n",
       "        vertical-align: top;\n",
       "    }\n",
       "\n",
       "    .dataframe thead th {\n",
       "        text-align: right;\n",
       "    }\n",
       "</style>\n",
       "<table border=\"1\" class=\"dataframe\">\n",
       "  <thead>\n",
       "    <tr style=\"text-align: right;\">\n",
       "      <th></th>\n",
       "      <th>user_id</th>\n",
       "      <th>year_month</th>\n",
       "      <th>total_gb_mes</th>\n",
       "      <th>plan</th>\n",
       "      <th>gb_included</th>\n",
       "      <th>supero_plan_gb</th>\n",
       "    </tr>\n",
       "  </thead>\n",
       "  <tbody>\n",
       "    <tr>\n",
       "      <th>434</th>\n",
       "      <td>1091</td>\n",
       "      <td>2018-10</td>\n",
       "      <td>4</td>\n",
       "      <td>ultimate</td>\n",
       "      <td>30.0</td>\n",
       "      <td>False</td>\n",
       "    </tr>\n",
       "    <tr>\n",
       "      <th>2043</th>\n",
       "      <td>1440</td>\n",
       "      <td>2018-08</td>\n",
       "      <td>22</td>\n",
       "      <td>surf</td>\n",
       "      <td>15.0</td>\n",
       "      <td>True</td>\n",
       "    </tr>\n",
       "    <tr>\n",
       "      <th>82</th>\n",
       "      <td>1022</td>\n",
       "      <td>2018-12</td>\n",
       "      <td>18</td>\n",
       "      <td>surf</td>\n",
       "      <td>15.0</td>\n",
       "      <td>True</td>\n",
       "    </tr>\n",
       "    <tr>\n",
       "      <th>2000</th>\n",
       "      <td>1432</td>\n",
       "      <td>2018-10</td>\n",
       "      <td>9</td>\n",
       "      <td>ultimate</td>\n",
       "      <td>30.0</td>\n",
       "      <td>False</td>\n",
       "    </tr>\n",
       "    <tr>\n",
       "      <th>717</th>\n",
       "      <td>1151</td>\n",
       "      <td>2018-09</td>\n",
       "      <td>15</td>\n",
       "      <td>surf</td>\n",
       "      <td>15.0</td>\n",
       "      <td>False</td>\n",
       "    </tr>\n",
       "    <tr>\n",
       "      <th>606</th>\n",
       "      <td>1128</td>\n",
       "      <td>2018-09</td>\n",
       "      <td>21</td>\n",
       "      <td>ultimate</td>\n",
       "      <td>30.0</td>\n",
       "      <td>False</td>\n",
       "    </tr>\n",
       "    <tr>\n",
       "      <th>381</th>\n",
       "      <td>1080</td>\n",
       "      <td>2018-09</td>\n",
       "      <td>25</td>\n",
       "      <td>surf</td>\n",
       "      <td>15.0</td>\n",
       "      <td>True</td>\n",
       "    </tr>\n",
       "    <tr>\n",
       "      <th>554</th>\n",
       "      <td>1117</td>\n",
       "      <td>2018-12</td>\n",
       "      <td>25</td>\n",
       "      <td>surf</td>\n",
       "      <td>15.0</td>\n",
       "      <td>True</td>\n",
       "    </tr>\n",
       "    <tr>\n",
       "      <th>220</th>\n",
       "      <td>1053</td>\n",
       "      <td>2018-10</td>\n",
       "      <td>17</td>\n",
       "      <td>surf</td>\n",
       "      <td>15.0</td>\n",
       "      <td>True</td>\n",
       "    </tr>\n",
       "    <tr>\n",
       "      <th>213</th>\n",
       "      <td>1050</td>\n",
       "      <td>2018-12</td>\n",
       "      <td>17</td>\n",
       "      <td>ultimate</td>\n",
       "      <td>30.0</td>\n",
       "      <td>False</td>\n",
       "    </tr>\n",
       "  </tbody>\n",
       "</table>\n",
       "</div>"
      ],
      "text/plain": [
       "      user_id year_month  total_gb_mes      plan  gb_included  supero_plan_gb\n",
       "434      1091    2018-10             4  ultimate         30.0           False\n",
       "2043     1440    2018-08            22      surf         15.0            True\n",
       "82       1022    2018-12            18      surf         15.0            True\n",
       "2000     1432    2018-10             9  ultimate         30.0           False\n",
       "717      1151    2018-09            15      surf         15.0           False\n",
       "606      1128    2018-09            21  ultimate         30.0           False\n",
       "381      1080    2018-09            25      surf         15.0            True\n",
       "554      1117    2018-12            25      surf         15.0            True\n",
       "220      1053    2018-10            17      surf         15.0            True\n",
       "213      1050    2018-12            17  ultimate         30.0           False"
      ]
     },
     "execution_count": 279,
     "metadata": {},
     "output_type": "execute_result"
    }
   ],
   "source": [
    "#Crear columna año-mes para agrupar\n",
    "df_internet['year_month'] = df_internet['session_date'].dt.to_period('M').astype(str)\n",
    "#Sumar total de MB usados por usuario y mes\n",
    "df_mb_mes = df_internet.groupby(['user_id', 'year_month']).agg(\n",
    "    total_mb_mes=('mb_used', 'sum')\n",
    ").reset_index()\n",
    "#Convertir MB a GB\n",
    "df_mb_mes['total_gb_mes'] = df_mb_mes['total_mb_mes'] / 1024\n",
    "#Redondear hacia arriba los GB usados\n",
    "df_mb_mes['total_gb_mes'] = np.ceil(df_mb_mes['total_gb_mes']).astype(int)\n",
    "#Agregar columna del plan de usuario\n",
    "df_mb_mes = df_mb_mes.merge(df_users[['user_id', 'plan']], on='user_id', how='left')\n",
    "#Agregar columna MB incluidos del plan\n",
    "df_mb_mes = df_mb_mes.merge(\n",
    "    df_plans[['plan_name', 'mb_per_month_included']],\n",
    "    left_on='plan',\n",
    "    right_on='plan_name',\n",
    "    how='left'\n",
    ")\n",
    "#Convertir MB incluidos a GB incluidos\n",
    "df_mb_mes['gb_included'] = df_mb_mes['mb_per_month_included'] / 1024\n",
    "#Eliminar columnas innecesarias\n",
    "df_mb_mes = df_mb_mes.drop(columns=['plan_name', 'mb_per_month_included', 'total_mb_mes'])\n",
    "#Comparar el consumo del mes con los datos consumidos por mes\n",
    "df_mb_mes['supero_plan_gb'] = df_mb_mes['total_gb_mes'] > df_mb_mes['gb_included']\n",
    "print(df_mb_mes['supero_plan_gb'].value_counts())\n",
    "df_mb_mes.sample(10)"
   ]
  },
  {
   "cell_type": "markdown",
   "metadata": {},
   "source": [
    "<div class=\"alert alert-block alert-success\">\n",
    "<b>Comentario del revisor (1ra Iteración)</b> <a class=“tocSkip”></a>\n",
    "\n",
    "Excelente trabajo en el análisis preliminar de los datasets. Usaste correctamente las funciones `info` y `sample` para revisar la estructura y el contenido de los datos, lo que te permitió realizar los ajustes necesarios. Esto facilitará el análisis de los datos y el desarrollo de las demás etapas del proyecto.\n",
    "\n",
    "\n",
    "</div>"
   ]
  },
  {
   "cell_type": "markdown",
   "metadata": {
    "id": "3UA2cqIW0q1E"
   },
   "source": [
    "## Estudiar las condiciones de las tarifas"
   ]
  },
  {
   "cell_type": "code",
   "execution_count": 280,
   "metadata": {
    "id": "i409op8p0q1F"
   },
   "outputs": [
    {
     "data": {
      "text/html": [
       "<div>\n",
       "<style scoped>\n",
       "    .dataframe tbody tr th:only-of-type {\n",
       "        vertical-align: middle;\n",
       "    }\n",
       "\n",
       "    .dataframe tbody tr th {\n",
       "        vertical-align: top;\n",
       "    }\n",
       "\n",
       "    .dataframe thead th {\n",
       "        text-align: right;\n",
       "    }\n",
       "</style>\n",
       "<table border=\"1\" class=\"dataframe\">\n",
       "  <thead>\n",
       "    <tr style=\"text-align: right;\">\n",
       "      <th></th>\n",
       "      <th>messages_included</th>\n",
       "      <th>mb_per_month_included</th>\n",
       "      <th>minutes_included</th>\n",
       "      <th>usd_monthly_pay</th>\n",
       "      <th>usd_per_gb</th>\n",
       "      <th>usd_per_message</th>\n",
       "      <th>usd_per_minute</th>\n",
       "      <th>plan_name</th>\n",
       "      <th>gb_per_month_included</th>\n",
       "      <th>costo_gigas</th>\n",
       "      <th>costo_minuto</th>\n",
       "      <th>costo_mensaje</th>\n",
       "      <th>total_costo</th>\n",
       "      <th>ahorro_plan</th>\n",
       "    </tr>\n",
       "  </thead>\n",
       "  <tbody>\n",
       "    <tr>\n",
       "      <th>0</th>\n",
       "      <td>50</td>\n",
       "      <td>15360</td>\n",
       "      <td>500</td>\n",
       "      <td>20</td>\n",
       "      <td>10</td>\n",
       "      <td>0.03</td>\n",
       "      <td>0.03</td>\n",
       "      <td>surf</td>\n",
       "      <td>15.0</td>\n",
       "      <td>150.0</td>\n",
       "      <td>15.0</td>\n",
       "      <td>1.5</td>\n",
       "      <td>166.5</td>\n",
       "      <td>146.5</td>\n",
       "    </tr>\n",
       "    <tr>\n",
       "      <th>1</th>\n",
       "      <td>1000</td>\n",
       "      <td>30720</td>\n",
       "      <td>3000</td>\n",
       "      <td>70</td>\n",
       "      <td>7</td>\n",
       "      <td>0.01</td>\n",
       "      <td>0.01</td>\n",
       "      <td>ultimate</td>\n",
       "      <td>30.0</td>\n",
       "      <td>210.0</td>\n",
       "      <td>30.0</td>\n",
       "      <td>10.0</td>\n",
       "      <td>250.0</td>\n",
       "      <td>180.0</td>\n",
       "    </tr>\n",
       "  </tbody>\n",
       "</table>\n",
       "</div>"
      ],
      "text/plain": [
       "   messages_included  mb_per_month_included  minutes_included  \\\n",
       "0                 50                  15360               500   \n",
       "1               1000                  30720              3000   \n",
       "\n",
       "   usd_monthly_pay  usd_per_gb  usd_per_message  usd_per_minute plan_name  \\\n",
       "0               20          10             0.03            0.03      surf   \n",
       "1               70           7             0.01            0.01  ultimate   \n",
       "\n",
       "   gb_per_month_included  costo_gigas  costo_minuto  costo_mensaje  \\\n",
       "0                   15.0        150.0          15.0            1.5   \n",
       "1                   30.0        210.0          30.0           10.0   \n",
       "\n",
       "   total_costo  ahorro_plan  \n",
       "0        166.5        146.5  \n",
       "1        250.0        180.0  "
      ]
     },
     "execution_count": 280,
     "metadata": {},
     "output_type": "execute_result"
    }
   ],
   "source": [
    "# Imprime las condiciones de la tarifa y asegúrate de que te quedan claras\n",
    "df_plans.head()"
   ]
  },
  {
   "cell_type": "markdown",
   "metadata": {
    "id": "hMR1tP5d0q1F"
   },
   "source": [
    "## Agregar datos por usuario"
   ]
  },
  {
   "cell_type": "code",
   "execution_count": 281,
   "metadata": {
    "id": "A332cedB0q1G"
   },
   "outputs": [
    {
     "data": {
      "text/html": [
       "<div>\n",
       "<style scoped>\n",
       "    .dataframe tbody tr th:only-of-type {\n",
       "        vertical-align: middle;\n",
       "    }\n",
       "\n",
       "    .dataframe tbody tr th {\n",
       "        vertical-align: top;\n",
       "    }\n",
       "\n",
       "    .dataframe thead th {\n",
       "        text-align: right;\n",
       "    }\n",
       "</style>\n",
       "<table border=\"1\" class=\"dataframe\">\n",
       "  <thead>\n",
       "    <tr style=\"text-align: right;\">\n",
       "      <th></th>\n",
       "      <th>user_id</th>\n",
       "      <th>year_month</th>\n",
       "      <th>numero_llamadas_mes</th>\n",
       "    </tr>\n",
       "  </thead>\n",
       "  <tbody>\n",
       "    <tr>\n",
       "      <th>1342</th>\n",
       "      <td>1295</td>\n",
       "      <td>2018-09</td>\n",
       "      <td>79</td>\n",
       "    </tr>\n",
       "    <tr>\n",
       "      <th>1512</th>\n",
       "      <td>1335</td>\n",
       "      <td>2018-06</td>\n",
       "      <td>37</td>\n",
       "    </tr>\n",
       "    <tr>\n",
       "      <th>1192</th>\n",
       "      <td>1258</td>\n",
       "      <td>2018-08</td>\n",
       "      <td>6</td>\n",
       "    </tr>\n",
       "    <tr>\n",
       "      <th>1324</th>\n",
       "      <td>1291</td>\n",
       "      <td>2018-10</td>\n",
       "      <td>91</td>\n",
       "    </tr>\n",
       "    <tr>\n",
       "      <th>226</th>\n",
       "      <td>1054</td>\n",
       "      <td>2018-07</td>\n",
       "      <td>44</td>\n",
       "    </tr>\n",
       "  </tbody>\n",
       "</table>\n",
       "</div>"
      ],
      "text/plain": [
       "      user_id year_month  numero_llamadas_mes\n",
       "1342     1295    2018-09                   79\n",
       "1512     1335    2018-06                   37\n",
       "1192     1258    2018-08                    6\n",
       "1324     1291    2018-10                   91\n",
       "226      1054    2018-07                   44"
      ]
     },
     "execution_count": 281,
     "metadata": {},
     "output_type": "execute_result"
    }
   ],
   "source": [
    "# Calcula el número de llamadas hechas por cada usuario al mes. Guarda el resultado.\n",
    "df_llamadas_mes = df_calls.groupby(['user_id', 'year_month']).agg(\n",
    "    numero_llamadas_mes=('duration', 'count')\n",
    ").reset_index()\n",
    "df_llamadas_mes.sample(5)"
   ]
  },
  {
   "cell_type": "code",
   "execution_count": 282,
   "metadata": {
    "id": "aw2cmuql0q1G"
   },
   "outputs": [
    {
     "data": {
      "text/html": [
       "<div>\n",
       "<style scoped>\n",
       "    .dataframe tbody tr th:only-of-type {\n",
       "        vertical-align: middle;\n",
       "    }\n",
       "\n",
       "    .dataframe tbody tr th {\n",
       "        vertical-align: top;\n",
       "    }\n",
       "\n",
       "    .dataframe thead th {\n",
       "        text-align: right;\n",
       "    }\n",
       "</style>\n",
       "<table border=\"1\" class=\"dataframe\">\n",
       "  <thead>\n",
       "    <tr style=\"text-align: right;\">\n",
       "      <th></th>\n",
       "      <th>user_id</th>\n",
       "      <th>year_month</th>\n",
       "      <th>total_minutos_mes</th>\n",
       "    </tr>\n",
       "  </thead>\n",
       "  <tbody>\n",
       "    <tr>\n",
       "      <th>1045</th>\n",
       "      <td>1226</td>\n",
       "      <td>2018-07</td>\n",
       "      <td>411.47</td>\n",
       "    </tr>\n",
       "    <tr>\n",
       "      <th>1953</th>\n",
       "      <td>1426</td>\n",
       "      <td>2018-11</td>\n",
       "      <td>288.30</td>\n",
       "    </tr>\n",
       "    <tr>\n",
       "      <th>2001</th>\n",
       "      <td>1438</td>\n",
       "      <td>2018-11</td>\n",
       "      <td>263.09</td>\n",
       "    </tr>\n",
       "    <tr>\n",
       "      <th>1711</th>\n",
       "      <td>1374</td>\n",
       "      <td>2018-12</td>\n",
       "      <td>252.79</td>\n",
       "    </tr>\n",
       "    <tr>\n",
       "      <th>697</th>\n",
       "      <td>1151</td>\n",
       "      <td>2018-09</td>\n",
       "      <td>472.18</td>\n",
       "    </tr>\n",
       "  </tbody>\n",
       "</table>\n",
       "</div>"
      ],
      "text/plain": [
       "      user_id year_month  total_minutos_mes\n",
       "1045     1226    2018-07             411.47\n",
       "1953     1426    2018-11             288.30\n",
       "2001     1438    2018-11             263.09\n",
       "1711     1374    2018-12             252.79\n",
       "697      1151    2018-09             472.18"
      ]
     },
     "execution_count": 282,
     "metadata": {},
     "output_type": "execute_result"
    }
   ],
   "source": [
    "# Calcula la cantidad de minutos usados por cada usuario al mes. Guarda el resultado.\n",
    "df_minutos_mes = df_calls.groupby(['user_id', 'year_month']).agg(\n",
    "    total_minutos_mes=('duration', 'sum')\n",
    ").reset_index()\n",
    "df_minutos_mes.sample(5)"
   ]
  },
  {
   "cell_type": "code",
   "execution_count": 283,
   "metadata": {
    "id": "CcQvNHn60q1G"
   },
   "outputs": [
    {
     "data": {
      "text/html": [
       "<div>\n",
       "<style scoped>\n",
       "    .dataframe tbody tr th:only-of-type {\n",
       "        vertical-align: middle;\n",
       "    }\n",
       "\n",
       "    .dataframe tbody tr th {\n",
       "        vertical-align: top;\n",
       "    }\n",
       "\n",
       "    .dataframe thead th {\n",
       "        text-align: right;\n",
       "    }\n",
       "</style>\n",
       "<table border=\"1\" class=\"dataframe\">\n",
       "  <thead>\n",
       "    <tr style=\"text-align: right;\">\n",
       "      <th></th>\n",
       "      <th>user_id</th>\n",
       "      <th>year_month</th>\n",
       "      <th>total_mensajes_mes</th>\n",
       "    </tr>\n",
       "  </thead>\n",
       "  <tbody>\n",
       "    <tr>\n",
       "      <th>1679</th>\n",
       "      <td>1460</td>\n",
       "      <td>2018-10</td>\n",
       "      <td>40</td>\n",
       "    </tr>\n",
       "    <tr>\n",
       "      <th>1642</th>\n",
       "      <td>1448</td>\n",
       "      <td>2018-12</td>\n",
       "      <td>59</td>\n",
       "    </tr>\n",
       "    <tr>\n",
       "      <th>1307</th>\n",
       "      <td>1351</td>\n",
       "      <td>2018-11</td>\n",
       "      <td>18</td>\n",
       "    </tr>\n",
       "    <tr>\n",
       "      <th>1781</th>\n",
       "      <td>1491</td>\n",
       "      <td>2018-04</td>\n",
       "      <td>6</td>\n",
       "    </tr>\n",
       "    <tr>\n",
       "      <th>1676</th>\n",
       "      <td>1460</td>\n",
       "      <td>2018-07</td>\n",
       "      <td>44</td>\n",
       "    </tr>\n",
       "  </tbody>\n",
       "</table>\n",
       "</div>"
      ],
      "text/plain": [
       "      user_id year_month  total_mensajes_mes\n",
       "1679     1460    2018-10                  40\n",
       "1642     1448    2018-12                  59\n",
       "1307     1351    2018-11                  18\n",
       "1781     1491    2018-04                   6\n",
       "1676     1460    2018-07                  44"
      ]
     },
     "execution_count": 283,
     "metadata": {},
     "output_type": "execute_result"
    }
   ],
   "source": [
    "# Calcula el número de mensajes enviados por cada usuario al mes. Guarda el resultado.\n",
    "df_mensajes_mes = df_messages.groupby(['user_id', 'year_month']).agg(\n",
    "    total_mensajes_mes=('id', 'count')\n",
    ").reset_index()\n",
    "df_mensajes_mes.sample(5)"
   ]
  },
  {
   "cell_type": "code",
   "execution_count": 284,
   "metadata": {
    "id": "H1AqN2eG0q1H"
   },
   "outputs": [
    {
     "data": {
      "text/html": [
       "<div>\n",
       "<style scoped>\n",
       "    .dataframe tbody tr th:only-of-type {\n",
       "        vertical-align: middle;\n",
       "    }\n",
       "\n",
       "    .dataframe tbody tr th {\n",
       "        vertical-align: top;\n",
       "    }\n",
       "\n",
       "    .dataframe thead th {\n",
       "        text-align: right;\n",
       "    }\n",
       "</style>\n",
       "<table border=\"1\" class=\"dataframe\">\n",
       "  <thead>\n",
       "    <tr style=\"text-align: right;\">\n",
       "      <th></th>\n",
       "      <th>user_id</th>\n",
       "      <th>year_month</th>\n",
       "      <th>total_mb_mes</th>\n",
       "    </tr>\n",
       "  </thead>\n",
       "  <tbody>\n",
       "    <tr>\n",
       "      <th>365</th>\n",
       "      <td>1077</td>\n",
       "      <td>2018-06</td>\n",
       "      <td>15390.56</td>\n",
       "    </tr>\n",
       "    <tr>\n",
       "      <th>719</th>\n",
       "      <td>1151</td>\n",
       "      <td>2018-11</td>\n",
       "      <td>16671.63</td>\n",
       "    </tr>\n",
       "    <tr>\n",
       "      <th>1518</th>\n",
       "      <td>1331</td>\n",
       "      <td>2018-08</td>\n",
       "      <td>16803.26</td>\n",
       "    </tr>\n",
       "    <tr>\n",
       "      <th>2138</th>\n",
       "      <td>1466</td>\n",
       "      <td>2018-08</td>\n",
       "      <td>14284.36</td>\n",
       "    </tr>\n",
       "    <tr>\n",
       "      <th>1008</th>\n",
       "      <td>1211</td>\n",
       "      <td>2018-11</td>\n",
       "      <td>27256.47</td>\n",
       "    </tr>\n",
       "  </tbody>\n",
       "</table>\n",
       "</div>"
      ],
      "text/plain": [
       "      user_id year_month  total_mb_mes\n",
       "365      1077    2018-06      15390.56\n",
       "719      1151    2018-11      16671.63\n",
       "1518     1331    2018-08      16803.26\n",
       "2138     1466    2018-08      14284.36\n",
       "1008     1211    2018-11      27256.47"
      ]
     },
     "execution_count": 284,
     "metadata": {},
     "output_type": "execute_result"
    }
   ],
   "source": [
    "# Calcula el volumen del tráfico de Internet usado por cada usuario al mes. Guarda el resultado.\n",
    "df_mb_mes = df_internet.groupby(['user_id', 'year_month']).agg(\n",
    "    total_mb_mes=('mb_used', 'sum')\n",
    ").reset_index()\n",
    "df_mb_mes.sample(5)"
   ]
  },
  {
   "cell_type": "code",
   "execution_count": 285,
   "metadata": {
    "id": "FW99ykyf0q1H"
   },
   "outputs": [
    {
     "data": {
      "text/html": [
       "<div>\n",
       "<style scoped>\n",
       "    .dataframe tbody tr th:only-of-type {\n",
       "        vertical-align: middle;\n",
       "    }\n",
       "\n",
       "    .dataframe tbody tr th {\n",
       "        vertical-align: top;\n",
       "    }\n",
       "\n",
       "    .dataframe thead th {\n",
       "        text-align: right;\n",
       "    }\n",
       "</style>\n",
       "<table border=\"1\" class=\"dataframe\">\n",
       "  <thead>\n",
       "    <tr style=\"text-align: right;\">\n",
       "      <th></th>\n",
       "      <th>user_id</th>\n",
       "      <th>year_month</th>\n",
       "      <th>total_mb_mes</th>\n",
       "      <th>numero_llamadas_mes</th>\n",
       "      <th>total_minutos_mes</th>\n",
       "      <th>total_mensajes_mes</th>\n",
       "    </tr>\n",
       "  </thead>\n",
       "  <tbody>\n",
       "    <tr>\n",
       "      <th>2165</th>\n",
       "      <td>1472</td>\n",
       "      <td>2018-09</td>\n",
       "      <td>16502.77</td>\n",
       "      <td>80.0</td>\n",
       "      <td>464.86</td>\n",
       "      <td>40.0</td>\n",
       "    </tr>\n",
       "    <tr>\n",
       "      <th>841</th>\n",
       "      <td>1174</td>\n",
       "      <td>2018-12</td>\n",
       "      <td>12347.72</td>\n",
       "      <td>92.0</td>\n",
       "      <td>610.78</td>\n",
       "      <td>76.0</td>\n",
       "    </tr>\n",
       "    <tr>\n",
       "      <th>608</th>\n",
       "      <td>1128</td>\n",
       "      <td>2018-11</td>\n",
       "      <td>18740.37</td>\n",
       "      <td>5.0</td>\n",
       "      <td>43.23</td>\n",
       "      <td>42.0</td>\n",
       "    </tr>\n",
       "    <tr>\n",
       "      <th>2190</th>\n",
       "      <td>1478</td>\n",
       "      <td>2018-10</td>\n",
       "      <td>12314.99</td>\n",
       "      <td>56.0</td>\n",
       "      <td>348.03</td>\n",
       "      <td>12.0</td>\n",
       "    </tr>\n",
       "    <tr>\n",
       "      <th>573</th>\n",
       "      <td>1122</td>\n",
       "      <td>2018-08</td>\n",
       "      <td>29045.27</td>\n",
       "      <td>68.0</td>\n",
       "      <td>472.49</td>\n",
       "      <td>22.0</td>\n",
       "    </tr>\n",
       "  </tbody>\n",
       "</table>\n",
       "</div>"
      ],
      "text/plain": [
       "      user_id year_month  total_mb_mes  numero_llamadas_mes  \\\n",
       "2165     1472    2018-09      16502.77                 80.0   \n",
       "841      1174    2018-12      12347.72                 92.0   \n",
       "608      1128    2018-11      18740.37                  5.0   \n",
       "2190     1478    2018-10      12314.99                 56.0   \n",
       "573      1122    2018-08      29045.27                 68.0   \n",
       "\n",
       "      total_minutos_mes  total_mensajes_mes  \n",
       "2165             464.86                40.0  \n",
       "841              610.78                76.0  \n",
       "608               43.23                42.0  \n",
       "2190             348.03                12.0  \n",
       "573              472.49                22.0  "
      ]
     },
     "execution_count": 285,
     "metadata": {},
     "output_type": "execute_result"
    }
   ],
   "source": [
    "# Fusiona los datos de llamadas, minutos, mensajes e Internet con base en user_id y month\n",
    "df_total = df_mb_mes.merge(\n",
    "    df_llamadas_mes,\n",
    "    on=['user_id', 'year_month'],\n",
    "    how='left'\n",
    ")\n",
    "df_total = df_total.merge(\n",
    "    df_minutos_mes,\n",
    "    on=['user_id', 'year_month'],\n",
    "    how='left'\n",
    ")\n",
    "df_total = df_total.merge(\n",
    "    df_mensajes_mes,\n",
    "    on=['user_id', 'year_month'],\n",
    "    how='left'\n",
    ")\n",
    "df_total = df_total.fillna(0)\n",
    "df_total.sample(5)"
   ]
  },
  {
   "cell_type": "markdown",
   "metadata": {},
   "source": [
    "<div class=\"alert alert-block alert-danger\">\n",
    "<b>Comentario del revisor (1ra Iteración)</b> <a class=“tocSkip”></a>\n",
    "\n",
    "Hiciste una correcta agrupación de los datos combinando `groupby`  y `merge`, pero recuerda que, según el enunciado del proyecto, los valores de duración de llamadas y consumo de internet deben redondearse hacia arriba, ya que el cobro se hace por minuto y GB completo. Para esto debes tener en cuenta lo siguiente:\n",
    "\n",
    "* **Llamadas:** Primero realiza el redondeo hacia arriba de los minutos para cada llamada y luego sumas los minutos totales por usuario para cada mes.\n",
    "\n",
    "* **Internet:** Primero sumas el consumo total en MB para cada usuario por mes, luego conviertes ese valor a GB y finalmente realizas el redondeo hacia arriba.\n",
    "\n",
    "Los valores finales que obtienes para cada usuario, los comparas con los minutos y GB incluidos en cada plan, con el fin de establecer si hubo un exceso en el consumo y hacer el cobro respectivo.\n",
    "\n",
    "</div>"
   ]
  },
  {
   "cell_type": "code",
   "execution_count": 286,
   "metadata": {
    "id": "0dNOXHag0q1H"
   },
   "outputs": [
    {
     "data": {
      "text/html": [
       "<div>\n",
       "<style scoped>\n",
       "    .dataframe tbody tr th:only-of-type {\n",
       "        vertical-align: middle;\n",
       "    }\n",
       "\n",
       "    .dataframe tbody tr th {\n",
       "        vertical-align: top;\n",
       "    }\n",
       "\n",
       "    .dataframe thead th {\n",
       "        text-align: right;\n",
       "    }\n",
       "</style>\n",
       "<table border=\"1\" class=\"dataframe\">\n",
       "  <thead>\n",
       "    <tr style=\"text-align: right;\">\n",
       "      <th></th>\n",
       "      <th>user_id</th>\n",
       "      <th>year_month</th>\n",
       "      <th>total_mb_mes</th>\n",
       "      <th>numero_llamadas_mes</th>\n",
       "      <th>total_minutos_mes</th>\n",
       "      <th>total_mensajes_mes</th>\n",
       "      <th>plan</th>\n",
       "      <th>messages_included</th>\n",
       "      <th>mb_per_month_included</th>\n",
       "      <th>minutes_included</th>\n",
       "      <th>usd_monthly_pay</th>\n",
       "      <th>usd_per_gb</th>\n",
       "      <th>usd_per_message</th>\n",
       "      <th>usd_per_minute</th>\n",
       "      <th>gb_per_month_included</th>\n",
       "      <th>costo_gigas</th>\n",
       "      <th>costo_minuto</th>\n",
       "      <th>costo_mensaje</th>\n",
       "      <th>total_costo</th>\n",
       "      <th>ahorro_plan</th>\n",
       "    </tr>\n",
       "  </thead>\n",
       "  <tbody>\n",
       "    <tr>\n",
       "      <th>2109</th>\n",
       "      <td>1459</td>\n",
       "      <td>2018-11</td>\n",
       "      <td>21549.01</td>\n",
       "      <td>70</td>\n",
       "      <td>440</td>\n",
       "      <td>0</td>\n",
       "      <td>ultimate</td>\n",
       "      <td>1000</td>\n",
       "      <td>30720</td>\n",
       "      <td>3000</td>\n",
       "      <td>70</td>\n",
       "      <td>7</td>\n",
       "      <td>0.01</td>\n",
       "      <td>0.01</td>\n",
       "      <td>30.0</td>\n",
       "      <td>210.0</td>\n",
       "      <td>30.0</td>\n",
       "      <td>10.0</td>\n",
       "      <td>250.0</td>\n",
       "      <td>180.0</td>\n",
       "    </tr>\n",
       "    <tr>\n",
       "      <th>794</th>\n",
       "      <td>1165</td>\n",
       "      <td>2018-11</td>\n",
       "      <td>18911.25</td>\n",
       "      <td>22</td>\n",
       "      <td>114</td>\n",
       "      <td>42</td>\n",
       "      <td>surf</td>\n",
       "      <td>50</td>\n",
       "      <td>15360</td>\n",
       "      <td>500</td>\n",
       "      <td>20</td>\n",
       "      <td>10</td>\n",
       "      <td>0.03</td>\n",
       "      <td>0.03</td>\n",
       "      <td>15.0</td>\n",
       "      <td>150.0</td>\n",
       "      <td>15.0</td>\n",
       "      <td>1.5</td>\n",
       "      <td>166.5</td>\n",
       "      <td>146.5</td>\n",
       "    </tr>\n",
       "    <tr>\n",
       "      <th>719</th>\n",
       "      <td>1151</td>\n",
       "      <td>2018-11</td>\n",
       "      <td>16671.63</td>\n",
       "      <td>96</td>\n",
       "      <td>611</td>\n",
       "      <td>63</td>\n",
       "      <td>surf</td>\n",
       "      <td>50</td>\n",
       "      <td>15360</td>\n",
       "      <td>500</td>\n",
       "      <td>20</td>\n",
       "      <td>10</td>\n",
       "      <td>0.03</td>\n",
       "      <td>0.03</td>\n",
       "      <td>15.0</td>\n",
       "      <td>150.0</td>\n",
       "      <td>15.0</td>\n",
       "      <td>1.5</td>\n",
       "      <td>166.5</td>\n",
       "      <td>146.5</td>\n",
       "    </tr>\n",
       "    <tr>\n",
       "      <th>1986</th>\n",
       "      <td>1427</td>\n",
       "      <td>2018-07</td>\n",
       "      <td>10185.72</td>\n",
       "      <td>47</td>\n",
       "      <td>290</td>\n",
       "      <td>0</td>\n",
       "      <td>ultimate</td>\n",
       "      <td>1000</td>\n",
       "      <td>30720</td>\n",
       "      <td>3000</td>\n",
       "      <td>70</td>\n",
       "      <td>7</td>\n",
       "      <td>0.01</td>\n",
       "      <td>0.01</td>\n",
       "      <td>30.0</td>\n",
       "      <td>210.0</td>\n",
       "      <td>30.0</td>\n",
       "      <td>10.0</td>\n",
       "      <td>250.0</td>\n",
       "      <td>180.0</td>\n",
       "    </tr>\n",
       "    <tr>\n",
       "      <th>1399</th>\n",
       "      <td>1304</td>\n",
       "      <td>2018-10</td>\n",
       "      <td>3465.51</td>\n",
       "      <td>5</td>\n",
       "      <td>32</td>\n",
       "      <td>7</td>\n",
       "      <td>ultimate</td>\n",
       "      <td>1000</td>\n",
       "      <td>30720</td>\n",
       "      <td>3000</td>\n",
       "      <td>70</td>\n",
       "      <td>7</td>\n",
       "      <td>0.01</td>\n",
       "      <td>0.01</td>\n",
       "      <td>30.0</td>\n",
       "      <td>210.0</td>\n",
       "      <td>30.0</td>\n",
       "      <td>10.0</td>\n",
       "      <td>250.0</td>\n",
       "      <td>180.0</td>\n",
       "    </tr>\n",
       "  </tbody>\n",
       "</table>\n",
       "</div>"
      ],
      "text/plain": [
       "      user_id year_month  total_mb_mes  numero_llamadas_mes  \\\n",
       "2109     1459    2018-11      21549.01                   70   \n",
       "794      1165    2018-11      18911.25                   22   \n",
       "719      1151    2018-11      16671.63                   96   \n",
       "1986     1427    2018-07      10185.72                   47   \n",
       "1399     1304    2018-10       3465.51                    5   \n",
       "\n",
       "      total_minutos_mes  total_mensajes_mes      plan  messages_included  \\\n",
       "2109                440                   0  ultimate               1000   \n",
       "794                 114                  42      surf                 50   \n",
       "719                 611                  63      surf                 50   \n",
       "1986                290                   0  ultimate               1000   \n",
       "1399                 32                   7  ultimate               1000   \n",
       "\n",
       "      mb_per_month_included  minutes_included  usd_monthly_pay  usd_per_gb  \\\n",
       "2109                  30720              3000               70           7   \n",
       "794                   15360               500               20          10   \n",
       "719                   15360               500               20          10   \n",
       "1986                  30720              3000               70           7   \n",
       "1399                  30720              3000               70           7   \n",
       "\n",
       "      usd_per_message  usd_per_minute  gb_per_month_included  costo_gigas  \\\n",
       "2109             0.01            0.01                   30.0        210.0   \n",
       "794              0.03            0.03                   15.0        150.0   \n",
       "719              0.03            0.03                   15.0        150.0   \n",
       "1986             0.01            0.01                   30.0        210.0   \n",
       "1399             0.01            0.01                   30.0        210.0   \n",
       "\n",
       "      costo_minuto  costo_mensaje  total_costo  ahorro_plan  \n",
       "2109          30.0           10.0        250.0        180.0  \n",
       "794           15.0            1.5        166.5        146.5  \n",
       "719           15.0            1.5        166.5        146.5  \n",
       "1986          30.0           10.0        250.0        180.0  \n",
       "1399          30.0           10.0        250.0        180.0  "
      ]
     },
     "execution_count": 286,
     "metadata": {},
     "output_type": "execute_result"
    }
   ],
   "source": [
    "# Verificar los contadores en int\n",
    "cols_int = ['numero_llamadas_mes', 'total_minutos_mes', 'total_mensajes_mes']\n",
    "df_total[cols_int] = df_total[cols_int].fillna(0).astype(int)\n",
    "# Incluir la columna plan \n",
    "df_total = df_total.merge(\n",
    "    df_users[['user_id', 'plan']],\n",
    "    on='user_id',\n",
    "    how='left'\n",
    ")\n",
    "#Agregar la informacion de la tarifa\n",
    "df_total = df_total.merge(\n",
    "    df_plans,\n",
    "    left_on='plan',\n",
    "    right_on='plan_name',\n",
    "    how='left'\n",
    ")\n",
    "df_total = df_total.drop(columns=['plan_name'])\n",
    "df_total.sample(5)\n"
   ]
  },
  {
   "cell_type": "code",
   "execution_count": 293,
   "metadata": {
    "id": "5FGCf_c60q1I"
   },
   "outputs": [
    {
     "name": "stdout",
     "output_type": "stream",
     "text": [
      "   user_id year_month      plan  ingreso_total_mes\n",
      "0     1000    2018-12  ultimate           13170.29\n",
      "1     1001    2018-08      surf           69061.50\n",
      "2     1001    2018-09      surf          133018.20\n",
      "3     1001    2018-10      surf          223174.99\n",
      "4     1001    2018-11      surf          184913.00\n"
     ]
    }
   ],
   "source": [
    "# Calcula el ingreso mensual para cada usuario\n",
    "#Excedente de gigas (GB)\n",
    "df_total['exceso_gb'] = (df_total['total_mb_mes'] - df_total['gb_per_month_included']).clip(lower=0)\n",
    "#Excedente de minutos\n",
    "df_total['exceso_minutos'] = (df_total['total_minutos_mes'] - df_total['minutes_included']).clip(lower=0)\n",
    "#Excedente de mensajes\n",
    "df_total['exceso_mensajes'] = (df_total['total_mensajes_mes'] - df_total['messages_included']).clip(lower=0)\n",
    "#Costos por excedentes\n",
    "df_total['costo_exceso_gb'] = df_total['exceso_gb'] * df_total['usd_per_gb']\n",
    "df_total['costo_exceso_minutos'] = df_total['exceso_minutos'] * df_total['usd_per_minute']\n",
    "df_total['costo_exceso_mensajes'] = df_total['exceso_mensajes'] * df_total['usd_per_message']\n",
    "#Ingreso mensual final (tarifa fija + excedentes)\n",
    "df_total['ingreso_total_mes'] = (\n",
    "    df_total['usd_monthly_pay'] +\n",
    "    df_total['costo_exceso_gb'] +\n",
    "    df_total['costo_exceso_minutos'] +\n",
    "    df_total['costo_exceso_mensajes']\n",
    ").round(2)\n",
    "#Resultado\n",
    "df_ingresos = df_total[['user_id', 'year_month', 'plan', 'ingreso_total_mes']].copy()\n",
    "print(df_ingresos.head())"
   ]
  },
  {
   "cell_type": "markdown",
   "metadata": {},
   "source": [
    "<div class=\"alert alert-block alert-warning\">\n",
    "<b>Comentario del revisor (1ra Iteración)</b> <a class=“tocSkip”></a>\n",
    "\n",
    "La lógica de cálculo del cobro mensual es correcta en general, solo necesitas ajustar el redondeo como te mencioné antes. Asegúrate de hacer la estimación del cobro por el consumo de internet comparando los datos en GB, además es importante considerar el plan de cada usuario, el costo del plan base y los cargos por consumos adicionales para calcular correctamente el monto final.\n",
    "\n",
    "</div>"
   ]
  },
  {
   "cell_type": "markdown",
   "metadata": {
    "id": "-jtyHzJb0q1I"
   },
   "source": [
    "## Estudia el comportamiento de usuario"
   ]
  },
  {
   "cell_type": "markdown",
   "metadata": {
    "id": "vtW4CJEe0q1J"
   },
   "source": [
    "### Llamadas"
   ]
  },
  {
   "cell_type": "code",
   "execution_count": 288,
   "metadata": {
    "id": "Jf5v5--k0q1J"
   },
   "outputs": [
    {
     "data": {
      "image/png": "[encoded data removed]",
      "text/plain": [
       "<Figure size 1200x600 with 1 Axes>"
      ]
     },
     "metadata": {},
     "output_type": "display_data"
    }
   ],
   "source": [
    "# Compara la duración promedio de llamadas por cada plan y por cada mes. Traza un gráfico de barras para visualizarla.\n",
    "df_total['duracion_promedio_llamada'] = df_total['total_minutos_mes'] / df_total['numero_llamadas_mes']\n",
    "df_total['duracion_promedio_llamada'] = df_total['duracion_promedio_llamada'].fillna(0)\n",
    "#Agrupar por plan y year_month\n",
    "df_promedio = df_total.groupby(['plan', 'year_month'])['duracion_promedio_llamada'].mean().reset_index()\n",
    "#Datos para grafico de barras\n",
    "plt.figure(figsize=(12, 6))\n",
    "planes = df_promedio['plan'].unique()\n",
    "colores = ['#1f77b4', '#ff7f0e']\n",
    "for idx, plan in enumerate(planes):\n",
    "    datos = df_promedio[df_promedio['plan'] == plan]\n",
    "    plt.bar(\n",
    "        datos['year_month'],\n",
    "        datos['duracion_promedio_llamada'],\n",
    "        label=plan,\n",
    "        color=colores[idx],\n",
    "        alpha=0.7)\n",
    "plt.title('Duración promedio de llamadas por plan y por mes', fontsize=14)\n",
    "plt.xlabel('Mes (year-month)', fontsize=12)\n",
    "plt.ylabel('Duración promedio de llamadas (minutos)', fontsize=12)\n",
    "plt.xticks(rotation=45)\n",
    "plt.legend(title='Plan')\n",
    "plt.grid(axis='y', linestyle='--', alpha=0.7)\n",
    "plt.tight_layout()\n",
    "plt.show()"
   ]
  },
  {
   "cell_type": "code",
   "execution_count": 289,
   "metadata": {
    "id": "QoLqW1S_0q1J"
   },
   "outputs": [
    {
     "data": {
      "image/png": "[encoded data removed]",
      "text/plain": [
       "<Figure size 1200x600 with 1 Axes>"
      ]
     },
     "metadata": {},
     "output_type": "display_data"
    }
   ],
   "source": [
    "# Compara el número de minutos mensuales que necesitan los usuarios de cada plan. Traza un histograma.\n",
    "df_surf = df_total[df_total['plan'] == 'surf']\n",
    "df_ultimate = df_total[df_total['plan'] == 'ultimate']\n",
    "#Datos para elaborar el histograma\n",
    "plt.figure(figsize=(12, 6))\n",
    "plt.hist(df_surf['total_minutos_mes'], bins=30, alpha=0.7, label='Surf', color='#1f77b4')\n",
    "plt.hist(df_ultimate['total_minutos_mes'], bins=30, alpha=0.7, label='Ultimate', color='#ff7f0e')\n",
    "plt.title('Distribución de minutos mensuales por plan')\n",
    "plt.xlabel('Minutos mensuales')\n",
    "plt.ylabel('Número de usuarios-mes')\n",
    "plt.legend(title='Plan')\n",
    "plt.grid(axis='y', linestyle='--', alpha=0.5)\n",
    "plt.tight_layout()\n",
    "plt.show()"
   ]
  },
  {
   "cell_type": "code",
   "execution_count": 290,
   "metadata": {
    "id": "oSndbAnt0q1K"
   },
   "outputs": [
    {
     "name": "stdout",
     "output_type": "stream",
     "text": [
      "Media de minutos mensuales: 405.61\n",
      "Varianza de minutos mensuales: 49752.16\n"
     ]
    }
   ],
   "source": [
    "# Calcula la media y la varianza de la duración mensual de llamadas.\n",
    "media_minutos = df_total['total_minutos_mes'].mean()\n",
    "varianza_minutos = df_total['total_minutos_mes'].var()\n",
    "print(f\"Media de minutos mensuales: {media_minutos:.2f}\")\n",
    "print(f\"Varianza de minutos mensuales: {varianza_minutos:.2f}\")"
   ]
  },
  {
   "cell_type": "code",
   "execution_count": 291,
   "metadata": {
    "id": "nZzoRUKc0q1K"
   },
   "outputs": [
    {
     "data": {
      "text/plain": [
       "<Figure size 1000x600 with 0 Axes>"
      ]
     },
     "metadata": {},
     "output_type": "display_data"
    },
    {
     "data": {
      "image/png": "[encoded data removed]",
      "text/plain": [
       "<Figure size 640x480 with 1 Axes>"
      ]
     },
     "metadata": {},
     "output_type": "display_data"
    }
   ],
   "source": [
    "# Traza un diagrama de caja para visualizar la distribución de la duración mensual de llamadas\n",
    "plt.figure(figsize=(10, 6))\n",
    "df_total.boxplot(column='total_minutos_mes', by='plan', grid=False)\n",
    "plt.title('Distribución de la duración mensual de llamadas por plan')\n",
    "plt.suptitle('')\n",
    "plt.xlabel('Plan')\n",
    "plt.ylabel('Minutos mensuales de llamadas')\n",
    "plt.show()"
   ]
  },
  {
   "cell_type": "markdown",
   "metadata": {
    "id": "r627zBO50q1K"
   },
   "source": [
    "De acuerdo a la visualizacion de la informacion observamos que la media esta alrededor de 406 minutos y que los datos son muy dispersos en los usuarios de acuerdo con el resultado de la varianza 49752.16, podriamos decir que para el plan surf es para clientes que no llaman tanto y al contrario el plan ulimate es para clientes que llaman demasiado. Tambien se podria concluir que hay usuarios que estan pagando por minutos que no usan y hay otros que usan mas del doble del promedio."
   ]
  },
  {
   "cell_type": "markdown",
   "metadata": {
    "id": "8idKy8Wh0q1L"
   },
   "source": [
    "### Mensajes"
   ]
  },
  {
   "cell_type": "code",
   "execution_count": 295,
   "metadata": {},
   "outputs": [
    {
     "data": {
      "image/png": "[encoded data removed]",
      "text/plain": [
       "<Figure size 1200x600 with 1 Axes>"
      ]
     },
     "metadata": {},
     "output_type": "display_data"
    }
   ],
   "source": [
    "#Compara el promedio de mensajes por cada plan y por cada mes. Traza un gráfico de barras para visualizarla.\n",
    "#Agrupar por plan y year_month para obtener el promedio general por mes y plan\n",
    "df_promedio_mensajes = df_total.groupby(['plan', 'year_month'])['total_mensajes_mes'].mean().reset_index()\n",
    "#Datos para gráfico de barras\n",
    "plt.figure(figsize=(12, 6))\n",
    "planes = df_promedio_mensajes['plan'].unique()\n",
    "colores = ['#1f77b4', '#ff7f0e']\n",
    "for idx, plan in enumerate(planes):\n",
    "    datos = df_promedio_mensajes[df_promedio_mensajes['plan'] == plan]\n",
    "    plt.bar(\n",
    "        datos['year_month'],\n",
    "        datos['total_mensajes_mes'],\n",
    "        label=plan,\n",
    "        color=colores[idx],\n",
    "        alpha=0.7\n",
    "    )\n",
    "\n",
    "plt.title('Promedio mensual de mensajes enviados por plan', fontsize=14)\n",
    "plt.xlabel('Mes (year-month)', fontsize=12)\n",
    "plt.ylabel('Promedio de mensajes enviados por mes', fontsize=12)\n",
    "plt.xticks(rotation=45)\n",
    "plt.legend(title='Plan')\n",
    "plt.grid(axis='y', linestyle='--', alpha=0.7)\n",
    "plt.tight_layout()\n",
    "plt.show()"
   ]
  },
  {
   "cell_type": "code",
   "execution_count": 305,
   "metadata": {},
   "outputs": [
    {
     "data": {
      "image/png": "[encoded data removed]",
      "text/plain": [
       "<Figure size 1200x600 with 1 Axes>"
      ]
     },
     "metadata": {},
     "output_type": "display_data"
    }
   ],
   "source": [
    "#Compara el número de mensajes mensuales que necesitan los usuarios de cada plan. Traza un histograma.\n",
    "df_surf = df_total[df_total['plan'] == 'surf']\n",
    "df_ultimate = df_total[df_total['plan'] == 'ultimate']\n",
    "#Datos para elaborar el histograma\n",
    "plt.figure(figsize=(12, 6))\n",
    "plt.hist(df_surf['total_mensajes_mes'], bins=30, alpha=0.7, label='Surf', color='#1f77b4')\n",
    "plt.hist(df_ultimate['total_mensajes_mes'], bins=30, alpha=0.7, label='Ultimate', color='#ff7f0e')\n",
    "plt.title('Distribución de mensajes mensuales por plan')\n",
    "plt.xlabel('Mensajes mensuales')\n",
    "plt.ylabel('Número de usuarios-mes')\n",
    "plt.legend(title='Plan')\n",
    "plt.grid(axis='y', linestyle='--', alpha=0.5)\n",
    "plt.tight_layout()\n",
    "plt.show()"
   ]
  },
  {
   "cell_type": "code",
   "execution_count": 297,
   "metadata": {
    "id": "NXLxiTit0q1L"
   },
   "outputs": [
    {
     "data": {
      "text/plain": [
       "<Figure size 1000x600 with 0 Axes>"
      ]
     },
     "metadata": {},
     "output_type": "display_data"
    },
    {
     "data": {
      "image/png": "[encoded data removed]",
      "text/plain": [
       "<Figure size 640x480 with 1 Axes>"
      ]
     },
     "metadata": {},
     "output_type": "display_data"
    }
   ],
   "source": [
    "# Comprara el número de mensajes que tienden a enviar cada mes los usuarios de cada plan\n",
    "plt.figure(figsize=(10, 6))\n",
    "df_total.boxplot(column='total_mensajes_mes', by='plan', grid=False)\n",
    "plt.title('Distribución del número de mensajes mensuales por plan')\n",
    "plt.suptitle('')  \n",
    "plt.xlabel('Plan')\n",
    "plt.ylabel('Número de mensajes mensuales')\n",
    "plt.show()"
   ]
  },
  {
   "cell_type": "code",
   "execution_count": 300,
   "metadata": {
    "id": "GRI_R7xF0q1L"
   },
   "outputs": [
    {
     "name": "stdout",
     "output_type": "stream",
     "text": [
      "Media de mensajes mensuales: 32.90\n",
      "Varianza de mensajes mensuales: 1127.85\n"
     ]
    }
   ],
   "source": [
    "# Calcula la media y la varianza de la número de mensajes que tienden a enviar cada mes.\n",
    "media_mensajes = df_total['total_mensajes_mes'].mean()\n",
    "varianza_mensajes = df_total['total_mensajes_mes'].var()\n",
    "print(f\"Media de mensajes mensuales: {media_mensajes:.2f}\")\n",
    "print(f\"Varianza de mensajes mensuales: {varianza_mensajes:.2f}\")"
   ]
  },
  {
   "cell_type": "markdown",
   "metadata": {
    "id": "390SSL480q1M"
   },
   "source": [
    "Podemos concluir que igual que se presenta en el consumo de minutos en los planes, los usuarios estan muy dispersos en el comportamiento, algunos usuarios no envian mensajes, otros envian entre 70 o mas mensajes al mes y que el plan surf de 50 mensajes es casi suficiente para la mayoria de usuarios y el plan ultimate de 1000 son demasiados y lo usan muy pocos a ese nivel. Esto podría indicar que los planes deberían adaptarse mejor a diferentes perfiles: usuarios de bajo, medio y alto consumo de mensajes."
   ]
  },
  {
   "cell_type": "markdown",
   "metadata": {
    "id": "42YSypXz0q1M"
   },
   "source": [
    "### Internet"
   ]
  },
  {
   "cell_type": "code",
   "execution_count": 303,
   "metadata": {
    "scrolled": true
   },
   "outputs": [
    {
     "data": {
      "image/png": "[encoded data removed]",
      "text/plain": [
       "<Figure size 1200x600 with 1 Axes>"
      ]
     },
     "metadata": {},
     "output_type": "display_data"
    }
   ],
   "source": [
    "#Compara el promedio de datos por cada plan y por cada mes. Traza un gráfico de barras para visualizarla.\n",
    "#Agrupar por plan y year_month para obtener el promedio general por mes y plan\n",
    "df_promedio_datos = df_total.groupby(['plan', 'year_month'])['total_mb_mes'].mean().reset_index()\n",
    "#Datos para gráfico de barras\n",
    "plt.figure(figsize=(12, 6))\n",
    "planes = df_promedio_datos['plan'].unique()\n",
    "colores = ['#1f77b4', '#ff7f0e']  # colores para cada plan\n",
    "\n",
    "for idx, plan in enumerate(planes):\n",
    "    datos = df_promedio_datos[df_promedio_datos['plan'] == plan]\n",
    "    plt.bar(\n",
    "        datos['year_month'],\n",
    "        datos['total_mb_mes'],\n",
    "        label=plan,\n",
    "        color=colores[idx],\n",
    "        alpha=0.7\n",
    "    )\n",
    "\n",
    "plt.title('Promedio mensual de datos (GB) consumidos por plan', fontsize=14)\n",
    "plt.xlabel('Mes (year-month)', fontsize=12)\n",
    "plt.ylabel('Promedio de datos consumidos por mes (GB)', fontsize=12)\n",
    "plt.xticks(rotation=45)\n",
    "plt.legend(title='Plan')\n",
    "plt.grid(axis='y', linestyle='--', alpha=0.7)\n",
    "plt.tight_layout()\n",
    "plt.show()"
   ]
  },
  {
   "cell_type": "code",
   "execution_count": 306,
   "metadata": {},
   "outputs": [
    {
     "data": {
      "image/png": "[encoded data removed]",
      "text/plain": [
       "<Figure size 1200x600 with 1 Axes>"
      ]
     },
     "metadata": {},
     "output_type": "display_data"
    }
   ],
   "source": [
    "#Compara el número de datos mensuales que necesitan los usuarios de cada plan. Traza un histograma.\n",
    "df_surf = df_total[df_total['plan'] == 'surf']\n",
    "df_ultimate = df_total[df_total['plan'] == 'ultimate']\n",
    "#Datos para elaborar el histograma\n",
    "plt.figure(figsize=(12, 6))\n",
    "plt.hist(df_surf['total_mb_mes'], bins=30, alpha=0.7, label='Surf', color='#1f77b4')\n",
    "plt.hist(df_ultimate['total_mb_mes'], bins=30, alpha=0.7, label='Ultimate', color='#ff7f0e')\n",
    "plt.title('Distribución de mensajes mensuales por plan')\n",
    "plt.xlabel('Mensajes mensuales')\n",
    "plt.ylabel('Número de usuarios-mes')\n",
    "plt.legend(title='Plan')\n",
    "plt.grid(axis='y', linestyle='--', alpha=0.5)\n",
    "plt.tight_layout()\n",
    "plt.show()"
   ]
  },
  {
   "cell_type": "code",
   "execution_count": 307,
   "metadata": {
    "id": "lSuKPtjh0q1M"
   },
   "outputs": [
    {
     "data": {
      "text/plain": [
       "<Figure size 1000x600 with 0 Axes>"
      ]
     },
     "metadata": {},
     "output_type": "display_data"
    },
    {
     "data": {
      "image/png": "[encoded data removed]",
      "text/plain": [
       "<Figure size 640x480 with 1 Axes>"
      ]
     },
     "metadata": {},
     "output_type": "display_data"
    }
   ],
   "source": [
    "# Compara la cantidad de tráfico de Internet consumido por usuarios por plan\n",
    "plt.figure(figsize=(10, 6))\n",
    "df_total.boxplot(column='total_mb_mes', by='plan', grid=False)\n",
    "plt.title('Distribución del consumo mensual de GB por plan')\n",
    "plt.suptitle('')\n",
    "plt.xlabel('Plan')\n",
    "plt.ylabel('GB consumidos mensualmente')\n",
    "plt.show()"
   ]
  },
  {
   "cell_type": "code",
   "execution_count": 308,
   "metadata": {
    "id": "wnh8jYXi0q1N"
   },
   "outputs": [
    {
     "name": "stdout",
     "output_type": "stream",
     "text": [
      "Media de datos mensuales: 16882.20\n",
      "Varianza de datos mensuales: 61933513.55\n"
     ]
    }
   ],
   "source": [
    "# Calcula la media y la varianza de los gb que usan cada mes.\n",
    "media_gb = df_total['total_mb_mes'].mean()\n",
    "varianza_gb = df_total['total_mb_mes'].var()\n",
    "print(f\"Media de datos mensuales: {media_gb:.2f}\")\n",
    "print(f\"Varianza de datos mensuales: {varianza_gb:.2f}\")"
   ]
  },
  {
   "cell_type": "markdown",
   "metadata": {
    "id": "UN9zwuMP0q1N"
   },
   "source": [
    "Como conclusion es que los usuarios consumen en promedio 16 gigas para los planes surf estaria por encima de la gigas que incluye el plan y estarian pagando cargos extras por ese consumo adicional y para el plan ultimate esta por debajo de lo que ofrece el plan por lo tanto no estarian pagando cargos extras. "
   ]
  },
  {
   "cell_type": "markdown",
   "metadata": {
    "id": "tCijq3260q1N"
   },
   "source": [
    "## Ingreso"
   ]
  },
  {
   "cell_type": "code",
   "execution_count": 309,
   "metadata": {},
   "outputs": [
    {
     "data": {
      "image/png": "[encoded data removed]",
      "text/plain": [
       "<Figure size 1200x600 with 1 Axes>"
      ]
     },
     "metadata": {},
     "output_type": "display_data"
    }
   ],
   "source": [
    "#Compara el promedio de ingreso por cada plan y por cada mes. Traza un gráfico de barras para visualizarla.\n",
    "#Agrupar por plan y year_month para obtener el promedio general por mes y plan\n",
    "df_promedio_ingreso = df_total.groupby(['plan', 'year_month'])['ingreso_total_mes'].mean().reset_index()\n",
    "#Datos para gráfico de barras\n",
    "plt.figure(figsize=(12, 6))\n",
    "planes = df_promedio_ingreso['plan'].unique()\n",
    "colores = ['#1f77b4', '#ff7f0e']\n",
    "\n",
    "for idx, plan in enumerate(planes):\n",
    "    datos = df_promedio_ingreso[df_promedio_ingreso['plan'] == plan]\n",
    "    plt.bar(\n",
    "        datos['year_month'],\n",
    "        datos['ingreso_total_mes'],\n",
    "        label=plan,\n",
    "        color=colores[idx],\n",
    "        alpha=0.7\n",
    "    )\n",
    "\n",
    "plt.title('Promedio mensual de ingreso por plan', fontsize=14)\n",
    "plt.xlabel('Mes (year-month)', fontsize=12)\n",
    "plt.ylabel('Ingreso promedio mensual ($)', fontsize=12)\n",
    "plt.xticks(rotation=45)\n",
    "plt.legend(title='Plan')\n",
    "plt.grid(axis='y', linestyle='--', alpha=0.7)\n",
    "plt.tight_layout()\n",
    "plt.show()"
   ]
  },
  {
   "cell_type": "code",
   "execution_count": 312,
   "metadata": {},
   "outputs": [
    {
     "data": {
      "image/png": "[encoded data removed]",
      "text/plain": [
       "<Figure size 1200x600 with 1 Axes>"
      ]
     },
     "metadata": {},
     "output_type": "display_data"
    }
   ],
   "source": [
    "#Compara el número de ingresos mensuales por cada plan. Traza un histograma.\n",
    "df_surf = df_total[df_total['plan'] == 'surf']\n",
    "df_ultimate = df_total[df_total['plan'] == 'ultimate']\n",
    "#Datos para elaborar el histograma\n",
    "plt.figure(figsize=(12, 6))\n",
    "plt.hist(df_surf['ingreso_total_mes'], bins=30, alpha=0.7, label='Surf', color='#1f77b4')\n",
    "plt.hist(df_ultimate['ingreso_total_mes'], bins=30, alpha=0.7, label='Ultimate', color='#ff7f0e')\n",
    "plt.title('Distribución de ingresos mensuales por plan')\n",
    "plt.xlabel('Ingreso mensual ($)')\n",
    "plt.ylabel('Número de usuarios-mes')\n",
    "plt.legend(title='Plan')\n",
    "plt.grid(axis='y', linestyle='--', alpha=0.5)\n",
    "plt.tight_layout()\n",
    "plt.show()"
   ]
  },
  {
   "cell_type": "code",
   "execution_count": 314,
   "metadata": {},
   "outputs": [
    {
     "data": {
      "text/plain": [
       "<Figure size 1000x600 with 0 Axes>"
      ]
     },
     "metadata": {},
     "output_type": "display_data"
    },
    {
     "data": {
      "image/png": "[encoded data removed]",
      "text/plain": [
       "<Figure size 640x480 with 1 Axes>"
      ]
     },
     "metadata": {},
     "output_type": "display_data"
    }
   ],
   "source": [
    "# Compara la cantidad de ingresos por usuarios por plan\n",
    "plt.figure(figsize=(10, 6))\n",
    "df_total.boxplot(column='ingreso_total_mes', by='plan', grid=False)\n",
    "plt.title('Distribución de ingresos mensuales por plan')\n",
    "plt.suptitle('')\n",
    "plt.xlabel('Plan')\n",
    "plt.ylabel('Ingreso mensual ($)')\n",
    "plt.show()"
   ]
  },
  {
   "cell_type": "code",
   "execution_count": 315,
   "metadata": {},
   "outputs": [
    {
     "name": "stdout",
     "output_type": "stream",
     "text": [
      "Media de ingresos mensuales: $152359.81\n",
      "Varianza de ingresos mensuales: $5668668522.09\n"
     ]
    }
   ],
   "source": [
    "# Calcula la media y la varianza de los gb que usan cada mes.\n",
    "media_ingreso = df_total['ingreso_total_mes'].mean()\n",
    "varianza_ingreso = df_total['ingreso_total_mes'].var()\n",
    "print(f\"Media de ingresos mensuales: ${media_ingreso:.2f}\")\n",
    "print(f\"Varianza de ingresos mensuales: ${varianza_ingreso:.2f}\")"
   ]
  },
  {
   "cell_type": "code",
   "execution_count": 316,
   "metadata": {
    "id": "tz-dq_V00q1O"
   },
   "outputs": [
    {
     "data": {
      "text/plain": [
       "count      2277.00\n",
       "mean     152359.81\n",
       "std       75290.56\n",
       "min         793.10\n",
       "25%      103818.19\n",
       "50%      148053.20\n",
       "75%      196204.80\n",
       "max      709204.53\n",
       "Name: ingreso_total_mes, dtype: float64"
      ]
     },
     "execution_count": 316,
     "metadata": {},
     "output_type": "execute_result"
    }
   ],
   "source": [
    "df_total['ingreso_total_mes'].describe().round(2)"
   ]
  },
  {
   "cell_type": "markdown",
   "metadata": {
    "id": "KAFidcXZ0q1P"
   },
   "source": [
    "Un usuario promedio está generando aproximadamente $152,360 mensuales en ingresos. Esto sugiere que los planes ofrecen un buen margen económico para la empresa, al menos en promedio. Una varianza tan grande respecto a la media indica que los ingresos de los usuarios no son homogéneos. Aunque el promedio de ingresos por usuario es alto, los datos muestran una dispersión muy significativa. Esto sugiere que los ingresos están altamente concentrados en algunos usuarios con consumos excepcionales, mientras que la mayoría podría estar generando ingresos más bajos. El mínimo es muy bajo ($793), mientras que el máximo es altísimo ($709,204)."
   ]
  },
  {
   "cell_type": "markdown",
   "metadata": {},
   "source": [
    "<div class=\"alert alert-block alert-danger\">\n",
    "<b>Comentario del revisor (1ra Iteración)</b> <a class=“tocSkip”></a>\n",
    "\n",
    "La estructura de análisis (visualizaciones y cálculo de valores estadísticos) que empleaste para los datos de **llamadas** está muy bien. Debes usar la misma estructura de análisis para los demás conjuntos de datos: **mensajes, internet e ingresos**, con el fin de lograr hacer una comparación detallada del comportamiento de los usuarios de cada plan.\n",
    "\n",
    "Respecto a la información sobre **Ingresos**, seguramente los datos que obtuviste cambiarán cuando hagas el ajuste en el cálculo de los cobros mensuales por usuario en cada plan, entonces vale la pena revisar si tu análisis deba ser ajustado también.\n",
    "\n",
    "</div>"
   ]
  },
  {
   "cell_type": "markdown",
   "metadata": {
    "id": "ajJ7VKeI0q1Q"
   },
   "source": [
    "## Prueba las hipótesis estadísticas"
   ]
  },
  {
   "cell_type": "code",
   "execution_count": 318,
   "metadata": {
    "id": "nFoPNlPq0q1R"
   },
   "outputs": [
    {
     "name": "stdout",
     "output_type": "stream",
     "text": [
      "Estadístico t: 16.275019228958712\n",
      "Valor p: 6.546565678908824e-56\n"
     ]
    }
   ],
   "source": [
    "# Prueba las hipótesis\n",
    "from scipy.stats import ttest_ind\n",
    "surf_ingresos = df_total[df_total['plan'] == 'surf']['ingreso_total_mes']\n",
    "ultimate_ingresos = df_total[df_total['plan'] == 'ultimate']['ingreso_total_mes']\n",
    "alpha = 0.05\n",
    "t_stat, p_value = ttest_ind(surf_ingresos, ultimate_ingresos, equal_var=False)\n",
    "print('Estadístico t:', t_stat)\n",
    "print('Valor p:', p_value)"
   ]
  },
  {
   "cell_type": "code",
   "execution_count": 319,
   "metadata": {
    "id": "Cqcj7wrZ0q1S"
   },
   "outputs": [
    {
     "name": "stdout",
     "output_type": "stream",
     "text": [
      "Estadístico t: 2.48\n",
      "Valor p: 0.0135\n",
      "Rechazamos H₀: hay diferencia significativa entre los ingresos promedio de NY-NJ y otras regiones.\n"
     ]
    }
   ],
   "source": [
    "# Prueba las hipótesis usuarios del área NY-NJ es diferente al de los usuarios de otras regiones\n",
    "df_total = df_total.merge(df_users[['user_id', 'estado']], on='user_id', how='left')\n",
    "ny_nj_ingresos = df_total[df_total['estado'].isin(['NY', 'NJ'])]['ingreso_total_mes']\n",
    "otras_regiones_ingresos = df_total[~df_total['estado'].isin(['NY', 'NJ'])]['ingreso_total_mes']\n",
    "t_stat, p_value = ttest_ind(ny_nj_ingresos, otras_regiones_ingresos, equal_var=False)\n",
    "print('Estadístico t:', round(t_stat, 2))\n",
    "print('Valor p:', round(p_value, 4))\n",
    "alpha = 0.05\n",
    "if p_value < alpha:\n",
    "    print('Rechazamos H₀: hay diferencia significativa entre los ingresos promedio de NY-NJ y otras regiones.')\n",
    "else:\n",
    "    print('No se puede rechazar H₀: no hay evidencia de diferencia entre los ingresos promedio.')"
   ]
  },
  {
   "cell_type": "markdown",
   "metadata": {},
   "source": [
    "<div class=\"alert alert-block alert-danger\">\n",
    "<b>Comentario del revisor (1ra Iteración)</b> <a class=“tocSkip”></a>\n",
    "\n",
    "Luz no estás obteniendo los resultaddos esperados, ya que estás filtrando usando la columna *total_costo* la cual solo tiene 2 valores, realmente debes usar la columnna *ingreso_total_mes* que corresponde al cobro mensual para cada usuario\n",
    "\n",
    "</div>"
   ]
  },
  {
   "cell_type": "markdown",
   "metadata": {
    "id": "bbTR8UQO0q1T"
   },
   "source": [
    "## Conclusión general"
   ]
  },
  {
   "cell_type": "markdown",
   "metadata": {},
   "source": [
    "1. Es importante inicial el analisis de la informacion con el contenido de los datos, asi mismo evidenciar si hay valores ausentes o duplicados que requieran de ajuste o eliminacion para que no distorsione los resultados de los calculos estimados.\n",
    "2. Como no fue posible determinar como esta distribuido el costo de los paquetes de los planes si fue posible identificar los sobrecostos que los usuarios podrian estar asumiendo por desborde del plan.\n",
    "3. Dentro del plan Surf se evidencia que generan mas ingresos pero hay usuarios que sobrepasan el plan y deben asumir extracargos.\n",
    "4.El plan Surf representa una mayor fuente de ingresos para la empresa debido al cobro por consumos adicionales. Sin embargo estos estos ingresos son menos estables y dependen del comportamiento de los usuarios que puede variar de un mes a otro.\n",
    "5. El operador Megaline puede invertir en publicidad al plan Surf que es el que genera mas ingresos por lo que la mayoria de usuarios tienen dicho plan.\n",
    "6. El operador puede tambien estimar aumentar los datos o minutos por plan ya que son los recursos que mas usan los clientes. Los mensajes actualmente no son de mayor uso y se evidencio en el analisis realizado.    "
   ]
  },
  {
   "cell_type": "markdown",
   "metadata": {},
   "source": [
    "<div class=\"alert alert-block alert-warning\">\n",
    "<b>Comentario del revisor (1ra Iteración)</b> <a class=“tocSkip”></a>\n",
    "\n",
    "Tu conclusión va alineada con la información que has obtenido en el proyecto. Aunque presentas una interpretación correcta, es importante revisar tu conclusión luego de hacer los ajustes que te mencioné más arriba, en en caso de que los valores hayan cambiado significativamente.\n",
    "\n",
    "</div>"
   ]
  }
 ],
 "metadata": {
  "ExecuteTimeLog": [
   {
    "duration": 828,
    "start_time": "2021-11-16T09:21:11.304Z"
   },
   {
    "duration": 893,
    "start_time": "2021-11-16T09:21:17.728Z"
   },
   {
    "duration": 1150,
    "start_time": "2021-11-16T09:21:29.568Z"
   },
   {
    "duration": 3,
    "start_time": "2021-11-16T09:24:14.495Z"
   },
   {
    "duration": 120,
    "start_time": "2021-11-16T09:24:46.630Z"
   },
   {
    "duration": 3,
    "start_time": "2021-11-16T09:28:27.882Z"
   },
   {
    "duration": 4,
    "start_time": "2021-11-16T09:29:54.281Z"
   },
   {
    "duration": 3,
    "start_time": "2021-11-16T09:30:45.936Z"
   },
   {
    "duration": 4,
    "start_time": "2021-11-16T09:31:06.300Z"
   },
   {
    "duration": 113,
    "start_time": "2021-11-16T09:31:37.208Z"
   },
   {
    "duration": 143,
    "start_time": "2021-11-16T09:31:48.656Z"
   },
   {
    "duration": 98,
    "start_time": "2021-11-16T09:31:55.678Z"
   },
   {
    "duration": 3,
    "start_time": "2021-11-16T09:32:08.535Z"
   },
   {
    "duration": 111,
    "start_time": "2021-11-16T09:32:10.120Z"
   },
   {
    "duration": 3,
    "start_time": "2021-11-16T09:32:15.732Z"
   },
   {
    "duration": 4,
    "start_time": "2021-11-16T09:32:29.423Z"
   },
   {
    "duration": 3,
    "start_time": "2021-11-16T10:03:03.074Z"
   },
   {
    "duration": 3,
    "start_time": "2021-11-16T10:10:01.288Z"
   },
   {
    "duration": 3,
    "start_time": "2021-11-16T10:10:46.923Z"
   },
   {
    "duration": 121,
    "start_time": "2021-11-16T10:37:46.494Z"
   },
   {
    "duration": 125,
    "start_time": "2021-11-16T10:38:20.632Z"
   },
   {
    "duration": 112,
    "start_time": "2021-11-16T10:46:53.001Z"
   },
   {
    "duration": 110,
    "start_time": "2021-11-16T10:48:25.775Z"
   },
   {
    "duration": 3,
    "start_time": "2021-11-16T10:50:18.720Z"
   },
   {
    "duration": 4,
    "start_time": "2021-11-16T10:50:37.649Z"
   },
   {
    "duration": 2,
    "start_time": "2021-11-16T10:50:51.884Z"
   },
   {
    "duration": 3,
    "start_time": "2021-11-16T10:51:56.237Z"
   },
   {
    "duration": 101,
    "start_time": "2021-11-16T10:53:13.791Z"
   },
   {
    "duration": 3,
    "start_time": "2021-11-16T10:55:59.186Z"
   },
   {
    "duration": 3,
    "start_time": "2021-11-16T10:56:10.751Z"
   },
   {
    "duration": 3,
    "start_time": "2021-11-16T10:56:49.038Z"
   },
   {
    "duration": 3,
    "start_time": "2021-11-16T10:56:49.174Z"
   },
   {
    "duration": 4,
    "start_time": "2021-11-16T10:56:49.414Z"
   },
   {
    "duration": 3,
    "start_time": "2021-11-16T10:56:49.680Z"
   },
   {
    "duration": 3,
    "start_time": "2021-11-16T10:56:50.370Z"
   },
   {
    "duration": 114,
    "start_time": "2021-11-16T10:59:34.518Z"
   },
   {
    "duration": 3,
    "start_time": "2021-11-16T11:01:41.201Z"
   },
   {
    "duration": 116,
    "start_time": "2021-11-16T11:01:48.754Z"
   },
   {
    "duration": 3,
    "start_time": "2021-11-16T11:02:16.685Z"
   },
   {
    "duration": 3,
    "start_time": "2021-11-16T11:02:19.479Z"
   },
   {
    "duration": 3,
    "start_time": "2021-11-16T11:02:47.067Z"
   },
   {
    "duration": 3,
    "start_time": "2021-11-16T11:02:49.353Z"
   },
   {
    "duration": 3,
    "start_time": "2021-11-16T11:03:07.835Z"
   },
   {
    "duration": 3,
    "start_time": "2021-11-16T11:03:07.953Z"
   },
   {
    "duration": 112,
    "start_time": "2021-11-16T11:07:52.072Z"
   },
   {
    "duration": 187,
    "start_time": "2021-11-16T11:09:23.468Z"
   },
   {
    "duration": 4,
    "start_time": "2021-11-16T11:10:01.455Z"
   },
   {
    "duration": 3,
    "start_time": "2021-11-16T11:10:05.069Z"
   },
   {
    "duration": 4,
    "start_time": "2021-11-16T11:10:13.376Z"
   },
   {
    "duration": 3,
    "start_time": "2021-11-16T11:10:14.434Z"
   },
   {
    "duration": 3,
    "start_time": "2021-11-16T11:10:22.853Z"
   },
   {
    "duration": 4,
    "start_time": "2021-11-16T11:27:29.279Z"
   },
   {
    "duration": 4,
    "start_time": "2021-11-16T11:29:08.919Z"
   },
   {
    "duration": 118,
    "start_time": "2021-11-16T11:29:46.703Z"
   },
   {
    "duration": 437,
    "start_time": "2021-11-16T11:36:02.181Z"
   },
   {
    "duration": 157,
    "start_time": "2021-11-16T11:36:14.388Z"
   },
   {
    "duration": 207,
    "start_time": "2021-11-16T11:47:15.898Z"
   },
   {
    "duration": 3,
    "start_time": "2021-11-16T11:53:52.092Z"
   },
   {
    "duration": 3,
    "start_time": "2021-11-16T11:53:52.236Z"
   },
   {
    "duration": 3,
    "start_time": "2021-11-16T11:59:12.005Z"
   },
   {
    "duration": 112,
    "start_time": "2021-11-16T12:00:33.446Z"
   },
   {
    "duration": 3,
    "start_time": "2021-11-16T12:02:14.453Z"
   },
   {
    "duration": 3,
    "start_time": "2021-11-16T12:02:39.512Z"
   },
   {
    "duration": 106,
    "start_time": "2021-11-16T12:03:03.460Z"
   },
   {
    "duration": 3,
    "start_time": "2021-11-17T20:37:21.139Z"
   },
   {
    "duration": 3,
    "start_time": "2021-11-17T20:37:22.229Z"
   },
   {
    "duration": 3,
    "start_time": "2021-11-17T20:38:38.806Z"
   },
   {
    "duration": 3,
    "start_time": "2021-11-17T20:38:41.958Z"
   },
   {
    "duration": 3,
    "start_time": "2021-11-17T20:43:46.551Z"
   },
   {
    "duration": 4,
    "start_time": "2021-11-17T20:58:21.835Z"
   },
   {
    "duration": 3,
    "start_time": "2021-11-17T20:59:21.872Z"
   },
   {
    "duration": 4,
    "start_time": "2021-11-17T20:59:45.352Z"
   },
   {
    "duration": 4,
    "start_time": "2021-11-17T20:59:49.646Z"
   },
   {
    "duration": 159,
    "start_time": "2021-11-17T21:02:26.949Z"
   },
   {
    "duration": 3,
    "start_time": "2021-11-17T21:03:53.461Z"
   },
   {
    "duration": 3,
    "start_time": "2021-11-17T21:03:53.694Z"
   },
   {
    "duration": 3,
    "start_time": "2021-11-17T21:05:28.145Z"
   },
   {
    "duration": 116,
    "start_time": "2021-11-17T21:05:57.787Z"
   },
   {
    "duration": 3,
    "start_time": "2021-11-17T21:06:37.993Z"
   },
   {
    "duration": 3,
    "start_time": "2021-11-17T21:06:38.261Z"
   },
   {
    "duration": 3,
    "start_time": "2021-11-17T21:11:54.358Z"
   },
   {
    "duration": 3,
    "start_time": "2021-11-17T21:12:43.846Z"
   },
   {
    "duration": 4,
    "start_time": "2021-11-17T21:13:08.773Z"
   },
   {
    "duration": 3,
    "start_time": "2021-11-17T21:14:44.441Z"
   },
   {
    "duration": 3,
    "start_time": "2021-11-17T21:15:42.059Z"
   },
   {
    "duration": 4,
    "start_time": "2021-11-17T21:15:51.995Z"
   },
   {
    "duration": 3,
    "start_time": "2021-11-17T21:15:53.923Z"
   },
   {
    "duration": 3,
    "start_time": "2021-11-17T21:15:55.282Z"
   },
   {
    "duration": 3,
    "start_time": "2021-11-17T21:16:28.492Z"
   },
   {
    "duration": 3,
    "start_time": "2021-11-17T21:16:32.603Z"
   },
   {
    "duration": 3,
    "start_time": "2021-11-17T21:17:06.941Z"
   },
   {
    "duration": 98,
    "start_time": "2021-11-17T21:18:05.733Z"
   },
   {
    "duration": 4,
    "start_time": "2021-11-17T21:21:35.255Z"
   },
   {
    "duration": 3,
    "start_time": "2021-11-17T21:21:37.804Z"
   },
   {
    "duration": 4,
    "start_time": "2021-11-17T21:23:06.071Z"
   },
   {
    "duration": 3,
    "start_time": "2021-11-17T21:23:24.799Z"
   },
   {
    "duration": 3,
    "start_time": "2021-11-17T21:23:32.591Z"
   },
   {
    "duration": 98,
    "start_time": "2021-11-17T21:28:31.559Z"
   },
   {
    "duration": 3,
    "start_time": "2021-11-17T21:28:45.448Z"
   },
   {
    "duration": 3,
    "start_time": "2021-11-17T21:29:17.303Z"
   },
   {
    "duration": 3,
    "start_time": "2021-11-17T21:29:29.617Z"
   },
   {
    "duration": 3,
    "start_time": "2021-11-17T21:29:32.681Z"
   },
   {
    "duration": 3,
    "start_time": "2021-11-17T21:36:11.474Z"
   },
   {
    "duration": 3,
    "start_time": "2021-11-17T21:36:14.791Z"
   },
   {
    "duration": 3,
    "start_time": "2021-11-17T21:36:53.943Z"
   },
   {
    "duration": 3,
    "start_time": "2021-11-17T21:36:56.165Z"
   },
   {
    "duration": 4,
    "start_time": "2021-11-17T21:37:16.590Z"
   },
   {
    "duration": 3,
    "start_time": "2021-11-17T21:37:22.702Z"
   },
   {
    "duration": 4,
    "start_time": "2021-11-17T21:38:03.479Z"
   },
   {
    "duration": 3,
    "start_time": "2021-11-17T21:38:08.601Z"
   },
   {
    "duration": 3,
    "start_time": "2021-11-17T21:38:12.928Z"
   },
   {
    "duration": 3,
    "start_time": "2021-11-17T21:38:48.896Z"
   },
   {
    "duration": 2,
    "start_time": "2021-11-17T21:38:49.171Z"
   },
   {
    "duration": 4,
    "start_time": "2021-11-17T21:39:57.889Z"
   },
   {
    "duration": 3,
    "start_time": "2021-11-17T21:39:58.057Z"
   },
   {
    "duration": 3,
    "start_time": "2021-11-17T21:41:20.108Z"
   },
   {
    "duration": 3,
    "start_time": "2021-11-17T21:41:20.629Z"
   },
   {
    "duration": 3,
    "start_time": "2021-11-17T21:42:49.136Z"
   },
   {
    "duration": 3,
    "start_time": "2021-11-17T21:43:15.137Z"
   },
   {
    "duration": 4,
    "start_time": "2021-11-17T21:43:16.766Z"
   },
   {
    "duration": 4,
    "start_time": "2021-11-17T21:43:31.711Z"
   },
   {
    "duration": 3,
    "start_time": "2021-11-17T21:43:36.312Z"
   },
   {
    "duration": 4,
    "start_time": "2021-11-17T21:45:08.825Z"
   },
   {
    "duration": 4,
    "start_time": "2021-11-17T21:45:10.119Z"
   },
   {
    "duration": 4,
    "start_time": "2021-11-17T21:45:13.748Z"
   },
   {
    "duration": 3,
    "start_time": "2021-11-17T21:45:22.219Z"
   },
   {
    "duration": 3,
    "start_time": "2021-11-17T21:45:33.412Z"
   },
   {
    "duration": 2,
    "start_time": "2021-11-17T21:46:01.885Z"
   },
   {
    "duration": 3,
    "start_time": "2021-11-17T21:46:03.628Z"
   },
   {
    "duration": 107,
    "start_time": "2021-11-17T21:47:32.512Z"
   },
   {
    "duration": 103,
    "start_time": "2021-11-17T21:50:36.243Z"
   },
   {
    "duration": 3,
    "start_time": "2021-11-18T06:28:31.440Z"
   },
   {
    "duration": 3,
    "start_time": "2021-11-18T06:29:00.168Z"
   },
   {
    "duration": 3,
    "start_time": "2021-11-18T06:31:27.008Z"
   },
   {
    "duration": 2,
    "start_time": "2021-11-18T06:35:34.288Z"
   },
   {
    "duration": 2,
    "start_time": "2021-11-18T06:38:04.527Z"
   }
  ],
  "colab": {
   "provenance": []
  },
  "kernelspec": {
   "display_name": "Python 3 (ipykernel)",
   "language": "python",
   "name": "python3"
  },
  "language_info": {
   "codemirror_mode": {
    "name": "ipython",
    "version": 3
   },
   "file_extension": ".py",
   "mimetype": "text/x-python",
   "name": "python",
   "nbconvert_exporter": "python",
   "pygments_lexer": "ipython3",
   "version": "3.9.23"
  },
  "toc": {
   "base_numbering": 1,
   "nav_menu": {},
   "number_sections": true,
   "sideBar": true,
   "skip_h1_title": false,
   "title_cell": "Table of Contents",
   "title_sidebar": "Contents",
   "toc_cell": false,
   "toc_position": {},
   "toc_section_display": true,
   "toc_window_display": true
  }
 },
 "nbformat": 4,
 "nbformat_minor": 4
}

{
 "cells": [
  {
   "cell_type": "markdown",
   "metadata": {
    "id": "3rYiDeEH0q0f"
   },
   "source": [
    "# ¿Cuál es la mejor tarifa?\n",
    "\n",
    "Trabajas como analista para el operador de telecomunicaciones Megaline. La empresa ofrece a sus clientes dos tarifas de prepago, Surf y Ultimate. El departamento comercial quiere saber cuál de las tarifas genera más ingresos para poder ajustar el presupuesto de publicidad.\n",
    "\n",
    "Vas a realizar un análisis preliminar de las tarifas basado en una selección de clientes relativamente pequeña. Tendrás los datos de 500 clientes de Megaline: quiénes son los clientes, de dónde son, qué tarifa usan, así como la cantidad de llamadas que hicieron y los mensajes de texto que enviaron en 2018. Tu trabajo es analizar el comportamiento de los clientes y determinar qué tarifa de prepago genera más ingresos."
   ]
  },
  {
   "cell_type": "markdown",
   "metadata": {
    "id": "VNddPNRQ0q0w"
   },
   "source": [
    "[Te proporcionamos algunos comentarios para orientarte mientras completas este proyecto. Pero debes asegurarte de eliminar todos los comentarios entre corchetes antes de entregar tu proyecto.]\n",
    "\n",
    "[Antes de sumergirte en el análisis de datos, explica por tu propia cuenta el propósito del proyecto y las acciones que planeas realizar.]\n",
    "\n",
    "[Ten en cuenta que estudiar, modificar y analizar datos es un proceso iterativo. Es normal volver a los pasos anteriores y corregirlos/ampliarlos para permitir nuevos pasos.]"
   ]
  },
  {
   "cell_type": "markdown",
   "metadata": {
    "id": "MQi4IPy70q0y"
   },
   "source": [
    "## Inicialización"
   ]
  },
  {
   "cell_type": "code",
   "execution_count": 133,
   "metadata": {
    "id": "MtYIuBxu0q0z"
   },
   "outputs": [],
   "source": [
    "# Cargar todas las librerías\n",
    "import pandas as pd #trabajar con tablas de datos\n",
    "import numpy as np #operaciones matematicas y numericas\n",
    "from matplotlib import pyplot as plt #generar visualizaciones (graficos)\n",
    "import scipy.stats as st #pruebas de hipotesis\n",
    "from datetime import datetime"
   ]
  },
  {
   "cell_type": "markdown",
   "metadata": {
    "id": "4ysWWC5i0q00"
   },
   "source": [
    "## Cargar datos"
   ]
  },
  {
   "cell_type": "code",
   "execution_count": 134,
   "metadata": {
    "id": "CCqPW7rS0q01"
   },
   "outputs": [],
   "source": [
    "# Carga los archivos de datos en diferentes DataFrames\n",
    "df_users=pd.read_csv('/datasets/megaline_users.csv', sep=\",\")\n",
    "df_calls=pd.read_csv('/datasets/megaline_calls.csv',  sep=\",\")\n",
    "df_messages=pd.read_csv('/datasets/megaline_messages.csv',  sep=\",\")\n",
    "df_internet=pd.read_csv('/datasets/megaline_internet.csv',  sep=\",\")\n",
    "df_plans=pd.read_csv('/datasets/megaline_plans.csv',  sep=\",\")\n"
   ]
  },
  {
   "cell_type": "markdown",
   "metadata": {
    "id": "69qqoJ3r0q01"
   },
   "source": [
    "## Preparar los datos"
   ]
  },
  {
   "cell_type": "markdown",
   "metadata": {
    "id": "ohBhimvH0q01"
   },
   "source": [
    "## Tarifas"
   ]
  },
  {
   "cell_type": "code",
   "execution_count": 135,
   "metadata": {
    "id": "GptqP3Q40q02"
   },
   "outputs": [
    {
     "name": "stdout",
     "output_type": "stream",
     "text": [
      "<class 'pandas.core.frame.DataFrame'>\n",
      "RangeIndex: 2 entries, 0 to 1\n",
      "Data columns (total 8 columns):\n",
      " #   Column                 Non-Null Count  Dtype  \n",
      "---  ------                 --------------  -----  \n",
      " 0   messages_included      2 non-null      int64  \n",
      " 1   mb_per_month_included  2 non-null      int64  \n",
      " 2   minutes_included       2 non-null      int64  \n",
      " 3   usd_monthly_pay        2 non-null      int64  \n",
      " 4   usd_per_gb             2 non-null      int64  \n",
      " 5   usd_per_message        2 non-null      float64\n",
      " 6   usd_per_minute         2 non-null      float64\n",
      " 7   plan_name              2 non-null      object \n",
      "dtypes: float64(2), int64(5), object(1)\n",
      "memory usage: 256.0+ bytes\n"
     ]
    }
   ],
   "source": [
    "# Imprime la información general/resumida sobre el DataFrame de las tarifas\n",
    "df_plans.info()"
   ]
  },
  {
   "cell_type": "code",
   "execution_count": 136,
   "metadata": {
    "id": "64xzjwL70q02"
   },
   "outputs": [
    {
     "data": {
      "text/html": [
       "<div>\n",
       "<style scoped>\n",
       "    .dataframe tbody tr th:only-of-type {\n",
       "        vertical-align: middle;\n",
       "    }\n",
       "\n",
       "    .dataframe tbody tr th {\n",
       "        vertical-align: top;\n",
       "    }\n",
       "\n",
       "    .dataframe thead th {\n",
       "        text-align: right;\n",
       "    }\n",
       "</style>\n",
       "<table border=\"1\" class=\"dataframe\">\n",
       "  <thead>\n",
       "    <tr style=\"text-align: right;\">\n",
       "      <th></th>\n",
       "      <th>messages_included</th>\n",
       "      <th>mb_per_month_included</th>\n",
       "      <th>minutes_included</th>\n",
       "      <th>usd_monthly_pay</th>\n",
       "      <th>usd_per_gb</th>\n",
       "      <th>usd_per_message</th>\n",
       "      <th>usd_per_minute</th>\n",
       "      <th>plan_name</th>\n",
       "    </tr>\n",
       "  </thead>\n",
       "  <tbody>\n",
       "    <tr>\n",
       "      <th>0</th>\n",
       "      <td>50</td>\n",
       "      <td>15360</td>\n",
       "      <td>500</td>\n",
       "      <td>20</td>\n",
       "      <td>10</td>\n",
       "      <td>0.03</td>\n",
       "      <td>0.03</td>\n",
       "      <td>surf</td>\n",
       "    </tr>\n",
       "    <tr>\n",
       "      <th>1</th>\n",
       "      <td>1000</td>\n",
       "      <td>30720</td>\n",
       "      <td>3000</td>\n",
       "      <td>70</td>\n",
       "      <td>7</td>\n",
       "      <td>0.01</td>\n",
       "      <td>0.01</td>\n",
       "      <td>ultimate</td>\n",
       "    </tr>\n",
       "  </tbody>\n",
       "</table>\n",
       "</div>"
      ],
      "text/plain": [
       "   messages_included  mb_per_month_included  minutes_included  \\\n",
       "0                 50                  15360               500   \n",
       "1               1000                  30720              3000   \n",
       "\n",
       "   usd_monthly_pay  usd_per_gb  usd_per_message  usd_per_minute plan_name  \n",
       "0               20          10             0.03            0.03      surf  \n",
       "1               70           7             0.01            0.01  ultimate  "
      ]
     },
     "execution_count": 136,
     "metadata": {},
     "output_type": "execute_result"
    }
   ],
   "source": [
    "# Imprime una muestra de los datos para las tarifas\n",
    "df_plans.head()\n"
   ]
  },
  {
   "cell_type": "markdown",
   "metadata": {
    "id": "mEc_3_hs0q02"
   },
   "source": [
    "El DataFrame solo muestra dos filas y 8 columnas donde esta el detalle de lo que contiene cada plan, no se observa datos ausente o duplicados, sin embargo en la columna 2 que corresponde a mb_per_month_included presenta el valor por megabytes que en el caso de consumo de datos debe corresponder a gigabytes ya que asi es el manejo en el mercado para el caso de los celulares por lo cual se debe adicionar una nueva columna con gigabytes, adicionalmente podriamos adicionar por plan el valor de los costos de minutos, mensajes y gigas que costarian fuera de los planes para poder comparar el ahorro aproximado que se tiene por plan y valor total ahorrado."
   ]
  },
  {
   "cell_type": "markdown",
   "metadata": {
    "collapsed": false,
    "id": "R3C05i1l0q03",
    "jupyter": {
     "outputs_hidden": false
    }
   },
   "source": [
    "## Corregir datos"
   ]
  },
  {
   "cell_type": "code",
   "execution_count": 137,
   "metadata": {
    "id": "Y7SVmjGn0q03"
   },
   "outputs": [
    {
     "data": {
      "text/html": [
       "<div>\n",
       "<style scoped>\n",
       "    .dataframe tbody tr th:only-of-type {\n",
       "        vertical-align: middle;\n",
       "    }\n",
       "\n",
       "    .dataframe tbody tr th {\n",
       "        vertical-align: top;\n",
       "    }\n",
       "\n",
       "    .dataframe thead th {\n",
       "        text-align: right;\n",
       "    }\n",
       "</style>\n",
       "<table border=\"1\" class=\"dataframe\">\n",
       "  <thead>\n",
       "    <tr style=\"text-align: right;\">\n",
       "      <th></th>\n",
       "      <th>messages_included</th>\n",
       "      <th>mb_per_month_included</th>\n",
       "      <th>minutes_included</th>\n",
       "      <th>usd_monthly_pay</th>\n",
       "      <th>usd_per_gb</th>\n",
       "      <th>usd_per_message</th>\n",
       "      <th>usd_per_minute</th>\n",
       "      <th>plan_name</th>\n",
       "      <th>gb_per_month_included</th>\n",
       "    </tr>\n",
       "  </thead>\n",
       "  <tbody>\n",
       "    <tr>\n",
       "      <th>0</th>\n",
       "      <td>50</td>\n",
       "      <td>15360</td>\n",
       "      <td>500</td>\n",
       "      <td>20</td>\n",
       "      <td>10</td>\n",
       "      <td>0.03</td>\n",
       "      <td>0.03</td>\n",
       "      <td>surf</td>\n",
       "      <td>15.0</td>\n",
       "    </tr>\n",
       "    <tr>\n",
       "      <th>1</th>\n",
       "      <td>1000</td>\n",
       "      <td>30720</td>\n",
       "      <td>3000</td>\n",
       "      <td>70</td>\n",
       "      <td>7</td>\n",
       "      <td>0.01</td>\n",
       "      <td>0.01</td>\n",
       "      <td>ultimate</td>\n",
       "      <td>30.0</td>\n",
       "    </tr>\n",
       "  </tbody>\n",
       "</table>\n",
       "</div>"
      ],
      "text/plain": [
       "   messages_included  mb_per_month_included  minutes_included  \\\n",
       "0                 50                  15360               500   \n",
       "1               1000                  30720              3000   \n",
       "\n",
       "   usd_monthly_pay  usd_per_gb  usd_per_message  usd_per_minute plan_name  \\\n",
       "0               20          10             0.03            0.03      surf   \n",
       "1               70           7             0.01            0.01  ultimate   \n",
       "\n",
       "   gb_per_month_included  \n",
       "0                   15.0  \n",
       "1                   30.0  "
      ]
     },
     "execution_count": 137,
     "metadata": {},
     "output_type": "execute_result"
    }
   ],
   "source": [
    "df_plans['gb_per_month_included'] = df_plans['mb_per_month_included'] / 1024\n",
    "df_plans.head()"
   ]
  },
  {
   "cell_type": "markdown",
   "metadata": {
    "id": "LJir7bml0q03"
   },
   "source": [
    "## Enriquecer los datos"
   ]
  },
  {
   "cell_type": "code",
   "execution_count": 138,
   "metadata": {
    "id": "gfcIEuXV0q04"
   },
   "outputs": [
    {
     "data": {
      "text/html": [
       "<div>\n",
       "<style scoped>\n",
       "    .dataframe tbody tr th:only-of-type {\n",
       "        vertical-align: middle;\n",
       "    }\n",
       "\n",
       "    .dataframe tbody tr th {\n",
       "        vertical-align: top;\n",
       "    }\n",
       "\n",
       "    .dataframe thead th {\n",
       "        text-align: right;\n",
       "    }\n",
       "</style>\n",
       "<table border=\"1\" class=\"dataframe\">\n",
       "  <thead>\n",
       "    <tr style=\"text-align: right;\">\n",
       "      <th></th>\n",
       "      <th>messages_included</th>\n",
       "      <th>mb_per_month_included</th>\n",
       "      <th>minutes_included</th>\n",
       "      <th>usd_monthly_pay</th>\n",
       "      <th>usd_per_gb</th>\n",
       "      <th>usd_per_message</th>\n",
       "      <th>usd_per_minute</th>\n",
       "      <th>plan_name</th>\n",
       "      <th>gb_per_month_included</th>\n",
       "      <th>costo_gigas</th>\n",
       "      <th>costo_minuto</th>\n",
       "      <th>costo_mensaje</th>\n",
       "      <th>total_costo</th>\n",
       "      <th>ahorro_plan</th>\n",
       "    </tr>\n",
       "  </thead>\n",
       "  <tbody>\n",
       "    <tr>\n",
       "      <th>0</th>\n",
       "      <td>50</td>\n",
       "      <td>15360</td>\n",
       "      <td>500</td>\n",
       "      <td>20</td>\n",
       "      <td>10</td>\n",
       "      <td>0.03</td>\n",
       "      <td>0.03</td>\n",
       "      <td>surf</td>\n",
       "      <td>15.0</td>\n",
       "      <td>150.0</td>\n",
       "      <td>15.0</td>\n",
       "      <td>1.5</td>\n",
       "      <td>166.5</td>\n",
       "      <td>146.5</td>\n",
       "    </tr>\n",
       "    <tr>\n",
       "      <th>1</th>\n",
       "      <td>1000</td>\n",
       "      <td>30720</td>\n",
       "      <td>3000</td>\n",
       "      <td>70</td>\n",
       "      <td>7</td>\n",
       "      <td>0.01</td>\n",
       "      <td>0.01</td>\n",
       "      <td>ultimate</td>\n",
       "      <td>30.0</td>\n",
       "      <td>210.0</td>\n",
       "      <td>30.0</td>\n",
       "      <td>10.0</td>\n",
       "      <td>250.0</td>\n",
       "      <td>180.0</td>\n",
       "    </tr>\n",
       "  </tbody>\n",
       "</table>\n",
       "</div>"
      ],
      "text/plain": [
       "   messages_included  mb_per_month_included  minutes_included  \\\n",
       "0                 50                  15360               500   \n",
       "1               1000                  30720              3000   \n",
       "\n",
       "   usd_monthly_pay  usd_per_gb  usd_per_message  usd_per_minute plan_name  \\\n",
       "0               20          10             0.03            0.03      surf   \n",
       "1               70           7             0.01            0.01  ultimate   \n",
       "\n",
       "   gb_per_month_included  costo_gigas  costo_minuto  costo_mensaje  \\\n",
       "0                   15.0        150.0          15.0            1.5   \n",
       "1                   30.0        210.0          30.0           10.0   \n",
       "\n",
       "   total_costo  ahorro_plan  \n",
       "0        166.5        146.5  \n",
       "1        250.0        180.0  "
      ]
     },
     "execution_count": 138,
     "metadata": {},
     "output_type": "execute_result"
    }
   ],
   "source": [
    "#Costo por gigabytes fuera del plan por la cantidad que esta incluido en el plan\n",
    "df_plans['costo_gigas'] = df_plans['gb_per_month_included'] * (df_plans['usd_per_gb'])\n",
    "#Costo por minuto fuera del plan por la cantidad que esta incluido en el plan\n",
    "df_plans['costo_minuto'] = df_plans['minutes_included'] * df_plans['usd_per_minute']\n",
    "#Costo por mensaje fuera del plan por la cantidad que esta incluido en el plan\n",
    "df_plans['costo_mensaje'] = df_plans['messages_included'] * df_plans['usd_per_message']\n",
    "#Total de costo de paquete fuera del plan\n",
    "df_plans['total_costo'] = (df_plans['costo_gigas']) + df_plans['costo_minuto'] + df_plans['costo_mensaje']\n",
    "#Ahorro por plan\n",
    "df_plans['ahorro_plan'] = df_plans['total_costo'] - df_plans['usd_monthly_pay']\n",
    "df_plans.head()"
   ]
  },
  {
   "cell_type": "markdown",
   "metadata": {
    "id": "1n2X6WXf0q04"
   },
   "source": [
    "## Usuarios/as"
   ]
  },
  {
   "cell_type": "code",
   "execution_count": 139,
   "metadata": {
    "id": "2NgjWFqx0q05"
   },
   "outputs": [
    {
     "name": "stdout",
     "output_type": "stream",
     "text": [
      "<class 'pandas.core.frame.DataFrame'>\n",
      "RangeIndex: 500 entries, 0 to 499\n",
      "Data columns (total 8 columns):\n",
      " #   Column      Non-Null Count  Dtype \n",
      "---  ------      --------------  ----- \n",
      " 0   user_id     500 non-null    int64 \n",
      " 1   first_name  500 non-null    object\n",
      " 2   last_name   500 non-null    object\n",
      " 3   age         500 non-null    int64 \n",
      " 4   city        500 non-null    object\n",
      " 5   reg_date    500 non-null    object\n",
      " 6   plan        500 non-null    object\n",
      " 7   churn_date  34 non-null     object\n",
      "dtypes: int64(2), object(6)\n",
      "memory usage: 31.4+ KB\n"
     ]
    }
   ],
   "source": [
    "# Imprime la información general/resumida sobre el DataFrame de usuarios\n",
    "df_users.info()"
   ]
  },
  {
   "cell_type": "code",
   "execution_count": 140,
   "metadata": {
    "id": "1IN1L9uh0q05"
   },
   "outputs": [
    {
     "data": {
      "text/html": [
       "<div>\n",
       "<style scoped>\n",
       "    .dataframe tbody tr th:only-of-type {\n",
       "        vertical-align: middle;\n",
       "    }\n",
       "\n",
       "    .dataframe tbody tr th {\n",
       "        vertical-align: top;\n",
       "    }\n",
       "\n",
       "    .dataframe thead th {\n",
       "        text-align: right;\n",
       "    }\n",
       "</style>\n",
       "<table border=\"1\" class=\"dataframe\">\n",
       "  <thead>\n",
       "    <tr style=\"text-align: right;\">\n",
       "      <th></th>\n",
       "      <th>user_id</th>\n",
       "      <th>first_name</th>\n",
       "      <th>last_name</th>\n",
       "      <th>age</th>\n",
       "      <th>city</th>\n",
       "      <th>reg_date</th>\n",
       "      <th>plan</th>\n",
       "      <th>churn_date</th>\n",
       "    </tr>\n",
       "  </thead>\n",
       "  <tbody>\n",
       "    <tr>\n",
       "      <th>460</th>\n",
       "      <td>1460</td>\n",
       "      <td>Winford</td>\n",
       "      <td>Underwood</td>\n",
       "      <td>46</td>\n",
       "      <td>Fresno, CA MSA</td>\n",
       "      <td>2018-05-28</td>\n",
       "      <td>ultimate</td>\n",
       "      <td>NaN</td>\n",
       "    </tr>\n",
       "    <tr>\n",
       "      <th>414</th>\n",
       "      <td>1414</td>\n",
       "      <td>Georgianne</td>\n",
       "      <td>Herring</td>\n",
       "      <td>30</td>\n",
       "      <td>Urban Honolulu, HI MSA</td>\n",
       "      <td>2018-03-03</td>\n",
       "      <td>surf</td>\n",
       "      <td>2018-09-01</td>\n",
       "    </tr>\n",
       "    <tr>\n",
       "      <th>168</th>\n",
       "      <td>1168</td>\n",
       "      <td>Shay</td>\n",
       "      <td>Weaver</td>\n",
       "      <td>58</td>\n",
       "      <td>Milwaukee-Waukesha, WI MSA</td>\n",
       "      <td>2018-12-13</td>\n",
       "      <td>surf</td>\n",
       "      <td>NaN</td>\n",
       "    </tr>\n",
       "    <tr>\n",
       "      <th>22</th>\n",
       "      <td>1022</td>\n",
       "      <td>Bo</td>\n",
       "      <td>Snow</td>\n",
       "      <td>73</td>\n",
       "      <td>New York-Newark-Jersey City, NY-NJ-PA MSA</td>\n",
       "      <td>2018-04-20</td>\n",
       "      <td>surf</td>\n",
       "      <td>2018-09-07</td>\n",
       "    </tr>\n",
       "    <tr>\n",
       "      <th>185</th>\n",
       "      <td>1185</td>\n",
       "      <td>Loria</td>\n",
       "      <td>Freeman</td>\n",
       "      <td>47</td>\n",
       "      <td>Louisville/Jefferson County, KY-IN MSA</td>\n",
       "      <td>2018-01-14</td>\n",
       "      <td>ultimate</td>\n",
       "      <td>NaN</td>\n",
       "    </tr>\n",
       "    <tr>\n",
       "      <th>30</th>\n",
       "      <td>1030</td>\n",
       "      <td>Chase</td>\n",
       "      <td>Kane</td>\n",
       "      <td>30</td>\n",
       "      <td>Chicago-Naperville-Elgin, IL-IN-WI MSA</td>\n",
       "      <td>2018-02-14</td>\n",
       "      <td>ultimate</td>\n",
       "      <td>NaN</td>\n",
       "    </tr>\n",
       "    <tr>\n",
       "      <th>9</th>\n",
       "      <td>1009</td>\n",
       "      <td>Gerry</td>\n",
       "      <td>Little</td>\n",
       "      <td>19</td>\n",
       "      <td>San Jose-Sunnyvale-Santa Clara, CA MSA</td>\n",
       "      <td>2018-04-22</td>\n",
       "      <td>surf</td>\n",
       "      <td>NaN</td>\n",
       "    </tr>\n",
       "    <tr>\n",
       "      <th>45</th>\n",
       "      <td>1045</td>\n",
       "      <td>Barney</td>\n",
       "      <td>Ortega</td>\n",
       "      <td>20</td>\n",
       "      <td>New York-Newark-Jersey City, NY-NJ-PA MSA</td>\n",
       "      <td>2018-10-15</td>\n",
       "      <td>surf</td>\n",
       "      <td>NaN</td>\n",
       "    </tr>\n",
       "    <tr>\n",
       "      <th>420</th>\n",
       "      <td>1420</td>\n",
       "      <td>Season</td>\n",
       "      <td>Hardy</td>\n",
       "      <td>27</td>\n",
       "      <td>San Francisco-Oakland-Berkeley, CA MSA</td>\n",
       "      <td>2018-02-22</td>\n",
       "      <td>ultimate</td>\n",
       "      <td>NaN</td>\n",
       "    </tr>\n",
       "    <tr>\n",
       "      <th>299</th>\n",
       "      <td>1299</td>\n",
       "      <td>Keitha</td>\n",
       "      <td>Harrison</td>\n",
       "      <td>64</td>\n",
       "      <td>New York-Newark-Jersey City, NY-NJ-PA MSA</td>\n",
       "      <td>2018-01-19</td>\n",
       "      <td>surf</td>\n",
       "      <td>NaN</td>\n",
       "    </tr>\n",
       "    <tr>\n",
       "      <th>258</th>\n",
       "      <td>1258</td>\n",
       "      <td>Kai</td>\n",
       "      <td>Russell</td>\n",
       "      <td>39</td>\n",
       "      <td>Chicago-Naperville-Elgin, IL-IN-WI MSA</td>\n",
       "      <td>2018-07-12</td>\n",
       "      <td>surf</td>\n",
       "      <td>NaN</td>\n",
       "    </tr>\n",
       "    <tr>\n",
       "      <th>100</th>\n",
       "      <td>1100</td>\n",
       "      <td>Aaron</td>\n",
       "      <td>Rowe</td>\n",
       "      <td>65</td>\n",
       "      <td>New York-Newark-Jersey City, NY-NJ-PA MSA</td>\n",
       "      <td>2018-02-13</td>\n",
       "      <td>surf</td>\n",
       "      <td>NaN</td>\n",
       "    </tr>\n",
       "    <tr>\n",
       "      <th>85</th>\n",
       "      <td>1085</td>\n",
       "      <td>Ignacio</td>\n",
       "      <td>Bennett</td>\n",
       "      <td>48</td>\n",
       "      <td>Atlanta-Sandy Springs-Roswell, GA MSA</td>\n",
       "      <td>2018-07-19</td>\n",
       "      <td>ultimate</td>\n",
       "      <td>NaN</td>\n",
       "    </tr>\n",
       "    <tr>\n",
       "      <th>73</th>\n",
       "      <td>1073</td>\n",
       "      <td>Grady</td>\n",
       "      <td>Crawford</td>\n",
       "      <td>30</td>\n",
       "      <td>Chicago-Naperville-Elgin, IL-IN-WI MSA</td>\n",
       "      <td>2018-04-06</td>\n",
       "      <td>surf</td>\n",
       "      <td>NaN</td>\n",
       "    </tr>\n",
       "    <tr>\n",
       "      <th>286</th>\n",
       "      <td>1286</td>\n",
       "      <td>Casie</td>\n",
       "      <td>Castaneda</td>\n",
       "      <td>52</td>\n",
       "      <td>New Haven-Milford, CT MSA</td>\n",
       "      <td>2018-12-07</td>\n",
       "      <td>surf</td>\n",
       "      <td>NaN</td>\n",
       "    </tr>\n",
       "    <tr>\n",
       "      <th>488</th>\n",
       "      <td>1488</td>\n",
       "      <td>Shirley</td>\n",
       "      <td>Jones</td>\n",
       "      <td>29</td>\n",
       "      <td>Baton Rouge, LA MSA</td>\n",
       "      <td>2018-05-15</td>\n",
       "      <td>surf</td>\n",
       "      <td>NaN</td>\n",
       "    </tr>\n",
       "    <tr>\n",
       "      <th>445</th>\n",
       "      <td>1445</td>\n",
       "      <td>Elodia</td>\n",
       "      <td>Donovan</td>\n",
       "      <td>71</td>\n",
       "      <td>Dallas-Fort Worth-Arlington, TX MSA</td>\n",
       "      <td>2018-01-27</td>\n",
       "      <td>ultimate</td>\n",
       "      <td>NaN</td>\n",
       "    </tr>\n",
       "    <tr>\n",
       "      <th>402</th>\n",
       "      <td>1402</td>\n",
       "      <td>Jesus</td>\n",
       "      <td>Berry</td>\n",
       "      <td>25</td>\n",
       "      <td>New York-Newark-Jersey City, NY-NJ-PA MSA</td>\n",
       "      <td>2018-06-11</td>\n",
       "      <td>surf</td>\n",
       "      <td>2018-12-26</td>\n",
       "    </tr>\n",
       "    <tr>\n",
       "      <th>18</th>\n",
       "      <td>1018</td>\n",
       "      <td>Dennis</td>\n",
       "      <td>Grimes</td>\n",
       "      <td>70</td>\n",
       "      <td>Indianapolis-Carmel-Anderson, IN MSA</td>\n",
       "      <td>2018-10-17</td>\n",
       "      <td>surf</td>\n",
       "      <td>NaN</td>\n",
       "    </tr>\n",
       "    <tr>\n",
       "      <th>335</th>\n",
       "      <td>1335</td>\n",
       "      <td>Gail</td>\n",
       "      <td>Coleman</td>\n",
       "      <td>61</td>\n",
       "      <td>Dallas-Fort Worth-Arlington, TX MSA</td>\n",
       "      <td>2018-06-02</td>\n",
       "      <td>surf</td>\n",
       "      <td>NaN</td>\n",
       "    </tr>\n",
       "  </tbody>\n",
       "</table>\n",
       "</div>"
      ],
      "text/plain": [
       "     user_id  first_name  last_name  age  \\\n",
       "460     1460     Winford  Underwood   46   \n",
       "414     1414  Georgianne    Herring   30   \n",
       "168     1168        Shay     Weaver   58   \n",
       "22      1022          Bo       Snow   73   \n",
       "185     1185       Loria    Freeman   47   \n",
       "30      1030       Chase       Kane   30   \n",
       "9       1009       Gerry     Little   19   \n",
       "45      1045      Barney     Ortega   20   \n",
       "420     1420      Season      Hardy   27   \n",
       "299     1299      Keitha   Harrison   64   \n",
       "258     1258         Kai    Russell   39   \n",
       "100     1100       Aaron       Rowe   65   \n",
       "85      1085     Ignacio    Bennett   48   \n",
       "73      1073       Grady   Crawford   30   \n",
       "286     1286       Casie  Castaneda   52   \n",
       "488     1488     Shirley      Jones   29   \n",
       "445     1445      Elodia    Donovan   71   \n",
       "402     1402       Jesus      Berry   25   \n",
       "18      1018      Dennis     Grimes   70   \n",
       "335     1335        Gail    Coleman   61   \n",
       "\n",
       "                                          city    reg_date      plan  \\\n",
       "460                             Fresno, CA MSA  2018-05-28  ultimate   \n",
       "414                     Urban Honolulu, HI MSA  2018-03-03      surf   \n",
       "168                 Milwaukee-Waukesha, WI MSA  2018-12-13      surf   \n",
       "22   New York-Newark-Jersey City, NY-NJ-PA MSA  2018-04-20      surf   \n",
       "185     Louisville/Jefferson County, KY-IN MSA  2018-01-14  ultimate   \n",
       "30      Chicago-Naperville-Elgin, IL-IN-WI MSA  2018-02-14  ultimate   \n",
       "9       San Jose-Sunnyvale-Santa Clara, CA MSA  2018-04-22      surf   \n",
       "45   New York-Newark-Jersey City, NY-NJ-PA MSA  2018-10-15      surf   \n",
       "420     San Francisco-Oakland-Berkeley, CA MSA  2018-02-22  ultimate   \n",
       "299  New York-Newark-Jersey City, NY-NJ-PA MSA  2018-01-19      surf   \n",
       "258     Chicago-Naperville-Elgin, IL-IN-WI MSA  2018-07-12      surf   \n",
       "100  New York-Newark-Jersey City, NY-NJ-PA MSA  2018-02-13      surf   \n",
       "85       Atlanta-Sandy Springs-Roswell, GA MSA  2018-07-19  ultimate   \n",
       "73      Chicago-Naperville-Elgin, IL-IN-WI MSA  2018-04-06      surf   \n",
       "286                  New Haven-Milford, CT MSA  2018-12-07      surf   \n",
       "488                        Baton Rouge, LA MSA  2018-05-15      surf   \n",
       "445        Dallas-Fort Worth-Arlington, TX MSA  2018-01-27  ultimate   \n",
       "402  New York-Newark-Jersey City, NY-NJ-PA MSA  2018-06-11      surf   \n",
       "18        Indianapolis-Carmel-Anderson, IN MSA  2018-10-17      surf   \n",
       "335        Dallas-Fort Worth-Arlington, TX MSA  2018-06-02      surf   \n",
       "\n",
       "     churn_date  \n",
       "460         NaN  \n",
       "414  2018-09-01  \n",
       "168         NaN  \n",
       "22   2018-09-07  \n",
       "185         NaN  \n",
       "30          NaN  \n",
       "9           NaN  \n",
       "45          NaN  \n",
       "420         NaN  \n",
       "299         NaN  \n",
       "258         NaN  \n",
       "100         NaN  \n",
       "85          NaN  \n",
       "73          NaN  \n",
       "286         NaN  \n",
       "488         NaN  \n",
       "445         NaN  \n",
       "402  2018-12-26  \n",
       "18          NaN  \n",
       "335         NaN  "
      ]
     },
     "execution_count": 140,
     "metadata": {},
     "output_type": "execute_result"
    }
   ],
   "source": [
    "# Imprime una muestra de datos para usuarios\n",
    "df_users.sample(20)"
   ]
  },
  {
   "cell_type": "markdown",
   "metadata": {
    "id": "dCZoUq4f0q06"
   },
   "source": [
    "Del DataFrame se oberva que la fecha esta en otro formato y se debe cambiar a dd/mm/aa, adicionalmente podemos incluir una columna donde podamos validar que usuarios estan activos y cuales inactivos, la antiguedad del usuario, clasificar por un rango de edades de los usuarios, separar por ciudad y estado."
   ]
  },
  {
   "cell_type": "markdown",
   "metadata": {
    "id": "BX5FQh_I0q06"
   },
   "source": [
    "### Corregir los datos"
   ]
  },
  {
   "cell_type": "code",
   "execution_count": 141,
   "metadata": {
    "id": "yUqX-K0C0q07"
   },
   "outputs": [
    {
     "data": {
      "text/html": [
       "<div>\n",
       "<style scoped>\n",
       "    .dataframe tbody tr th:only-of-type {\n",
       "        vertical-align: middle;\n",
       "    }\n",
       "\n",
       "    .dataframe tbody tr th {\n",
       "        vertical-align: top;\n",
       "    }\n",
       "\n",
       "    .dataframe thead th {\n",
       "        text-align: right;\n",
       "    }\n",
       "</style>\n",
       "<table border=\"1\" class=\"dataframe\">\n",
       "  <thead>\n",
       "    <tr style=\"text-align: right;\">\n",
       "      <th></th>\n",
       "      <th>user_id</th>\n",
       "      <th>first_name</th>\n",
       "      <th>last_name</th>\n",
       "      <th>age</th>\n",
       "      <th>city</th>\n",
       "      <th>reg_date</th>\n",
       "      <th>plan</th>\n",
       "      <th>churn_date</th>\n",
       "    </tr>\n",
       "  </thead>\n",
       "  <tbody>\n",
       "    <tr>\n",
       "      <th>236</th>\n",
       "      <td>1236</td>\n",
       "      <td>Odell</td>\n",
       "      <td>Juarez</td>\n",
       "      <td>74</td>\n",
       "      <td>Minneapolis-St. Paul-Bloomington, MN-WI MSA</td>\n",
       "      <td>2018-04-04</td>\n",
       "      <td>ultimate</td>\n",
       "      <td>NaN</td>\n",
       "    </tr>\n",
       "    <tr>\n",
       "      <th>316</th>\n",
       "      <td>1316</td>\n",
       "      <td>Lucilla</td>\n",
       "      <td>Weeks</td>\n",
       "      <td>59</td>\n",
       "      <td>Tulsa, OK MSA</td>\n",
       "      <td>2018-05-21</td>\n",
       "      <td>surf</td>\n",
       "      <td>NaN</td>\n",
       "    </tr>\n",
       "    <tr>\n",
       "      <th>136</th>\n",
       "      <td>1136</td>\n",
       "      <td>Jasper</td>\n",
       "      <td>Caldwell</td>\n",
       "      <td>25</td>\n",
       "      <td>Knoxville, TN MSA</td>\n",
       "      <td>2018-10-14</td>\n",
       "      <td>surf</td>\n",
       "      <td>NaN</td>\n",
       "    </tr>\n",
       "    <tr>\n",
       "      <th>326</th>\n",
       "      <td>1326</td>\n",
       "      <td>Johnathon</td>\n",
       "      <td>Branch</td>\n",
       "      <td>21</td>\n",
       "      <td>Greensboro-High Point, NC MSA</td>\n",
       "      <td>2018-02-06</td>\n",
       "      <td>surf</td>\n",
       "      <td>NaN</td>\n",
       "    </tr>\n",
       "    <tr>\n",
       "      <th>275</th>\n",
       "      <td>1275</td>\n",
       "      <td>Elvie</td>\n",
       "      <td>Velazquez</td>\n",
       "      <td>33</td>\n",
       "      <td>New York-Newark-Jersey City, NY-NJ-PA MSA</td>\n",
       "      <td>2018-11-29</td>\n",
       "      <td>ultimate</td>\n",
       "      <td>NaN</td>\n",
       "    </tr>\n",
       "    <tr>\n",
       "      <th>404</th>\n",
       "      <td>1404</td>\n",
       "      <td>Paulita</td>\n",
       "      <td>Conley</td>\n",
       "      <td>33</td>\n",
       "      <td>New York-Newark-Jersey City, NY-NJ-PA MSA</td>\n",
       "      <td>2018-04-16</td>\n",
       "      <td>surf</td>\n",
       "      <td>NaN</td>\n",
       "    </tr>\n",
       "    <tr>\n",
       "      <th>57</th>\n",
       "      <td>1057</td>\n",
       "      <td>Theo</td>\n",
       "      <td>Sargent</td>\n",
       "      <td>18</td>\n",
       "      <td>Atlanta-Sandy Springs-Roswell, GA MSA</td>\n",
       "      <td>2018-08-07</td>\n",
       "      <td>ultimate</td>\n",
       "      <td>NaN</td>\n",
       "    </tr>\n",
       "    <tr>\n",
       "      <th>490</th>\n",
       "      <td>1490</td>\n",
       "      <td>Shane</td>\n",
       "      <td>Cortez</td>\n",
       "      <td>42</td>\n",
       "      <td>Sacramento–Roseville–Folsom, CA MSA</td>\n",
       "      <td>2018-01-20</td>\n",
       "      <td>ultimate</td>\n",
       "      <td>NaN</td>\n",
       "    </tr>\n",
       "    <tr>\n",
       "      <th>473</th>\n",
       "      <td>1473</td>\n",
       "      <td>Kirk</td>\n",
       "      <td>Velez</td>\n",
       "      <td>61</td>\n",
       "      <td>Louisville/Jefferson County, KY-IN MSA</td>\n",
       "      <td>2018-12-31</td>\n",
       "      <td>surf</td>\n",
       "      <td>NaN</td>\n",
       "    </tr>\n",
       "    <tr>\n",
       "      <th>204</th>\n",
       "      <td>1204</td>\n",
       "      <td>Sherly</td>\n",
       "      <td>Levy</td>\n",
       "      <td>44</td>\n",
       "      <td>Chicago-Naperville-Elgin, IL-IN-WI MSA</td>\n",
       "      <td>2018-08-20</td>\n",
       "      <td>ultimate</td>\n",
       "      <td>NaN</td>\n",
       "    </tr>\n",
       "    <tr>\n",
       "      <th>280</th>\n",
       "      <td>1280</td>\n",
       "      <td>Jasper</td>\n",
       "      <td>Berry</td>\n",
       "      <td>29</td>\n",
       "      <td>New York-Newark-Jersey City, NY-NJ-PA MSA</td>\n",
       "      <td>2018-06-23</td>\n",
       "      <td>surf</td>\n",
       "      <td>NaN</td>\n",
       "    </tr>\n",
       "    <tr>\n",
       "      <th>4</th>\n",
       "      <td>1004</td>\n",
       "      <td>Leonila</td>\n",
       "      <td>Thompson</td>\n",
       "      <td>40</td>\n",
       "      <td>Seattle-Tacoma-Bellevue, WA MSA</td>\n",
       "      <td>2018-05-23</td>\n",
       "      <td>surf</td>\n",
       "      <td>NaN</td>\n",
       "    </tr>\n",
       "    <tr>\n",
       "      <th>394</th>\n",
       "      <td>1394</td>\n",
       "      <td>Alejandro</td>\n",
       "      <td>Carver</td>\n",
       "      <td>28</td>\n",
       "      <td>Stockton, CA MSA</td>\n",
       "      <td>2018-01-16</td>\n",
       "      <td>surf</td>\n",
       "      <td>NaN</td>\n",
       "    </tr>\n",
       "    <tr>\n",
       "      <th>195</th>\n",
       "      <td>1195</td>\n",
       "      <td>Roy</td>\n",
       "      <td>Velez</td>\n",
       "      <td>60</td>\n",
       "      <td>Portland-Vancouver-Hillsboro, OR-WA MSA</td>\n",
       "      <td>2018-06-09</td>\n",
       "      <td>surf</td>\n",
       "      <td>NaN</td>\n",
       "    </tr>\n",
       "    <tr>\n",
       "      <th>381</th>\n",
       "      <td>1381</td>\n",
       "      <td>German</td>\n",
       "      <td>Burris</td>\n",
       "      <td>44</td>\n",
       "      <td>Austin-Round Rock-Georgetown, TX MSA</td>\n",
       "      <td>2018-08-30</td>\n",
       "      <td>surf</td>\n",
       "      <td>NaN</td>\n",
       "    </tr>\n",
       "    <tr>\n",
       "      <th>115</th>\n",
       "      <td>1115</td>\n",
       "      <td>Yevette</td>\n",
       "      <td>Yang</td>\n",
       "      <td>21</td>\n",
       "      <td>El Paso, TX MSA</td>\n",
       "      <td>2018-11-19</td>\n",
       "      <td>surf</td>\n",
       "      <td>NaN</td>\n",
       "    </tr>\n",
       "    <tr>\n",
       "      <th>413</th>\n",
       "      <td>1413</td>\n",
       "      <td>Andre</td>\n",
       "      <td>Hensley</td>\n",
       "      <td>38</td>\n",
       "      <td>Bakersfield, CA MSA</td>\n",
       "      <td>2018-07-12</td>\n",
       "      <td>surf</td>\n",
       "      <td>NaN</td>\n",
       "    </tr>\n",
       "    <tr>\n",
       "      <th>67</th>\n",
       "      <td>1067</td>\n",
       "      <td>Robt</td>\n",
       "      <td>Allen</td>\n",
       "      <td>37</td>\n",
       "      <td>Grand Rapids-Kentwood, MI MSA</td>\n",
       "      <td>2018-09-24</td>\n",
       "      <td>surf</td>\n",
       "      <td>2018-11-24</td>\n",
       "    </tr>\n",
       "    <tr>\n",
       "      <th>351</th>\n",
       "      <td>1351</td>\n",
       "      <td>Kyle</td>\n",
       "      <td>Grimes</td>\n",
       "      <td>47</td>\n",
       "      <td>San Antonio-New Braunfels, TX MSA</td>\n",
       "      <td>2018-09-05</td>\n",
       "      <td>ultimate</td>\n",
       "      <td>NaN</td>\n",
       "    </tr>\n",
       "    <tr>\n",
       "      <th>112</th>\n",
       "      <td>1112</td>\n",
       "      <td>Amal</td>\n",
       "      <td>Pacheco</td>\n",
       "      <td>18</td>\n",
       "      <td>Grand Rapids-Kentwood, MI MSA</td>\n",
       "      <td>2018-10-08</td>\n",
       "      <td>ultimate</td>\n",
       "      <td>NaN</td>\n",
       "    </tr>\n",
       "  </tbody>\n",
       "</table>\n",
       "</div>"
      ],
      "text/plain": [
       "     user_id first_name  last_name  age  \\\n",
       "236     1236      Odell     Juarez   74   \n",
       "316     1316    Lucilla      Weeks   59   \n",
       "136     1136     Jasper   Caldwell   25   \n",
       "326     1326  Johnathon     Branch   21   \n",
       "275     1275      Elvie  Velazquez   33   \n",
       "404     1404    Paulita     Conley   33   \n",
       "57      1057       Theo    Sargent   18   \n",
       "490     1490      Shane     Cortez   42   \n",
       "473     1473       Kirk      Velez   61   \n",
       "204     1204     Sherly       Levy   44   \n",
       "280     1280     Jasper      Berry   29   \n",
       "4       1004    Leonila   Thompson   40   \n",
       "394     1394  Alejandro     Carver   28   \n",
       "195     1195        Roy      Velez   60   \n",
       "381     1381     German     Burris   44   \n",
       "115     1115    Yevette       Yang   21   \n",
       "413     1413      Andre    Hensley   38   \n",
       "67      1067       Robt      Allen   37   \n",
       "351     1351       Kyle     Grimes   47   \n",
       "112     1112       Amal    Pacheco   18   \n",
       "\n",
       "                                            city   reg_date      plan  \\\n",
       "236  Minneapolis-St. Paul-Bloomington, MN-WI MSA 2018-04-04  ultimate   \n",
       "316                                Tulsa, OK MSA 2018-05-21      surf   \n",
       "136                            Knoxville, TN MSA 2018-10-14      surf   \n",
       "326                Greensboro-High Point, NC MSA 2018-02-06      surf   \n",
       "275    New York-Newark-Jersey City, NY-NJ-PA MSA 2018-11-29  ultimate   \n",
       "404    New York-Newark-Jersey City, NY-NJ-PA MSA 2018-04-16      surf   \n",
       "57         Atlanta-Sandy Springs-Roswell, GA MSA 2018-08-07  ultimate   \n",
       "490          Sacramento–Roseville–Folsom, CA MSA 2018-01-20  ultimate   \n",
       "473       Louisville/Jefferson County, KY-IN MSA 2018-12-31      surf   \n",
       "204       Chicago-Naperville-Elgin, IL-IN-WI MSA 2018-08-20  ultimate   \n",
       "280    New York-Newark-Jersey City, NY-NJ-PA MSA 2018-06-23      surf   \n",
       "4                Seattle-Tacoma-Bellevue, WA MSA 2018-05-23      surf   \n",
       "394                             Stockton, CA MSA 2018-01-16      surf   \n",
       "195      Portland-Vancouver-Hillsboro, OR-WA MSA 2018-06-09      surf   \n",
       "381         Austin-Round Rock-Georgetown, TX MSA 2018-08-30      surf   \n",
       "115                              El Paso, TX MSA 2018-11-19      surf   \n",
       "413                          Bakersfield, CA MSA 2018-07-12      surf   \n",
       "67                 Grand Rapids-Kentwood, MI MSA 2018-09-24      surf   \n",
       "351            San Antonio-New Braunfels, TX MSA 2018-09-05  ultimate   \n",
       "112                Grand Rapids-Kentwood, MI MSA 2018-10-08  ultimate   \n",
       "\n",
       "     churn_date  \n",
       "236         NaN  \n",
       "316         NaN  \n",
       "136         NaN  \n",
       "326         NaN  \n",
       "275         NaN  \n",
       "404         NaN  \n",
       "57          NaN  \n",
       "490         NaN  \n",
       "473         NaN  \n",
       "204         NaN  \n",
       "280         NaN  \n",
       "4           NaN  \n",
       "394         NaN  \n",
       "195         NaN  \n",
       "381         NaN  \n",
       "115         NaN  \n",
       "413         NaN  \n",
       "67   2018-11-24  \n",
       "351         NaN  \n",
       "112         NaN  "
      ]
     },
     "execution_count": 141,
     "metadata": {},
     "output_type": "execute_result"
    }
   ],
   "source": [
    "df_users['reg_date'] = pd.to_datetime(df_users['reg_date'], dayfirst=True, errors='coerce')\n",
    "df_users.sample(20)"
   ]
  },
  {
   "cell_type": "markdown",
   "metadata": {
    "id": "ycwuARJp0q07"
   },
   "source": [
    "### Enriquecer los datos"
   ]
  },
  {
   "cell_type": "code",
   "execution_count": 142,
   "metadata": {
    "id": "iq0AaBS90q08"
   },
   "outputs": [
    {
     "data": {
      "text/html": [
       "<div>\n",
       "<style scoped>\n",
       "    .dataframe tbody tr th:only-of-type {\n",
       "        vertical-align: middle;\n",
       "    }\n",
       "\n",
       "    .dataframe tbody tr th {\n",
       "        vertical-align: top;\n",
       "    }\n",
       "\n",
       "    .dataframe thead th {\n",
       "        text-align: right;\n",
       "    }\n",
       "</style>\n",
       "<table border=\"1\" class=\"dataframe\">\n",
       "  <thead>\n",
       "    <tr style=\"text-align: right;\">\n",
       "      <th></th>\n",
       "      <th>user_id</th>\n",
       "      <th>first_name</th>\n",
       "      <th>last_name</th>\n",
       "      <th>age</th>\n",
       "      <th>city</th>\n",
       "      <th>reg_date</th>\n",
       "      <th>plan</th>\n",
       "      <th>churn_date</th>\n",
       "      <th>antiguedad_dias</th>\n",
       "      <th>antiguedad_anos</th>\n",
       "      <th>ciudad_sola</th>\n",
       "      <th>estado</th>\n",
       "      <th>grupo_edad</th>\n",
       "      <th>status</th>\n",
       "    </tr>\n",
       "  </thead>\n",
       "  <tbody>\n",
       "    <tr>\n",
       "      <th>447</th>\n",
       "      <td>1447</td>\n",
       "      <td>Ramon</td>\n",
       "      <td>Hester</td>\n",
       "      <td>62</td>\n",
       "      <td>Orlando-Kissimmee-Sanford, FL MSA</td>\n",
       "      <td>01/05/2018</td>\n",
       "      <td>surf</td>\n",
       "      <td>NaN</td>\n",
       "      <td>2632</td>\n",
       "      <td>7</td>\n",
       "      <td>Orlando-Kissimmee-Sanford</td>\n",
       "      <td>FL</td>\n",
       "      <td>51-65</td>\n",
       "      <td>True</td>\n",
       "    </tr>\n",
       "    <tr>\n",
       "      <th>231</th>\n",
       "      <td>1231</td>\n",
       "      <td>Gaylord</td>\n",
       "      <td>Witt</td>\n",
       "      <td>57</td>\n",
       "      <td>San Jose-Sunnyvale-Santa Clara, CA MSA</td>\n",
       "      <td>19/01/2018</td>\n",
       "      <td>ultimate</td>\n",
       "      <td>NaN</td>\n",
       "      <td>2734</td>\n",
       "      <td>7</td>\n",
       "      <td>San Jose-Sunnyvale-Santa Clara</td>\n",
       "      <td>CA</td>\n",
       "      <td>51-65</td>\n",
       "      <td>True</td>\n",
       "    </tr>\n",
       "    <tr>\n",
       "      <th>384</th>\n",
       "      <td>1384</td>\n",
       "      <td>Dominique</td>\n",
       "      <td>Good</td>\n",
       "      <td>36</td>\n",
       "      <td>Philadelphia-Camden-Wilmington, PA-NJ-DE-MD MSA</td>\n",
       "      <td>09/06/2018</td>\n",
       "      <td>ultimate</td>\n",
       "      <td>NaN</td>\n",
       "      <td>2593</td>\n",
       "      <td>7</td>\n",
       "      <td>Philadelphia-Camden-Wilmington</td>\n",
       "      <td>PA</td>\n",
       "      <td>36-50</td>\n",
       "      <td>True</td>\n",
       "    </tr>\n",
       "    <tr>\n",
       "      <th>266</th>\n",
       "      <td>1266</td>\n",
       "      <td>Dorie</td>\n",
       "      <td>Chandler</td>\n",
       "      <td>62</td>\n",
       "      <td>New York-Newark-Jersey City, NY-NJ-PA MSA</td>\n",
       "      <td>13/12/2018</td>\n",
       "      <td>surf</td>\n",
       "      <td>NaN</td>\n",
       "      <td>2406</td>\n",
       "      <td>6</td>\n",
       "      <td>New York-Newark-Jersey City</td>\n",
       "      <td>NY</td>\n",
       "      <td>51-65</td>\n",
       "      <td>True</td>\n",
       "    </tr>\n",
       "    <tr>\n",
       "      <th>161</th>\n",
       "      <td>1161</td>\n",
       "      <td>Florance</td>\n",
       "      <td>Estrada</td>\n",
       "      <td>52</td>\n",
       "      <td>New York-Newark-Jersey City, NY-NJ-PA MSA</td>\n",
       "      <td>27/11/2018</td>\n",
       "      <td>ultimate</td>\n",
       "      <td>NaN</td>\n",
       "      <td>2422</td>\n",
       "      <td>6</td>\n",
       "      <td>New York-Newark-Jersey City</td>\n",
       "      <td>NY</td>\n",
       "      <td>51-65</td>\n",
       "      <td>True</td>\n",
       "    </tr>\n",
       "    <tr>\n",
       "      <th>277</th>\n",
       "      <td>1277</td>\n",
       "      <td>Andrew</td>\n",
       "      <td>Faulkner</td>\n",
       "      <td>25</td>\n",
       "      <td>New York-Newark-Jersey City, NY-NJ-PA MSA</td>\n",
       "      <td>02/02/2018</td>\n",
       "      <td>surf</td>\n",
       "      <td>NaN</td>\n",
       "      <td>2720</td>\n",
       "      <td>7</td>\n",
       "      <td>New York-Newark-Jersey City</td>\n",
       "      <td>NY</td>\n",
       "      <td>18-25</td>\n",
       "      <td>True</td>\n",
       "    </tr>\n",
       "    <tr>\n",
       "      <th>355</th>\n",
       "      <td>1355</td>\n",
       "      <td>Digna</td>\n",
       "      <td>Tyson</td>\n",
       "      <td>57</td>\n",
       "      <td>Los Angeles-Long Beach-Anaheim, CA MSA</td>\n",
       "      <td>07/10/2018</td>\n",
       "      <td>surf</td>\n",
       "      <td>NaN</td>\n",
       "      <td>2473</td>\n",
       "      <td>6</td>\n",
       "      <td>Los Angeles-Long Beach-Anaheim</td>\n",
       "      <td>CA</td>\n",
       "      <td>51-65</td>\n",
       "      <td>True</td>\n",
       "    </tr>\n",
       "    <tr>\n",
       "      <th>84</th>\n",
       "      <td>1084</td>\n",
       "      <td>Wiley</td>\n",
       "      <td>Mckinney</td>\n",
       "      <td>21</td>\n",
       "      <td>Miami-Fort Lauderdale-West Palm Beach, FL MSA</td>\n",
       "      <td>04/06/2018</td>\n",
       "      <td>surf</td>\n",
       "      <td>2018-11-11</td>\n",
       "      <td>2598</td>\n",
       "      <td>7</td>\n",
       "      <td>Miami-Fort Lauderdale-West Palm Beach</td>\n",
       "      <td>FL</td>\n",
       "      <td>18-25</td>\n",
       "      <td>False</td>\n",
       "    </tr>\n",
       "    <tr>\n",
       "      <th>313</th>\n",
       "      <td>1313</td>\n",
       "      <td>Antoine</td>\n",
       "      <td>Baker</td>\n",
       "      <td>49</td>\n",
       "      <td>San Francisco-Oakland-Berkeley, CA MSA</td>\n",
       "      <td>24/05/2018</td>\n",
       "      <td>surf</td>\n",
       "      <td>NaN</td>\n",
       "      <td>2609</td>\n",
       "      <td>7</td>\n",
       "      <td>San Francisco-Oakland-Berkeley</td>\n",
       "      <td>CA</td>\n",
       "      <td>36-50</td>\n",
       "      <td>True</td>\n",
       "    </tr>\n",
       "    <tr>\n",
       "      <th>391</th>\n",
       "      <td>1391</td>\n",
       "      <td>Errol</td>\n",
       "      <td>Cooke</td>\n",
       "      <td>52</td>\n",
       "      <td>New York-Newark-Jersey City, NY-NJ-PA MSA</td>\n",
       "      <td>11/09/2018</td>\n",
       "      <td>ultimate</td>\n",
       "      <td>NaN</td>\n",
       "      <td>2499</td>\n",
       "      <td>6</td>\n",
       "      <td>New York-Newark-Jersey City</td>\n",
       "      <td>NY</td>\n",
       "      <td>51-65</td>\n",
       "      <td>True</td>\n",
       "    </tr>\n",
       "  </tbody>\n",
       "</table>\n",
       "</div>"
      ],
      "text/plain": [
       "     user_id first_name last_name  age  \\\n",
       "447     1447      Ramon    Hester   62   \n",
       "231     1231    Gaylord      Witt   57   \n",
       "384     1384  Dominique      Good   36   \n",
       "266     1266      Dorie  Chandler   62   \n",
       "161     1161   Florance   Estrada   52   \n",
       "277     1277     Andrew  Faulkner   25   \n",
       "355     1355      Digna     Tyson   57   \n",
       "84      1084      Wiley  Mckinney   21   \n",
       "313     1313    Antoine     Baker   49   \n",
       "391     1391      Errol     Cooke   52   \n",
       "\n",
       "                                                city    reg_date      plan  \\\n",
       "447                Orlando-Kissimmee-Sanford, FL MSA  01/05/2018      surf   \n",
       "231           San Jose-Sunnyvale-Santa Clara, CA MSA  19/01/2018  ultimate   \n",
       "384  Philadelphia-Camden-Wilmington, PA-NJ-DE-MD MSA  09/06/2018  ultimate   \n",
       "266        New York-Newark-Jersey City, NY-NJ-PA MSA  13/12/2018      surf   \n",
       "161        New York-Newark-Jersey City, NY-NJ-PA MSA  27/11/2018  ultimate   \n",
       "277        New York-Newark-Jersey City, NY-NJ-PA MSA  02/02/2018      surf   \n",
       "355           Los Angeles-Long Beach-Anaheim, CA MSA  07/10/2018      surf   \n",
       "84     Miami-Fort Lauderdale-West Palm Beach, FL MSA  04/06/2018      surf   \n",
       "313           San Francisco-Oakland-Berkeley, CA MSA  24/05/2018      surf   \n",
       "391        New York-Newark-Jersey City, NY-NJ-PA MSA  11/09/2018  ultimate   \n",
       "\n",
       "     churn_date  antiguedad_dias  antiguedad_anos  \\\n",
       "447         NaN             2632                7   \n",
       "231         NaN             2734                7   \n",
       "384         NaN             2593                7   \n",
       "266         NaN             2406                6   \n",
       "161         NaN             2422                6   \n",
       "277         NaN             2720                7   \n",
       "355         NaN             2473                6   \n",
       "84   2018-11-11             2598                7   \n",
       "313         NaN             2609                7   \n",
       "391         NaN             2499                6   \n",
       "\n",
       "                               ciudad_sola estado grupo_edad  status  \n",
       "447              Orlando-Kissimmee-Sanford     FL      51-65    True  \n",
       "231         San Jose-Sunnyvale-Santa Clara     CA      51-65    True  \n",
       "384         Philadelphia-Camden-Wilmington     PA      36-50    True  \n",
       "266            New York-Newark-Jersey City     NY      51-65    True  \n",
       "161            New York-Newark-Jersey City     NY      51-65    True  \n",
       "277            New York-Newark-Jersey City     NY      18-25    True  \n",
       "355         Los Angeles-Long Beach-Anaheim     CA      51-65    True  \n",
       "84   Miami-Fort Lauderdale-West Palm Beach     FL      18-25   False  \n",
       "313         San Francisco-Oakland-Berkeley     CA      36-50    True  \n",
       "391            New York-Newark-Jersey City     NY      51-65    True  "
      ]
     },
     "execution_count": 142,
     "metadata": {},
     "output_type": "execute_result"
    }
   ],
   "source": [
    "#Antiguedad de usuario en años\n",
    "hoy = pd.to_datetime('today')\n",
    "df_users['antiguedad_dias'] = (hoy - df_users['reg_date']).dt.days\n",
    "df_users['antiguedad_anos'] = df_users['antiguedad_dias'] // 365\n",
    "#Cambiar formato columna 'reg_date' a str\n",
    "df_users['reg_date'] = pd.to_datetime(df_users['reg_date'], format='%Y/%m/%d').dt.strftime('%d/%m/%Y')\n",
    "#Obtener la ciudad y estado por separado.\n",
    "df_users['ciudad_sola'] = df_users['city'].str.split(',').str[0]\n",
    "df_users['estado'] = df_users['city'].str.extract(r', (\\w{2})')\n",
    "#Agrupar edad por rangos\n",
    "df_users['grupo_edad'] = pd.cut(\n",
    "    df_users['age'],\n",
    "    bins=[0, 25, 35, 50, 65, 100],\n",
    "    labels=['18-25', '26-35', '36-50', '51-65', '66+'],\n",
    "    right=True)\n",
    "#Status de usuario\n",
    "df_users['status'] = df_users['churn_date'].isna()\n",
    "df_users.sample(10)"
   ]
  },
  {
   "cell_type": "markdown",
   "metadata": {
    "id": "o7MeKCid0q08"
   },
   "source": [
    "## Llamadas"
   ]
  },
  {
   "cell_type": "code",
   "execution_count": 143,
   "metadata": {
    "id": "6dDlnoDm0q08"
   },
   "outputs": [
    {
     "name": "stdout",
     "output_type": "stream",
     "text": [
      "<class 'pandas.core.frame.DataFrame'>\n",
      "RangeIndex: 137735 entries, 0 to 137734\n",
      "Data columns (total 4 columns):\n",
      " #   Column     Non-Null Count   Dtype  \n",
      "---  ------     --------------   -----  \n",
      " 0   id         137735 non-null  object \n",
      " 1   user_id    137735 non-null  int64  \n",
      " 2   call_date  137735 non-null  object \n",
      " 3   duration   137735 non-null  float64\n",
      "dtypes: float64(1), int64(1), object(2)\n",
      "memory usage: 4.2+ MB\n"
     ]
    }
   ],
   "source": [
    "# Imprime la información general/resumida sobre el DataFrame de las llamadas\n",
    "df_calls.info()"
   ]
  },
  {
   "cell_type": "code",
   "execution_count": 144,
   "metadata": {
    "id": "kuh1vlNB0q09"
   },
   "outputs": [
    {
     "data": {
      "text/html": [
       "<div>\n",
       "<style scoped>\n",
       "    .dataframe tbody tr th:only-of-type {\n",
       "        vertical-align: middle;\n",
       "    }\n",
       "\n",
       "    .dataframe tbody tr th {\n",
       "        vertical-align: top;\n",
       "    }\n",
       "\n",
       "    .dataframe thead th {\n",
       "        text-align: right;\n",
       "    }\n",
       "</style>\n",
       "<table border=\"1\" class=\"dataframe\">\n",
       "  <thead>\n",
       "    <tr style=\"text-align: right;\">\n",
       "      <th></th>\n",
       "      <th>id</th>\n",
       "      <th>user_id</th>\n",
       "      <th>call_date</th>\n",
       "      <th>duration</th>\n",
       "    </tr>\n",
       "  </thead>\n",
       "  <tbody>\n",
       "    <tr>\n",
       "      <th>112651</th>\n",
       "      <td>1397_255</td>\n",
       "      <td>1397</td>\n",
       "      <td>2018-09-18</td>\n",
       "      <td>3.34</td>\n",
       "    </tr>\n",
       "    <tr>\n",
       "      <th>69946</th>\n",
       "      <td>1250_176</td>\n",
       "      <td>1250</td>\n",
       "      <td>2018-10-23</td>\n",
       "      <td>7.87</td>\n",
       "    </tr>\n",
       "    <tr>\n",
       "      <th>95144</th>\n",
       "      <td>1337_70</td>\n",
       "      <td>1337</td>\n",
       "      <td>2018-12-03</td>\n",
       "      <td>3.83</td>\n",
       "    </tr>\n",
       "    <tr>\n",
       "      <th>33970</th>\n",
       "      <td>1126_899</td>\n",
       "      <td>1126</td>\n",
       "      <td>2018-08-29</td>\n",
       "      <td>0.00</td>\n",
       "    </tr>\n",
       "    <tr>\n",
       "      <th>117567</th>\n",
       "      <td>1411_170</td>\n",
       "      <td>1411</td>\n",
       "      <td>2018-10-28</td>\n",
       "      <td>3.69</td>\n",
       "    </tr>\n",
       "    <tr>\n",
       "      <th>113522</th>\n",
       "      <td>1399_145</td>\n",
       "      <td>1399</td>\n",
       "      <td>2018-12-12</td>\n",
       "      <td>5.32</td>\n",
       "    </tr>\n",
       "    <tr>\n",
       "      <th>45076</th>\n",
       "      <td>1163_135</td>\n",
       "      <td>1163</td>\n",
       "      <td>2018-10-31</td>\n",
       "      <td>15.22</td>\n",
       "    </tr>\n",
       "    <tr>\n",
       "      <th>126798</th>\n",
       "      <td>1451_198</td>\n",
       "      <td>1451</td>\n",
       "      <td>2018-11-23</td>\n",
       "      <td>0.00</td>\n",
       "    </tr>\n",
       "    <tr>\n",
       "      <th>29517</th>\n",
       "      <td>1111_160</td>\n",
       "      <td>1111</td>\n",
       "      <td>2018-12-12</td>\n",
       "      <td>11.38</td>\n",
       "    </tr>\n",
       "    <tr>\n",
       "      <th>51733</th>\n",
       "      <td>1185_771</td>\n",
       "      <td>1185</td>\n",
       "      <td>2018-05-19</td>\n",
       "      <td>0.00</td>\n",
       "    </tr>\n",
       "  </tbody>\n",
       "</table>\n",
       "</div>"
      ],
      "text/plain": [
       "              id  user_id   call_date  duration\n",
       "112651  1397_255     1397  2018-09-18      3.34\n",
       "69946   1250_176     1250  2018-10-23      7.87\n",
       "95144    1337_70     1337  2018-12-03      3.83\n",
       "33970   1126_899     1126  2018-08-29      0.00\n",
       "117567  1411_170     1411  2018-10-28      3.69\n",
       "113522  1399_145     1399  2018-12-12      5.32\n",
       "45076   1163_135     1163  2018-10-31     15.22\n",
       "126798  1451_198     1451  2018-11-23      0.00\n",
       "29517   1111_160     1111  2018-12-12     11.38\n",
       "51733   1185_771     1185  2018-05-19      0.00"
      ]
     },
     "execution_count": 144,
     "metadata": {},
     "output_type": "execute_result"
    }
   ],
   "source": [
    "# Imprime una muestra de datos para las llamadas\n",
    "df_calls.sample(10)"
   ]
  },
  {
   "cell_type": "markdown",
   "metadata": {
    "id": "DOAxYJSx0q09"
   },
   "source": [
    "Para el Dataframe de Llamadas se debe cambiar el formato de la fecha de llamada en dd/mm/aa,  y que este en datetime64, podemos incluir la columna del total de minutos mensuales para comparar con los minutos que incluye el plan y validar si supera el consumo de acuerdo al plan contratado y cuantos usuarios superar el plan mensualmente."
   ]
  },
  {
   "cell_type": "markdown",
   "metadata": {
    "id": "S7hzxmbX0q0-"
   },
   "source": [
    "### Corregir los datos"
   ]
  },
  {
   "cell_type": "code",
   "execution_count": 145,
   "metadata": {
    "id": "S2r8xA4f0q0-",
    "scrolled": true
   },
   "outputs": [
    {
     "data": {
      "text/html": [
       "<div>\n",
       "<style scoped>\n",
       "    .dataframe tbody tr th:only-of-type {\n",
       "        vertical-align: middle;\n",
       "    }\n",
       "\n",
       "    .dataframe tbody tr th {\n",
       "        vertical-align: top;\n",
       "    }\n",
       "\n",
       "    .dataframe thead th {\n",
       "        text-align: right;\n",
       "    }\n",
       "</style>\n",
       "<table border=\"1\" class=\"dataframe\">\n",
       "  <thead>\n",
       "    <tr style=\"text-align: right;\">\n",
       "      <th></th>\n",
       "      <th>id</th>\n",
       "      <th>user_id</th>\n",
       "      <th>call_date</th>\n",
       "      <th>duration</th>\n",
       "    </tr>\n",
       "  </thead>\n",
       "  <tbody>\n",
       "    <tr>\n",
       "      <th>8306</th>\n",
       "      <td>1039_246</td>\n",
       "      <td>1039</td>\n",
       "      <td>2018-10-12</td>\n",
       "      <td>0.00</td>\n",
       "    </tr>\n",
       "    <tr>\n",
       "      <th>129176</th>\n",
       "      <td>1465_468</td>\n",
       "      <td>1465</td>\n",
       "      <td>2018-08-13</td>\n",
       "      <td>20.71</td>\n",
       "    </tr>\n",
       "    <tr>\n",
       "      <th>47988</th>\n",
       "      <td>1173_411</td>\n",
       "      <td>1173</td>\n",
       "      <td>2018-12-09</td>\n",
       "      <td>6.52</td>\n",
       "    </tr>\n",
       "    <tr>\n",
       "      <th>49295</th>\n",
       "      <td>1178_374</td>\n",
       "      <td>1178</td>\n",
       "      <td>2018-11-02</td>\n",
       "      <td>1.48</td>\n",
       "    </tr>\n",
       "    <tr>\n",
       "      <th>47993</th>\n",
       "      <td>1173_422</td>\n",
       "      <td>1173</td>\n",
       "      <td>2018-11-17</td>\n",
       "      <td>11.13</td>\n",
       "    </tr>\n",
       "    <tr>\n",
       "      <th>41893</th>\n",
       "      <td>1153_783</td>\n",
       "      <td>1153</td>\n",
       "      <td>2018-11-15</td>\n",
       "      <td>4.73</td>\n",
       "    </tr>\n",
       "    <tr>\n",
       "      <th>80486</th>\n",
       "      <td>1291_86</td>\n",
       "      <td>1291</td>\n",
       "      <td>2018-11-11</td>\n",
       "      <td>10.23</td>\n",
       "    </tr>\n",
       "    <tr>\n",
       "      <th>113250</th>\n",
       "      <td>1398_10</td>\n",
       "      <td>1398</td>\n",
       "      <td>2018-12-29</td>\n",
       "      <td>9.87</td>\n",
       "    </tr>\n",
       "    <tr>\n",
       "      <th>75316</th>\n",
       "      <td>1267_38</td>\n",
       "      <td>1267</td>\n",
       "      <td>2018-12-12</td>\n",
       "      <td>0.00</td>\n",
       "    </tr>\n",
       "    <tr>\n",
       "      <th>10167</th>\n",
       "      <td>1046_33</td>\n",
       "      <td>1046</td>\n",
       "      <td>2018-10-24</td>\n",
       "      <td>5.08</td>\n",
       "    </tr>\n",
       "    <tr>\n",
       "      <th>115498</th>\n",
       "      <td>1404_292</td>\n",
       "      <td>1404</td>\n",
       "      <td>2018-09-26</td>\n",
       "      <td>6.61</td>\n",
       "    </tr>\n",
       "    <tr>\n",
       "      <th>45933</th>\n",
       "      <td>1167_16</td>\n",
       "      <td>1167</td>\n",
       "      <td>2018-08-23</td>\n",
       "      <td>8.51</td>\n",
       "    </tr>\n",
       "    <tr>\n",
       "      <th>9919</th>\n",
       "      <td>1045_5</td>\n",
       "      <td>1045</td>\n",
       "      <td>2018-11-18</td>\n",
       "      <td>1.71</td>\n",
       "    </tr>\n",
       "    <tr>\n",
       "      <th>47007</th>\n",
       "      <td>1171_38</td>\n",
       "      <td>1171</td>\n",
       "      <td>2018-02-10</td>\n",
       "      <td>2.77</td>\n",
       "    </tr>\n",
       "    <tr>\n",
       "      <th>107973</th>\n",
       "      <td>1382_957</td>\n",
       "      <td>1382</td>\n",
       "      <td>2018-08-06</td>\n",
       "      <td>8.27</td>\n",
       "    </tr>\n",
       "    <tr>\n",
       "      <th>9007</th>\n",
       "      <td>1041_442</td>\n",
       "      <td>1041</td>\n",
       "      <td>2018-05-09</td>\n",
       "      <td>10.20</td>\n",
       "    </tr>\n",
       "    <tr>\n",
       "      <th>61155</th>\n",
       "      <td>1220_551</td>\n",
       "      <td>1220</td>\n",
       "      <td>2018-08-30</td>\n",
       "      <td>12.17</td>\n",
       "    </tr>\n",
       "    <tr>\n",
       "      <th>86651</th>\n",
       "      <td>1320_320</td>\n",
       "      <td>1320</td>\n",
       "      <td>2018-06-19</td>\n",
       "      <td>5.62</td>\n",
       "    </tr>\n",
       "    <tr>\n",
       "      <th>19648</th>\n",
       "      <td>1074_202</td>\n",
       "      <td>1074</td>\n",
       "      <td>2018-12-09</td>\n",
       "      <td>7.33</td>\n",
       "    </tr>\n",
       "    <tr>\n",
       "      <th>35865</th>\n",
       "      <td>1134_277</td>\n",
       "      <td>1134</td>\n",
       "      <td>2018-09-14</td>\n",
       "      <td>21.08</td>\n",
       "    </tr>\n",
       "  </tbody>\n",
       "</table>\n",
       "</div>"
      ],
      "text/plain": [
       "              id  user_id  call_date  duration\n",
       "8306    1039_246     1039 2018-10-12      0.00\n",
       "129176  1465_468     1465 2018-08-13     20.71\n",
       "47988   1173_411     1173 2018-12-09      6.52\n",
       "49295   1178_374     1178 2018-11-02      1.48\n",
       "47993   1173_422     1173 2018-11-17     11.13\n",
       "41893   1153_783     1153 2018-11-15      4.73\n",
       "80486    1291_86     1291 2018-11-11     10.23\n",
       "113250   1398_10     1398 2018-12-29      9.87\n",
       "75316    1267_38     1267 2018-12-12      0.00\n",
       "10167    1046_33     1046 2018-10-24      5.08\n",
       "115498  1404_292     1404 2018-09-26      6.61\n",
       "45933    1167_16     1167 2018-08-23      8.51\n",
       "9919      1045_5     1045 2018-11-18      1.71\n",
       "47007    1171_38     1171 2018-02-10      2.77\n",
       "107973  1382_957     1382 2018-08-06      8.27\n",
       "9007    1041_442     1041 2018-05-09     10.20\n",
       "61155   1220_551     1220 2018-08-30     12.17\n",
       "86651   1320_320     1320 2018-06-19      5.62\n",
       "19648   1074_202     1074 2018-12-09      7.33\n",
       "35865   1134_277     1134 2018-09-14     21.08"
      ]
     },
     "execution_count": 145,
     "metadata": {},
     "output_type": "execute_result"
    }
   ],
   "source": [
    "df_calls['call_date'] = pd.to_datetime(df_calls['call_date'], dayfirst=True, errors='coerce')\n",
    "df_calls.sample(20)"
   ]
  },
  {
   "cell_type": "markdown",
   "metadata": {
    "id": "KrMgTrlG0q0_"
   },
   "source": [
    "### Enriquecer los datos"
   ]
  },
  {
   "cell_type": "code",
   "execution_count": 146,
   "metadata": {
    "id": "iZ1avpA_0q0_"
   },
   "outputs": [
    {
     "name": "stdout",
     "output_type": "stream",
     "text": [
      "False    91645\n",
      "True     46090\n",
      "Name: supero_plan, dtype: int64\n"
     ]
    }
   ],
   "source": [
    "#Crear columna año-mes para agrupar\n",
    "df_calls['year_month'] = df_calls['call_date'].dt.to_period('M').astype(str)\n",
    "#Agrupar total minutos por mes y usuario\n",
    "df_minutos_mes = df_calls.groupby(['user_id', 'year_month']).agg(\n",
    "    total_minutos_mes=('duration', 'sum')\n",
    ").reset_index()\n",
    "#Agregar columna del plan de usuario\n",
    "df_minutos_mes = df_minutos_mes.merge(df_users[['user_id', 'plan']], on='user_id', how='left')\n",
    "#Agregar los minutos incluidos del plan\n",
    "df_minutos_mes = df_minutos_mes.merge(\n",
    "    df_plans[['plan_name', 'minutes_included']],\n",
    "    left_on='plan',\n",
    "    right_on='plan_name',\n",
    "    how='left'\n",
    ")\n",
    "df_minutos_mes = df_minutos_mes.drop(columns=['plan_name'])\n",
    "#Comparar el consumo del mes con los minutos consumidos por mes\n",
    "df_minutos_mes['supero_plan'] = df_minutos_mes['total_minutos_mes'] > df_minutos_mes['minutes_included']\n",
    "df_minutos_mes['total_minutos_mes'] = df_minutos_mes['total_minutos_mes'].round(2)\n",
    "#Agregar columnas al DataFrame df_calls\n",
    "df_calls = df_calls.merge(\n",
    "    df_minutos_mes[['user_id', 'year_month', 'total_minutos_mes', 'plan', 'minutes_included', 'supero_plan']],\n",
    "    on=['user_id', 'year_month'],\n",
    "    how='left'\n",
    ")\n",
    "print(df_calls['supero_plan'].value_counts())"
   ]
  },
  {
   "cell_type": "markdown",
   "metadata": {
    "id": "mOUZSi180q0_"
   },
   "source": [
    "## Mensajes"
   ]
  },
  {
   "cell_type": "code",
   "execution_count": 147,
   "metadata": {
    "id": "R-bYJpdV0q1A"
   },
   "outputs": [
    {
     "name": "stdout",
     "output_type": "stream",
     "text": [
      "<class 'pandas.core.frame.DataFrame'>\n",
      "RangeIndex: 76051 entries, 0 to 76050\n",
      "Data columns (total 3 columns):\n",
      " #   Column        Non-Null Count  Dtype \n",
      "---  ------        --------------  ----- \n",
      " 0   id            76051 non-null  object\n",
      " 1   user_id       76051 non-null  int64 \n",
      " 2   message_date  76051 non-null  object\n",
      "dtypes: int64(1), object(2)\n",
      "memory usage: 1.7+ MB\n"
     ]
    }
   ],
   "source": [
    "# Imprime la información general/resumida sobre el DataFrame de los mensajes\n",
    "df_messages.info()"
   ]
  },
  {
   "cell_type": "code",
   "execution_count": 148,
   "metadata": {
    "id": "mCEl2iGE0q1A"
   },
   "outputs": [
    {
     "data": {
      "text/html": [
       "<div>\n",
       "<style scoped>\n",
       "    .dataframe tbody tr th:only-of-type {\n",
       "        vertical-align: middle;\n",
       "    }\n",
       "\n",
       "    .dataframe tbody tr th {\n",
       "        vertical-align: top;\n",
       "    }\n",
       "\n",
       "    .dataframe thead th {\n",
       "        text-align: right;\n",
       "    }\n",
       "</style>\n",
       "<table border=\"1\" class=\"dataframe\">\n",
       "  <thead>\n",
       "    <tr style=\"text-align: right;\">\n",
       "      <th></th>\n",
       "      <th>id</th>\n",
       "      <th>user_id</th>\n",
       "      <th>message_date</th>\n",
       "    </tr>\n",
       "  </thead>\n",
       "  <tbody>\n",
       "    <tr>\n",
       "      <th>36697</th>\n",
       "      <td>1246_1</td>\n",
       "      <td>1246</td>\n",
       "      <td>2018-08-02</td>\n",
       "    </tr>\n",
       "    <tr>\n",
       "      <th>8131</th>\n",
       "      <td>1061_137</td>\n",
       "      <td>1061</td>\n",
       "      <td>2018-09-25</td>\n",
       "    </tr>\n",
       "    <tr>\n",
       "      <th>6872</th>\n",
       "      <td>1057_196</td>\n",
       "      <td>1057</td>\n",
       "      <td>2018-12-09</td>\n",
       "    </tr>\n",
       "    <tr>\n",
       "      <th>63942</th>\n",
       "      <td>1408_67</td>\n",
       "      <td>1408</td>\n",
       "      <td>2018-09-12</td>\n",
       "    </tr>\n",
       "    <tr>\n",
       "      <th>32668</th>\n",
       "      <td>1203_313</td>\n",
       "      <td>1203</td>\n",
       "      <td>2018-12-01</td>\n",
       "    </tr>\n",
       "    <tr>\n",
       "      <th>37651</th>\n",
       "      <td>1249_161</td>\n",
       "      <td>1249</td>\n",
       "      <td>2018-10-18</td>\n",
       "    </tr>\n",
       "    <tr>\n",
       "      <th>32925</th>\n",
       "      <td>1205_0</td>\n",
       "      <td>1205</td>\n",
       "      <td>2018-12-27</td>\n",
       "    </tr>\n",
       "    <tr>\n",
       "      <th>5233</th>\n",
       "      <td>1051_645</td>\n",
       "      <td>1051</td>\n",
       "      <td>2018-12-29</td>\n",
       "    </tr>\n",
       "    <tr>\n",
       "      <th>65983</th>\n",
       "      <td>1431_22</td>\n",
       "      <td>1431</td>\n",
       "      <td>2018-11-25</td>\n",
       "    </tr>\n",
       "    <tr>\n",
       "      <th>38050</th>\n",
       "      <td>1251_102</td>\n",
       "      <td>1251</td>\n",
       "      <td>2018-04-23</td>\n",
       "    </tr>\n",
       "    <tr>\n",
       "      <th>47349</th>\n",
       "      <td>1324_62</td>\n",
       "      <td>1324</td>\n",
       "      <td>2018-11-19</td>\n",
       "    </tr>\n",
       "    <tr>\n",
       "      <th>43719</th>\n",
       "      <td>1291_22</td>\n",
       "      <td>1291</td>\n",
       "      <td>2018-08-25</td>\n",
       "    </tr>\n",
       "    <tr>\n",
       "      <th>1172</th>\n",
       "      <td>1011_135</td>\n",
       "      <td>1011</td>\n",
       "      <td>2018-06-23</td>\n",
       "    </tr>\n",
       "    <tr>\n",
       "      <th>4731</th>\n",
       "      <td>1044_97</td>\n",
       "      <td>1044</td>\n",
       "      <td>2018-09-13</td>\n",
       "    </tr>\n",
       "    <tr>\n",
       "      <th>15923</th>\n",
       "      <td>1105_122</td>\n",
       "      <td>1105</td>\n",
       "      <td>2018-11-15</td>\n",
       "    </tr>\n",
       "    <tr>\n",
       "      <th>39385</th>\n",
       "      <td>1256_87</td>\n",
       "      <td>1256</td>\n",
       "      <td>2018-12-18</td>\n",
       "    </tr>\n",
       "    <tr>\n",
       "      <th>58561</th>\n",
       "      <td>1372_33</td>\n",
       "      <td>1372</td>\n",
       "      <td>2018-12-21</td>\n",
       "    </tr>\n",
       "    <tr>\n",
       "      <th>69485</th>\n",
       "      <td>1451_182</td>\n",
       "      <td>1451</td>\n",
       "      <td>2018-12-17</td>\n",
       "    </tr>\n",
       "    <tr>\n",
       "      <th>23109</th>\n",
       "      <td>1139_135</td>\n",
       "      <td>1139</td>\n",
       "      <td>2018-12-02</td>\n",
       "    </tr>\n",
       "    <tr>\n",
       "      <th>2009</th>\n",
       "      <td>1026_33</td>\n",
       "      <td>1026</td>\n",
       "      <td>2018-08-12</td>\n",
       "    </tr>\n",
       "  </tbody>\n",
       "</table>\n",
       "</div>"
      ],
      "text/plain": [
       "             id  user_id message_date\n",
       "36697    1246_1     1246   2018-08-02\n",
       "8131   1061_137     1061   2018-09-25\n",
       "6872   1057_196     1057   2018-12-09\n",
       "63942   1408_67     1408   2018-09-12\n",
       "32668  1203_313     1203   2018-12-01\n",
       "37651  1249_161     1249   2018-10-18\n",
       "32925    1205_0     1205   2018-12-27\n",
       "5233   1051_645     1051   2018-12-29\n",
       "65983   1431_22     1431   2018-11-25\n",
       "38050  1251_102     1251   2018-04-23\n",
       "47349   1324_62     1324   2018-11-19\n",
       "43719   1291_22     1291   2018-08-25\n",
       "1172   1011_135     1011   2018-06-23\n",
       "4731    1044_97     1044   2018-09-13\n",
       "15923  1105_122     1105   2018-11-15\n",
       "39385   1256_87     1256   2018-12-18\n",
       "58561   1372_33     1372   2018-12-21\n",
       "69485  1451_182     1451   2018-12-17\n",
       "23109  1139_135     1139   2018-12-02\n",
       "2009    1026_33     1026   2018-08-12"
      ]
     },
     "execution_count": 148,
     "metadata": {},
     "output_type": "execute_result"
    }
   ],
   "source": [
    "# Imprime una muestra de datos para los mensajes\n",
    "df_messages.sample(20)"
   ]
  },
  {
   "cell_type": "markdown",
   "metadata": {
    "id": "04xDj7KH0q1A"
   },
   "source": [
    "En el DataFrame df_messages se debe corregir la columna message_date que este en Datetime64, podemos incluir una columna de año y mes para poder posteriormente totalizar el total de mensajes usados en el mes y compararlos con la cantidad contratado con el plan y validar si superaron la cantidad del plan."
   ]
  },
  {
   "cell_type": "markdown",
   "metadata": {
    "id": "Sprfak900q1B"
   },
   "source": [
    "### Corregir los datos"
   ]
  },
  {
   "cell_type": "code",
   "execution_count": 149,
   "metadata": {
    "id": "vsllvkoa0q1B"
   },
   "outputs": [
    {
     "data": {
      "text/html": [
       "<div>\n",
       "<style scoped>\n",
       "    .dataframe tbody tr th:only-of-type {\n",
       "        vertical-align: middle;\n",
       "    }\n",
       "\n",
       "    .dataframe tbody tr th {\n",
       "        vertical-align: top;\n",
       "    }\n",
       "\n",
       "    .dataframe thead th {\n",
       "        text-align: right;\n",
       "    }\n",
       "</style>\n",
       "<table border=\"1\" class=\"dataframe\">\n",
       "  <thead>\n",
       "    <tr style=\"text-align: right;\">\n",
       "      <th></th>\n",
       "      <th>id</th>\n",
       "      <th>user_id</th>\n",
       "      <th>message_date</th>\n",
       "    </tr>\n",
       "  </thead>\n",
       "  <tbody>\n",
       "    <tr>\n",
       "      <th>21518</th>\n",
       "      <td>1132_897</td>\n",
       "      <td>1132</td>\n",
       "      <td>2018-08-23</td>\n",
       "    </tr>\n",
       "    <tr>\n",
       "      <th>51361</th>\n",
       "      <td>1334_79</td>\n",
       "      <td>1334</td>\n",
       "      <td>2018-12-09</td>\n",
       "    </tr>\n",
       "    <tr>\n",
       "      <th>31425</th>\n",
       "      <td>1195_292</td>\n",
       "      <td>1195</td>\n",
       "      <td>2018-09-24</td>\n",
       "    </tr>\n",
       "    <tr>\n",
       "      <th>10012</th>\n",
       "      <td>1076_50</td>\n",
       "      <td>1076</td>\n",
       "      <td>2018-08-14</td>\n",
       "    </tr>\n",
       "    <tr>\n",
       "      <th>17119</th>\n",
       "      <td>1113_219</td>\n",
       "      <td>1113</td>\n",
       "      <td>2018-08-23</td>\n",
       "    </tr>\n",
       "    <tr>\n",
       "      <th>42752</th>\n",
       "      <td>1280_282</td>\n",
       "      <td>1280</td>\n",
       "      <td>2018-08-22</td>\n",
       "    </tr>\n",
       "    <tr>\n",
       "      <th>16408</th>\n",
       "      <td>1110_299</td>\n",
       "      <td>1110</td>\n",
       "      <td>2018-09-25</td>\n",
       "    </tr>\n",
       "    <tr>\n",
       "      <th>22144</th>\n",
       "      <td>1132_1772</td>\n",
       "      <td>1132</td>\n",
       "      <td>2018-06-13</td>\n",
       "    </tr>\n",
       "    <tr>\n",
       "      <th>6588</th>\n",
       "      <td>1056_98</td>\n",
       "      <td>1056</td>\n",
       "      <td>2018-10-23</td>\n",
       "    </tr>\n",
       "    <tr>\n",
       "      <th>72457</th>\n",
       "      <td>1470_85</td>\n",
       "      <td>1470</td>\n",
       "      <td>2018-09-19</td>\n",
       "    </tr>\n",
       "    <tr>\n",
       "      <th>54649</th>\n",
       "      <td>1346_152</td>\n",
       "      <td>1346</td>\n",
       "      <td>2018-11-07</td>\n",
       "    </tr>\n",
       "    <tr>\n",
       "      <th>1926</th>\n",
       "      <td>1019_98</td>\n",
       "      <td>1019</td>\n",
       "      <td>2018-12-27</td>\n",
       "    </tr>\n",
       "    <tr>\n",
       "      <th>75414</th>\n",
       "      <td>1491_251</td>\n",
       "      <td>1491</td>\n",
       "      <td>2018-06-29</td>\n",
       "    </tr>\n",
       "    <tr>\n",
       "      <th>108</th>\n",
       "      <td>1001_203</td>\n",
       "      <td>1001</td>\n",
       "      <td>2018-11-10</td>\n",
       "    </tr>\n",
       "    <tr>\n",
       "      <th>3866</th>\n",
       "      <td>1038_219</td>\n",
       "      <td>1038</td>\n",
       "      <td>2018-11-30</td>\n",
       "    </tr>\n",
       "    <tr>\n",
       "      <th>39147</th>\n",
       "      <td>1255_146</td>\n",
       "      <td>1255</td>\n",
       "      <td>2018-12-19</td>\n",
       "    </tr>\n",
       "    <tr>\n",
       "      <th>33273</th>\n",
       "      <td>1209_121</td>\n",
       "      <td>1209</td>\n",
       "      <td>2018-09-04</td>\n",
       "    </tr>\n",
       "    <tr>\n",
       "      <th>22498</th>\n",
       "      <td>1133_706</td>\n",
       "      <td>1133</td>\n",
       "      <td>2018-10-03</td>\n",
       "    </tr>\n",
       "    <tr>\n",
       "      <th>6458</th>\n",
       "      <td>1055_576</td>\n",
       "      <td>1055</td>\n",
       "      <td>2018-12-29</td>\n",
       "    </tr>\n",
       "    <tr>\n",
       "      <th>53868</th>\n",
       "      <td>1341_144</td>\n",
       "      <td>1341</td>\n",
       "      <td>2018-10-26</td>\n",
       "    </tr>\n",
       "  </tbody>\n",
       "</table>\n",
       "</div>"
      ],
      "text/plain": [
       "              id  user_id message_date\n",
       "21518   1132_897     1132   2018-08-23\n",
       "51361    1334_79     1334   2018-12-09\n",
       "31425   1195_292     1195   2018-09-24\n",
       "10012    1076_50     1076   2018-08-14\n",
       "17119   1113_219     1113   2018-08-23\n",
       "42752   1280_282     1280   2018-08-22\n",
       "16408   1110_299     1110   2018-09-25\n",
       "22144  1132_1772     1132   2018-06-13\n",
       "6588     1056_98     1056   2018-10-23\n",
       "72457    1470_85     1470   2018-09-19\n",
       "54649   1346_152     1346   2018-11-07\n",
       "1926     1019_98     1019   2018-12-27\n",
       "75414   1491_251     1491   2018-06-29\n",
       "108     1001_203     1001   2018-11-10\n",
       "3866    1038_219     1038   2018-11-30\n",
       "39147   1255_146     1255   2018-12-19\n",
       "33273   1209_121     1209   2018-09-04\n",
       "22498   1133_706     1133   2018-10-03\n",
       "6458    1055_576     1055   2018-12-29\n",
       "53868   1341_144     1341   2018-10-26"
      ]
     },
     "execution_count": 149,
     "metadata": {},
     "output_type": "execute_result"
    }
   ],
   "source": [
    "df_messages['message_date'] = pd.to_datetime(df_messages['message_date'], dayfirst=True, errors='coerce')\n",
    "df_messages.sample(20)"
   ]
  },
  {
   "cell_type": "markdown",
   "metadata": {
    "id": "HvLid7iD0q1B"
   },
   "source": [
    "### Enriquecer los datos"
   ]
  },
  {
   "cell_type": "code",
   "execution_count": 150,
   "metadata": {
    "id": "zYEXZac10q1C"
   },
   "outputs": [
    {
     "name": "stdout",
     "output_type": "stream",
     "text": [
      "False    48020\n",
      "True     28031\n",
      "Name: supero_plan, dtype: int64\n"
     ]
    },
    {
     "data": {
      "text/html": [
       "<div>\n",
       "<style scoped>\n",
       "    .dataframe tbody tr th:only-of-type {\n",
       "        vertical-align: middle;\n",
       "    }\n",
       "\n",
       "    .dataframe tbody tr th {\n",
       "        vertical-align: top;\n",
       "    }\n",
       "\n",
       "    .dataframe thead th {\n",
       "        text-align: right;\n",
       "    }\n",
       "</style>\n",
       "<table border=\"1\" class=\"dataframe\">\n",
       "  <thead>\n",
       "    <tr style=\"text-align: right;\">\n",
       "      <th></th>\n",
       "      <th>id</th>\n",
       "      <th>user_id</th>\n",
       "      <th>message_date</th>\n",
       "      <th>year_month</th>\n",
       "      <th>total_mensajes_mes</th>\n",
       "      <th>plan</th>\n",
       "      <th>messages_included</th>\n",
       "      <th>supero_plan</th>\n",
       "    </tr>\n",
       "  </thead>\n",
       "  <tbody>\n",
       "    <tr>\n",
       "      <th>20924</th>\n",
       "      <td>1132_63</td>\n",
       "      <td>1132</td>\n",
       "      <td>2018-06-03</td>\n",
       "      <td>2018-06</td>\n",
       "      <td>143</td>\n",
       "      <td>ultimate</td>\n",
       "      <td>1000</td>\n",
       "      <td>False</td>\n",
       "    </tr>\n",
       "    <tr>\n",
       "      <th>68868</th>\n",
       "      <td>1446_30</td>\n",
       "      <td>1446</td>\n",
       "      <td>2018-11-28</td>\n",
       "      <td>2018-11</td>\n",
       "      <td>21</td>\n",
       "      <td>surf</td>\n",
       "      <td>50</td>\n",
       "      <td>False</td>\n",
       "    </tr>\n",
       "    <tr>\n",
       "      <th>26760</th>\n",
       "      <td>1164_10</td>\n",
       "      <td>1164</td>\n",
       "      <td>2018-08-08</td>\n",
       "      <td>2018-08</td>\n",
       "      <td>21</td>\n",
       "      <td>ultimate</td>\n",
       "      <td>1000</td>\n",
       "      <td>False</td>\n",
       "    </tr>\n",
       "    <tr>\n",
       "      <th>67303</th>\n",
       "      <td>1435_341</td>\n",
       "      <td>1435</td>\n",
       "      <td>2018-11-13</td>\n",
       "      <td>2018-11</td>\n",
       "      <td>125</td>\n",
       "      <td>ultimate</td>\n",
       "      <td>1000</td>\n",
       "      <td>False</td>\n",
       "    </tr>\n",
       "    <tr>\n",
       "      <th>2720</th>\n",
       "      <td>1028_647</td>\n",
       "      <td>1028</td>\n",
       "      <td>2018-03-06</td>\n",
       "      <td>2018-03</td>\n",
       "      <td>66</td>\n",
       "      <td>ultimate</td>\n",
       "      <td>1000</td>\n",
       "      <td>False</td>\n",
       "    </tr>\n",
       "    <tr>\n",
       "      <th>61994</th>\n",
       "      <td>1387_68</td>\n",
       "      <td>1387</td>\n",
       "      <td>2018-09-09</td>\n",
       "      <td>2018-09</td>\n",
       "      <td>18</td>\n",
       "      <td>surf</td>\n",
       "      <td>50</td>\n",
       "      <td>False</td>\n",
       "    </tr>\n",
       "    <tr>\n",
       "      <th>5707</th>\n",
       "      <td>1054_73</td>\n",
       "      <td>1054</td>\n",
       "      <td>2018-09-08</td>\n",
       "      <td>2018-09</td>\n",
       "      <td>30</td>\n",
       "      <td>surf</td>\n",
       "      <td>50</td>\n",
       "      <td>False</td>\n",
       "    </tr>\n",
       "    <tr>\n",
       "      <th>53351</th>\n",
       "      <td>1339_485</td>\n",
       "      <td>1339</td>\n",
       "      <td>2018-07-05</td>\n",
       "      <td>2018-07</td>\n",
       "      <td>78</td>\n",
       "      <td>surf</td>\n",
       "      <td>50</td>\n",
       "      <td>True</td>\n",
       "    </tr>\n",
       "    <tr>\n",
       "      <th>25888</th>\n",
       "      <td>1155_273</td>\n",
       "      <td>1155</td>\n",
       "      <td>2018-11-23</td>\n",
       "      <td>2018-11</td>\n",
       "      <td>28</td>\n",
       "      <td>ultimate</td>\n",
       "      <td>1000</td>\n",
       "      <td>False</td>\n",
       "    </tr>\n",
       "    <tr>\n",
       "      <th>60116</th>\n",
       "      <td>1381_229</td>\n",
       "      <td>1381</td>\n",
       "      <td>2018-10-16</td>\n",
       "      <td>2018-10</td>\n",
       "      <td>224</td>\n",
       "      <td>surf</td>\n",
       "      <td>50</td>\n",
       "      <td>True</td>\n",
       "    </tr>\n",
       "    <tr>\n",
       "      <th>57130</th>\n",
       "      <td>1362_201</td>\n",
       "      <td>1362</td>\n",
       "      <td>2018-03-19</td>\n",
       "      <td>2018-03</td>\n",
       "      <td>59</td>\n",
       "      <td>surf</td>\n",
       "      <td>50</td>\n",
       "      <td>True</td>\n",
       "    </tr>\n",
       "    <tr>\n",
       "      <th>22301</th>\n",
       "      <td>1133_305</td>\n",
       "      <td>1133</td>\n",
       "      <td>2018-09-24</td>\n",
       "      <td>2018-09</td>\n",
       "      <td>90</td>\n",
       "      <td>ultimate</td>\n",
       "      <td>1000</td>\n",
       "      <td>False</td>\n",
       "    </tr>\n",
       "    <tr>\n",
       "      <th>49606</th>\n",
       "      <td>1328_564</td>\n",
       "      <td>1328</td>\n",
       "      <td>2018-05-21</td>\n",
       "      <td>2018-05</td>\n",
       "      <td>149</td>\n",
       "      <td>surf</td>\n",
       "      <td>50</td>\n",
       "      <td>True</td>\n",
       "    </tr>\n",
       "    <tr>\n",
       "      <th>58909</th>\n",
       "      <td>1374_83</td>\n",
       "      <td>1374</td>\n",
       "      <td>2018-12-24</td>\n",
       "      <td>2018-12</td>\n",
       "      <td>83</td>\n",
       "      <td>surf</td>\n",
       "      <td>50</td>\n",
       "      <td>True</td>\n",
       "    </tr>\n",
       "    <tr>\n",
       "      <th>10449</th>\n",
       "      <td>1076_1003</td>\n",
       "      <td>1076</td>\n",
       "      <td>2018-11-05</td>\n",
       "      <td>2018-11</td>\n",
       "      <td>139</td>\n",
       "      <td>surf</td>\n",
       "      <td>50</td>\n",
       "      <td>True</td>\n",
       "    </tr>\n",
       "    <tr>\n",
       "      <th>41735</th>\n",
       "      <td>1268_108</td>\n",
       "      <td>1268</td>\n",
       "      <td>2018-09-12</td>\n",
       "      <td>2018-09</td>\n",
       "      <td>42</td>\n",
       "      <td>surf</td>\n",
       "      <td>50</td>\n",
       "      <td>False</td>\n",
       "    </tr>\n",
       "    <tr>\n",
       "      <th>44586</th>\n",
       "      <td>1298_42</td>\n",
       "      <td>1298</td>\n",
       "      <td>2018-12-31</td>\n",
       "      <td>2018-12</td>\n",
       "      <td>103</td>\n",
       "      <td>surf</td>\n",
       "      <td>50</td>\n",
       "      <td>True</td>\n",
       "    </tr>\n",
       "    <tr>\n",
       "      <th>34477</th>\n",
       "      <td>1219_19</td>\n",
       "      <td>1219</td>\n",
       "      <td>2018-11-18</td>\n",
       "      <td>2018-11</td>\n",
       "      <td>18</td>\n",
       "      <td>surf</td>\n",
       "      <td>50</td>\n",
       "      <td>False</td>\n",
       "    </tr>\n",
       "    <tr>\n",
       "      <th>28546</th>\n",
       "      <td>1174_336</td>\n",
       "      <td>1174</td>\n",
       "      <td>2018-06-04</td>\n",
       "      <td>2018-06</td>\n",
       "      <td>82</td>\n",
       "      <td>surf</td>\n",
       "      <td>50</td>\n",
       "      <td>True</td>\n",
       "    </tr>\n",
       "    <tr>\n",
       "      <th>70468</th>\n",
       "      <td>1458_166</td>\n",
       "      <td>1458</td>\n",
       "      <td>2018-12-03</td>\n",
       "      <td>2018-12</td>\n",
       "      <td>32</td>\n",
       "      <td>ultimate</td>\n",
       "      <td>1000</td>\n",
       "      <td>False</td>\n",
       "    </tr>\n",
       "  </tbody>\n",
       "</table>\n",
       "</div>"
      ],
      "text/plain": [
       "              id  user_id message_date year_month  total_mensajes_mes  \\\n",
       "20924    1132_63     1132   2018-06-03    2018-06                 143   \n",
       "68868    1446_30     1446   2018-11-28    2018-11                  21   \n",
       "26760    1164_10     1164   2018-08-08    2018-08                  21   \n",
       "67303   1435_341     1435   2018-11-13    2018-11                 125   \n",
       "2720    1028_647     1028   2018-03-06    2018-03                  66   \n",
       "61994    1387_68     1387   2018-09-09    2018-09                  18   \n",
       "5707     1054_73     1054   2018-09-08    2018-09                  30   \n",
       "53351   1339_485     1339   2018-07-05    2018-07                  78   \n",
       "25888   1155_273     1155   2018-11-23    2018-11                  28   \n",
       "60116   1381_229     1381   2018-10-16    2018-10                 224   \n",
       "57130   1362_201     1362   2018-03-19    2018-03                  59   \n",
       "22301   1133_305     1133   2018-09-24    2018-09                  90   \n",
       "49606   1328_564     1328   2018-05-21    2018-05                 149   \n",
       "58909    1374_83     1374   2018-12-24    2018-12                  83   \n",
       "10449  1076_1003     1076   2018-11-05    2018-11                 139   \n",
       "41735   1268_108     1268   2018-09-12    2018-09                  42   \n",
       "44586    1298_42     1298   2018-12-31    2018-12                 103   \n",
       "34477    1219_19     1219   2018-11-18    2018-11                  18   \n",
       "28546   1174_336     1174   2018-06-04    2018-06                  82   \n",
       "70468   1458_166     1458   2018-12-03    2018-12                  32   \n",
       "\n",
       "           plan  messages_included  supero_plan  \n",
       "20924  ultimate               1000        False  \n",
       "68868      surf                 50        False  \n",
       "26760  ultimate               1000        False  \n",
       "67303  ultimate               1000        False  \n",
       "2720   ultimate               1000        False  \n",
       "61994      surf                 50        False  \n",
       "5707       surf                 50        False  \n",
       "53351      surf                 50         True  \n",
       "25888  ultimate               1000        False  \n",
       "60116      surf                 50         True  \n",
       "57130      surf                 50         True  \n",
       "22301  ultimate               1000        False  \n",
       "49606      surf                 50         True  \n",
       "58909      surf                 50         True  \n",
       "10449      surf                 50         True  \n",
       "41735      surf                 50        False  \n",
       "44586      surf                 50         True  \n",
       "34477      surf                 50        False  \n",
       "28546      surf                 50         True  \n",
       "70468  ultimate               1000        False  "
      ]
     },
     "execution_count": 150,
     "metadata": {},
     "output_type": "execute_result"
    }
   ],
   "source": [
    "#Crear columna año-mes para agrupar\n",
    "df_messages['year_month'] = df_messages['message_date'].dt.to_period('M').astype(str)\n",
    "#Contar mensajes por mes y usuario\n",
    "df_mensajes_mes = df_messages.groupby(['user_id', 'year_month']).agg(\n",
    "    total_mensajes_mes=('id', 'count')\n",
    ").reset_index()\n",
    "#Agregar columna del plan de usuario\n",
    "df_mensajes_mes = df_mensajes_mes.merge(df_users[['user_id', 'plan']], on='user_id', how='left')\n",
    "#Agregar total mensajes incluidos del plan\n",
    "df_mensajes_mes = df_mensajes_mes.merge(\n",
    "    df_plans[['plan_name', 'messages_included']],\n",
    "    left_on='plan',\n",
    "    right_on='plan_name',\n",
    "    how='left'\n",
    ")\n",
    "df_mensajes_mes = df_mensajes_mes.drop(columns=['plan_name'])\n",
    "#Comparar el consumo del mes con los mensajes consumidos por mes\n",
    "df_mensajes_mes['supero_plan'] = df_mensajes_mes['total_mensajes_mes'] > df_mensajes_mes['messages_included']\n",
    "df_mensajes_mes['total_mensajes_mes'] = df_mensajes_mes['total_mensajes_mes'].round(2)\n",
    "#Agregar columnas al DataFrame df_calls\n",
    "df_messages = df_messages.merge(\n",
    "    df_mensajes_mes[['user_id', 'year_month', 'total_mensajes_mes', 'plan', 'messages_included', 'supero_plan']],\n",
    "    on=['user_id', 'year_month'],\n",
    "    how='left'\n",
    ")\n",
    "print(df_messages['supero_plan'].value_counts())\n",
    "df_messages.sample(20)"
   ]
  },
  {
   "cell_type": "markdown",
   "metadata": {
    "id": "bStkaxn40q1C"
   },
   "source": [
    "## Internet"
   ]
  },
  {
   "cell_type": "code",
   "execution_count": 151,
   "metadata": {
    "id": "e-Uz5qyn0q1C"
   },
   "outputs": [
    {
     "name": "stdout",
     "output_type": "stream",
     "text": [
      "<class 'pandas.core.frame.DataFrame'>\n",
      "RangeIndex: 104825 entries, 0 to 104824\n",
      "Data columns (total 4 columns):\n",
      " #   Column        Non-Null Count   Dtype  \n",
      "---  ------        --------------   -----  \n",
      " 0   id            104825 non-null  object \n",
      " 1   user_id       104825 non-null  int64  \n",
      " 2   session_date  104825 non-null  object \n",
      " 3   mb_used       104825 non-null  float64\n",
      "dtypes: float64(1), int64(1), object(2)\n",
      "memory usage: 3.2+ MB\n"
     ]
    }
   ],
   "source": [
    "# Imprime la información general/resumida sobre el DataFrame de internet\n",
    "df_internet.info()"
   ]
  },
  {
   "cell_type": "code",
   "execution_count": 152,
   "metadata": {
    "id": "9r3x_XLw0q1C"
   },
   "outputs": [
    {
     "data": {
      "text/html": [
       "<div>\n",
       "<style scoped>\n",
       "    .dataframe tbody tr th:only-of-type {\n",
       "        vertical-align: middle;\n",
       "    }\n",
       "\n",
       "    .dataframe tbody tr th {\n",
       "        vertical-align: top;\n",
       "    }\n",
       "\n",
       "    .dataframe thead th {\n",
       "        text-align: right;\n",
       "    }\n",
       "</style>\n",
       "<table border=\"1\" class=\"dataframe\">\n",
       "  <thead>\n",
       "    <tr style=\"text-align: right;\">\n",
       "      <th></th>\n",
       "      <th>id</th>\n",
       "      <th>user_id</th>\n",
       "      <th>session_date</th>\n",
       "      <th>mb_used</th>\n",
       "    </tr>\n",
       "  </thead>\n",
       "  <tbody>\n",
       "    <tr>\n",
       "      <th>1151</th>\n",
       "      <td>1007_135</td>\n",
       "      <td>1007</td>\n",
       "      <td>2018-10-23</td>\n",
       "      <td>520.49</td>\n",
       "    </tr>\n",
       "    <tr>\n",
       "      <th>27240</th>\n",
       "      <td>1126_345</td>\n",
       "      <td>1126</td>\n",
       "      <td>2018-09-12</td>\n",
       "      <td>615.97</td>\n",
       "    </tr>\n",
       "    <tr>\n",
       "      <th>18312</th>\n",
       "      <td>1081_393</td>\n",
       "      <td>1081</td>\n",
       "      <td>2018-05-04</td>\n",
       "      <td>2.77</td>\n",
       "    </tr>\n",
       "    <tr>\n",
       "      <th>95792</th>\n",
       "      <td>1446_389</td>\n",
       "      <td>1446</td>\n",
       "      <td>2018-11-18</td>\n",
       "      <td>0.00</td>\n",
       "    </tr>\n",
       "    <tr>\n",
       "      <th>50040</th>\n",
       "      <td>1223_239</td>\n",
       "      <td>1223</td>\n",
       "      <td>2018-09-09</td>\n",
       "      <td>572.92</td>\n",
       "    </tr>\n",
       "    <tr>\n",
       "      <th>47311</th>\n",
       "      <td>1211_188</td>\n",
       "      <td>1211</td>\n",
       "      <td>2018-08-23</td>\n",
       "      <td>461.19</td>\n",
       "    </tr>\n",
       "    <tr>\n",
       "      <th>71420</th>\n",
       "      <td>1333_217</td>\n",
       "      <td>1333</td>\n",
       "      <td>2018-11-27</td>\n",
       "      <td>93.68</td>\n",
       "    </tr>\n",
       "    <tr>\n",
       "      <th>100059</th>\n",
       "      <td>1474_260</td>\n",
       "      <td>1474</td>\n",
       "      <td>2018-11-28</td>\n",
       "      <td>580.54</td>\n",
       "    </tr>\n",
       "    <tr>\n",
       "      <th>86285</th>\n",
       "      <td>1400_422</td>\n",
       "      <td>1400</td>\n",
       "      <td>2018-10-28</td>\n",
       "      <td>406.58</td>\n",
       "    </tr>\n",
       "    <tr>\n",
       "      <th>97277</th>\n",
       "      <td>1458_336</td>\n",
       "      <td>1458</td>\n",
       "      <td>2018-11-24</td>\n",
       "      <td>816.35</td>\n",
       "    </tr>\n",
       "    <tr>\n",
       "      <th>48197</th>\n",
       "      <td>1214_571</td>\n",
       "      <td>1214</td>\n",
       "      <td>2018-02-14</td>\n",
       "      <td>388.14</td>\n",
       "    </tr>\n",
       "    <tr>\n",
       "      <th>70637</th>\n",
       "      <td>1329_402</td>\n",
       "      <td>1329</td>\n",
       "      <td>2018-10-12</td>\n",
       "      <td>501.88</td>\n",
       "    </tr>\n",
       "    <tr>\n",
       "      <th>21697</th>\n",
       "      <td>1099_452</td>\n",
       "      <td>1099</td>\n",
       "      <td>2018-08-03</td>\n",
       "      <td>238.29</td>\n",
       "    </tr>\n",
       "    <tr>\n",
       "      <th>89306</th>\n",
       "      <td>1412_21</td>\n",
       "      <td>1412</td>\n",
       "      <td>2018-10-14</td>\n",
       "      <td>633.63</td>\n",
       "    </tr>\n",
       "    <tr>\n",
       "      <th>10936</th>\n",
       "      <td>1054_475</td>\n",
       "      <td>1054</td>\n",
       "      <td>2018-12-13</td>\n",
       "      <td>93.31</td>\n",
       "    </tr>\n",
       "    <tr>\n",
       "      <th>93940</th>\n",
       "      <td>1438_182</td>\n",
       "      <td>1438</td>\n",
       "      <td>2018-12-02</td>\n",
       "      <td>934.40</td>\n",
       "    </tr>\n",
       "    <tr>\n",
       "      <th>43812</th>\n",
       "      <td>1194_230</td>\n",
       "      <td>1194</td>\n",
       "      <td>2018-09-26</td>\n",
       "      <td>640.93</td>\n",
       "    </tr>\n",
       "    <tr>\n",
       "      <th>5050</th>\n",
       "      <td>1028_626</td>\n",
       "      <td>1028</td>\n",
       "      <td>2018-11-13</td>\n",
       "      <td>546.25</td>\n",
       "    </tr>\n",
       "    <tr>\n",
       "      <th>40404</th>\n",
       "      <td>1182_50</td>\n",
       "      <td>1182</td>\n",
       "      <td>2018-12-03</td>\n",
       "      <td>0.00</td>\n",
       "    </tr>\n",
       "    <tr>\n",
       "      <th>70282</th>\n",
       "      <td>1328_241</td>\n",
       "      <td>1328</td>\n",
       "      <td>2018-11-10</td>\n",
       "      <td>746.54</td>\n",
       "    </tr>\n",
       "  </tbody>\n",
       "</table>\n",
       "</div>"
      ],
      "text/plain": [
       "              id  user_id session_date  mb_used\n",
       "1151    1007_135     1007   2018-10-23   520.49\n",
       "27240   1126_345     1126   2018-09-12   615.97\n",
       "18312   1081_393     1081   2018-05-04     2.77\n",
       "95792   1446_389     1446   2018-11-18     0.00\n",
       "50040   1223_239     1223   2018-09-09   572.92\n",
       "47311   1211_188     1211   2018-08-23   461.19\n",
       "71420   1333_217     1333   2018-11-27    93.68\n",
       "100059  1474_260     1474   2018-11-28   580.54\n",
       "86285   1400_422     1400   2018-10-28   406.58\n",
       "97277   1458_336     1458   2018-11-24   816.35\n",
       "48197   1214_571     1214   2018-02-14   388.14\n",
       "70637   1329_402     1329   2018-10-12   501.88\n",
       "21697   1099_452     1099   2018-08-03   238.29\n",
       "89306    1412_21     1412   2018-10-14   633.63\n",
       "10936   1054_475     1054   2018-12-13    93.31\n",
       "93940   1438_182     1438   2018-12-02   934.40\n",
       "43812   1194_230     1194   2018-09-26   640.93\n",
       "5050    1028_626     1028   2018-11-13   546.25\n",
       "40404    1182_50     1182   2018-12-03     0.00\n",
       "70282   1328_241     1328   2018-11-10   746.54"
      ]
     },
     "execution_count": 152,
     "metadata": {},
     "output_type": "execute_result"
    }
   ],
   "source": [
    "# Imprime una muestra de datos para el tráfico de internet\n",
    "df_internet.sample(20)"
   ]
  },
  {
   "cell_type": "markdown",
   "metadata": {
    "id": "EzOG5ik30q1D"
   },
   "source": [
    "En el DataFrame df_internet se debe corregir la columna session_date que este en Datetime64, convertir la columna mb_used en gigabytes y podemos incluir una columna de año y mes para poder posteriormente totalizar los gigabytes  usados en el mes y compararlos con la cantidad contratado con el plan y validar si superaron la cantidad del plan."
   ]
  },
  {
   "cell_type": "markdown",
   "metadata": {
    "id": "yA0tkPFg0q1D"
   },
   "source": [
    "### Corregir los datos"
   ]
  },
  {
   "cell_type": "code",
   "execution_count": 153,
   "metadata": {
    "id": "zVeanzdd0q1E"
   },
   "outputs": [
    {
     "data": {
      "text/html": [
       "<div>\n",
       "<style scoped>\n",
       "    .dataframe tbody tr th:only-of-type {\n",
       "        vertical-align: middle;\n",
       "    }\n",
       "\n",
       "    .dataframe tbody tr th {\n",
       "        vertical-align: top;\n",
       "    }\n",
       "\n",
       "    .dataframe thead th {\n",
       "        text-align: right;\n",
       "    }\n",
       "</style>\n",
       "<table border=\"1\" class=\"dataframe\">\n",
       "  <thead>\n",
       "    <tr style=\"text-align: right;\">\n",
       "      <th></th>\n",
       "      <th>id</th>\n",
       "      <th>user_id</th>\n",
       "      <th>session_date</th>\n",
       "      <th>mb_used</th>\n",
       "    </tr>\n",
       "  </thead>\n",
       "  <tbody>\n",
       "    <tr>\n",
       "      <th>37749</th>\n",
       "      <td>1171_120</td>\n",
       "      <td>1171</td>\n",
       "      <td>2018-10-12</td>\n",
       "      <td>729.00</td>\n",
       "    </tr>\n",
       "    <tr>\n",
       "      <th>32783</th>\n",
       "      <td>1147_430</td>\n",
       "      <td>1147</td>\n",
       "      <td>2018-06-16</td>\n",
       "      <td>288.42</td>\n",
       "    </tr>\n",
       "    <tr>\n",
       "      <th>69377</th>\n",
       "      <td>1324_92</td>\n",
       "      <td>1324</td>\n",
       "      <td>2018-10-03</td>\n",
       "      <td>1004.38</td>\n",
       "    </tr>\n",
       "    <tr>\n",
       "      <th>53346</th>\n",
       "      <td>1240_318</td>\n",
       "      <td>1240</td>\n",
       "      <td>2018-07-14</td>\n",
       "      <td>648.22</td>\n",
       "    </tr>\n",
       "    <tr>\n",
       "      <th>1963</th>\n",
       "      <td>1010_123</td>\n",
       "      <td>1010</td>\n",
       "      <td>2018-11-01</td>\n",
       "      <td>59.07</td>\n",
       "    </tr>\n",
       "    <tr>\n",
       "      <th>86361</th>\n",
       "      <td>1400_498</td>\n",
       "      <td>1400</td>\n",
       "      <td>2018-12-06</td>\n",
       "      <td>105.41</td>\n",
       "    </tr>\n",
       "    <tr>\n",
       "      <th>62792</th>\n",
       "      <td>1289_150</td>\n",
       "      <td>1289</td>\n",
       "      <td>2018-11-26</td>\n",
       "      <td>505.00</td>\n",
       "    </tr>\n",
       "    <tr>\n",
       "      <th>12063</th>\n",
       "      <td>1059_168</td>\n",
       "      <td>1059</td>\n",
       "      <td>2018-11-19</td>\n",
       "      <td>461.97</td>\n",
       "    </tr>\n",
       "    <tr>\n",
       "      <th>76840</th>\n",
       "      <td>1359_533</td>\n",
       "      <td>1359</td>\n",
       "      <td>2018-07-31</td>\n",
       "      <td>722.91</td>\n",
       "    </tr>\n",
       "    <tr>\n",
       "      <th>10531</th>\n",
       "      <td>1054_64</td>\n",
       "      <td>1054</td>\n",
       "      <td>2018-09-23</td>\n",
       "      <td>0.00</td>\n",
       "    </tr>\n",
       "  </tbody>\n",
       "</table>\n",
       "</div>"
      ],
      "text/plain": [
       "             id  user_id session_date  mb_used\n",
       "37749  1171_120     1171   2018-10-12   729.00\n",
       "32783  1147_430     1147   2018-06-16   288.42\n",
       "69377   1324_92     1324   2018-10-03  1004.38\n",
       "53346  1240_318     1240   2018-07-14   648.22\n",
       "1963   1010_123     1010   2018-11-01    59.07\n",
       "86361  1400_498     1400   2018-12-06   105.41\n",
       "62792  1289_150     1289   2018-11-26   505.00\n",
       "12063  1059_168     1059   2018-11-19   461.97\n",
       "76840  1359_533     1359   2018-07-31   722.91\n",
       "10531   1054_64     1054   2018-09-23     0.00"
      ]
     },
     "execution_count": 153,
     "metadata": {},
     "output_type": "execute_result"
    }
   ],
   "source": [
    "df_internet['session_date'] = pd.to_datetime(df_internet['session_date'], dayfirst=True, errors='coerce')\n",
    "df_internet.sample(10)"
   ]
  },
  {
   "cell_type": "markdown",
   "metadata": {
    "id": "e8_mLF4a0q1E"
   },
   "source": [
    "### Enriquecer los datos"
   ]
  },
  {
   "cell_type": "code",
   "execution_count": 154,
   "metadata": {
    "id": "ESiYPIEK0q1E"
   },
   "outputs": [
    {
     "name": "stdout",
     "output_type": "stream",
     "text": [
      "False    1325\n",
      "True      952\n",
      "Name: supero_plan_gb, dtype: int64\n"
     ]
    },
    {
     "data": {
      "text/html": [
       "<div>\n",
       "<style scoped>\n",
       "    .dataframe tbody tr th:only-of-type {\n",
       "        vertical-align: middle;\n",
       "    }\n",
       "\n",
       "    .dataframe tbody tr th {\n",
       "        vertical-align: top;\n",
       "    }\n",
       "\n",
       "    .dataframe thead th {\n",
       "        text-align: right;\n",
       "    }\n",
       "</style>\n",
       "<table border=\"1\" class=\"dataframe\">\n",
       "  <thead>\n",
       "    <tr style=\"text-align: right;\">\n",
       "      <th></th>\n",
       "      <th>user_id</th>\n",
       "      <th>year_month</th>\n",
       "      <th>total_gb_mes</th>\n",
       "      <th>plan</th>\n",
       "      <th>gb_included</th>\n",
       "      <th>supero_plan_gb</th>\n",
       "    </tr>\n",
       "  </thead>\n",
       "  <tbody>\n",
       "    <tr>\n",
       "      <th>753</th>\n",
       "      <td>1157</td>\n",
       "      <td>2018-07</td>\n",
       "      <td>6.30</td>\n",
       "      <td>surf</td>\n",
       "      <td>15.0</td>\n",
       "      <td>False</td>\n",
       "    </tr>\n",
       "    <tr>\n",
       "      <th>2053</th>\n",
       "      <td>1444</td>\n",
       "      <td>2018-08</td>\n",
       "      <td>11.70</td>\n",
       "      <td>surf</td>\n",
       "      <td>15.0</td>\n",
       "      <td>False</td>\n",
       "    </tr>\n",
       "    <tr>\n",
       "      <th>217</th>\n",
       "      <td>1053</td>\n",
       "      <td>2018-07</td>\n",
       "      <td>0.84</td>\n",
       "      <td>surf</td>\n",
       "      <td>15.0</td>\n",
       "      <td>False</td>\n",
       "    </tr>\n",
       "    <tr>\n",
       "      <th>951</th>\n",
       "      <td>1197</td>\n",
       "      <td>2018-12</td>\n",
       "      <td>17.05</td>\n",
       "      <td>surf</td>\n",
       "      <td>15.0</td>\n",
       "      <td>True</td>\n",
       "    </tr>\n",
       "    <tr>\n",
       "      <th>914</th>\n",
       "      <td>1191</td>\n",
       "      <td>2018-07</td>\n",
       "      <td>17.48</td>\n",
       "      <td>ultimate</td>\n",
       "      <td>30.0</td>\n",
       "      <td>False</td>\n",
       "    </tr>\n",
       "    <tr>\n",
       "      <th>1821</th>\n",
       "      <td>1392</td>\n",
       "      <td>2018-11</td>\n",
       "      <td>18.68</td>\n",
       "      <td>surf</td>\n",
       "      <td>15.0</td>\n",
       "      <td>True</td>\n",
       "    </tr>\n",
       "    <tr>\n",
       "      <th>1733</th>\n",
       "      <td>1374</td>\n",
       "      <td>2018-04</td>\n",
       "      <td>2.33</td>\n",
       "      <td>surf</td>\n",
       "      <td>15.0</td>\n",
       "      <td>False</td>\n",
       "    </tr>\n",
       "    <tr>\n",
       "      <th>1351</th>\n",
       "      <td>1291</td>\n",
       "      <td>2018-10</td>\n",
       "      <td>20.77</td>\n",
       "      <td>surf</td>\n",
       "      <td>15.0</td>\n",
       "      <td>True</td>\n",
       "    </tr>\n",
       "    <tr>\n",
       "      <th>1722</th>\n",
       "      <td>1370</td>\n",
       "      <td>2018-10</td>\n",
       "      <td>17.37</td>\n",
       "      <td>ultimate</td>\n",
       "      <td>30.0</td>\n",
       "      <td>False</td>\n",
       "    </tr>\n",
       "    <tr>\n",
       "      <th>342</th>\n",
       "      <td>1073</td>\n",
       "      <td>2018-07</td>\n",
       "      <td>14.97</td>\n",
       "      <td>surf</td>\n",
       "      <td>15.0</td>\n",
       "      <td>False</td>\n",
       "    </tr>\n",
       "    <tr>\n",
       "      <th>1264</th>\n",
       "      <td>1264</td>\n",
       "      <td>2018-12</td>\n",
       "      <td>13.78</td>\n",
       "      <td>ultimate</td>\n",
       "      <td>30.0</td>\n",
       "      <td>False</td>\n",
       "    </tr>\n",
       "    <tr>\n",
       "      <th>1125</th>\n",
       "      <td>1240</td>\n",
       "      <td>2018-07</td>\n",
       "      <td>33.94</td>\n",
       "      <td>surf</td>\n",
       "      <td>15.0</td>\n",
       "      <td>True</td>\n",
       "    </tr>\n",
       "    <tr>\n",
       "      <th>1776</th>\n",
       "      <td>1384</td>\n",
       "      <td>2018-11</td>\n",
       "      <td>18.35</td>\n",
       "      <td>ultimate</td>\n",
       "      <td>30.0</td>\n",
       "      <td>False</td>\n",
       "    </tr>\n",
       "    <tr>\n",
       "      <th>1828</th>\n",
       "      <td>1394</td>\n",
       "      <td>2018-12</td>\n",
       "      <td>16.25</td>\n",
       "      <td>surf</td>\n",
       "      <td>15.0</td>\n",
       "      <td>True</td>\n",
       "    </tr>\n",
       "    <tr>\n",
       "      <th>585</th>\n",
       "      <td>1124</td>\n",
       "      <td>2018-10</td>\n",
       "      <td>3.60</td>\n",
       "      <td>ultimate</td>\n",
       "      <td>30.0</td>\n",
       "      <td>False</td>\n",
       "    </tr>\n",
       "    <tr>\n",
       "      <th>79</th>\n",
       "      <td>1022</td>\n",
       "      <td>2018-09</td>\n",
       "      <td>13.79</td>\n",
       "      <td>surf</td>\n",
       "      <td>15.0</td>\n",
       "      <td>False</td>\n",
       "    </tr>\n",
       "    <tr>\n",
       "      <th>2083</th>\n",
       "      <td>1451</td>\n",
       "      <td>2018-12</td>\n",
       "      <td>12.41</td>\n",
       "      <td>ultimate</td>\n",
       "      <td>30.0</td>\n",
       "      <td>False</td>\n",
       "    </tr>\n",
       "    <tr>\n",
       "      <th>1641</th>\n",
       "      <td>1357</td>\n",
       "      <td>2018-09</td>\n",
       "      <td>9.84</td>\n",
       "      <td>surf</td>\n",
       "      <td>15.0</td>\n",
       "      <td>False</td>\n",
       "    </tr>\n",
       "    <tr>\n",
       "      <th>1400</th>\n",
       "      <td>1304</td>\n",
       "      <td>2018-11</td>\n",
       "      <td>19.54</td>\n",
       "      <td>ultimate</td>\n",
       "      <td>30.0</td>\n",
       "      <td>False</td>\n",
       "    </tr>\n",
       "    <tr>\n",
       "      <th>577</th>\n",
       "      <td>1122</td>\n",
       "      <td>2018-12</td>\n",
       "      <td>20.84</td>\n",
       "      <td>surf</td>\n",
       "      <td>15.0</td>\n",
       "      <td>True</td>\n",
       "    </tr>\n",
       "  </tbody>\n",
       "</table>\n",
       "</div>"
      ],
      "text/plain": [
       "      user_id year_month  total_gb_mes      plan  gb_included  supero_plan_gb\n",
       "753      1157    2018-07          6.30      surf         15.0           False\n",
       "2053     1444    2018-08         11.70      surf         15.0           False\n",
       "217      1053    2018-07          0.84      surf         15.0           False\n",
       "951      1197    2018-12         17.05      surf         15.0            True\n",
       "914      1191    2018-07         17.48  ultimate         30.0           False\n",
       "1821     1392    2018-11         18.68      surf         15.0            True\n",
       "1733     1374    2018-04          2.33      surf         15.0           False\n",
       "1351     1291    2018-10         20.77      surf         15.0            True\n",
       "1722     1370    2018-10         17.37  ultimate         30.0           False\n",
       "342      1073    2018-07         14.97      surf         15.0           False\n",
       "1264     1264    2018-12         13.78  ultimate         30.0           False\n",
       "1125     1240    2018-07         33.94      surf         15.0            True\n",
       "1776     1384    2018-11         18.35  ultimate         30.0           False\n",
       "1828     1394    2018-12         16.25      surf         15.0            True\n",
       "585      1124    2018-10          3.60  ultimate         30.0           False\n",
       "79       1022    2018-09         13.79      surf         15.0           False\n",
       "2083     1451    2018-12         12.41  ultimate         30.0           False\n",
       "1641     1357    2018-09          9.84      surf         15.0           False\n",
       "1400     1304    2018-11         19.54  ultimate         30.0           False\n",
       "577      1122    2018-12         20.84      surf         15.0            True"
      ]
     },
     "execution_count": 154,
     "metadata": {},
     "output_type": "execute_result"
    }
   ],
   "source": [
    "#Convertir columna mb en gb\n",
    "df_internet['gb_used'] = df_internet['mb_used'] / 1024\n",
    "#Crear columna año-mes para agrupar\n",
    "df_internet['year_month'] = df_internet['session_date'].dt.to_period('M').astype(str)\n",
    "#Contar gb por mes y usuario\n",
    "df_gb_mes = df_internet.groupby(['user_id', 'year_month']).agg(\n",
    "    total_gb_mes=('gb_used', 'sum')\n",
    ").reset_index()\n",
    "#Agregar columna del plan de usuario\n",
    "df_gb_mes = df_gb_mes.merge(df_users[['user_id', 'plan']], on='user_id', how='left')\n",
    "#Agregar columna MB incluidos del plan\n",
    "df_gb_mes = df_gb_mes.merge(\n",
    "    df_plans[['plan_name', 'mb_per_month_included']],\n",
    "    left_on='plan',\n",
    "    right_on='plan_name',\n",
    "    how='left'\n",
    ")\n",
    "#Convertir MB incluidos a GB incluidos\n",
    "df_gb_mes['gb_included'] = df_gb_mes['mb_per_month_included'] / 1024\n",
    "#Eliminar columnas innecesarias\n",
    "df_gb_mes = df_gb_mes.drop(columns=['plan_name', 'mb_per_month_included'])\n",
    "#Redondear total de GB usados por mes a 2 decimales\n",
    "df_gb_mes['total_gb_mes'] = df_gb_mes['total_gb_mes'].round(2)\n",
    "#Comparar el consumo del mes con los datos consumidos por mes\n",
    "df_gb_mes['supero_plan_gb'] = df_gb_mes['total_gb_mes'] > df_gb_mes['gb_included']\n",
    "print(df_gb_mes['supero_plan_gb'].value_counts())\n",
    "df_gb_mes.sample(20)"
   ]
  },
  {
   "cell_type": "markdown",
   "metadata": {
    "id": "3UA2cqIW0q1E"
   },
   "source": [
    "## Estudiar las condiciones de las tarifas"
   ]
  },
  {
   "cell_type": "code",
   "execution_count": 155,
   "metadata": {
    "id": "i409op8p0q1F"
   },
   "outputs": [
    {
     "data": {
      "text/html": [
       "<div>\n",
       "<style scoped>\n",
       "    .dataframe tbody tr th:only-of-type {\n",
       "        vertical-align: middle;\n",
       "    }\n",
       "\n",
       "    .dataframe tbody tr th {\n",
       "        vertical-align: top;\n",
       "    }\n",
       "\n",
       "    .dataframe thead th {\n",
       "        text-align: right;\n",
       "    }\n",
       "</style>\n",
       "<table border=\"1\" class=\"dataframe\">\n",
       "  <thead>\n",
       "    <tr style=\"text-align: right;\">\n",
       "      <th></th>\n",
       "      <th>messages_included</th>\n",
       "      <th>mb_per_month_included</th>\n",
       "      <th>minutes_included</th>\n",
       "      <th>usd_monthly_pay</th>\n",
       "      <th>usd_per_gb</th>\n",
       "      <th>usd_per_message</th>\n",
       "      <th>usd_per_minute</th>\n",
       "      <th>plan_name</th>\n",
       "      <th>gb_per_month_included</th>\n",
       "      <th>costo_gigas</th>\n",
       "      <th>costo_minuto</th>\n",
       "      <th>costo_mensaje</th>\n",
       "      <th>total_costo</th>\n",
       "      <th>ahorro_plan</th>\n",
       "    </tr>\n",
       "  </thead>\n",
       "  <tbody>\n",
       "    <tr>\n",
       "      <th>0</th>\n",
       "      <td>50</td>\n",
       "      <td>15360</td>\n",
       "      <td>500</td>\n",
       "      <td>20</td>\n",
       "      <td>10</td>\n",
       "      <td>0.03</td>\n",
       "      <td>0.03</td>\n",
       "      <td>surf</td>\n",
       "      <td>15.0</td>\n",
       "      <td>150.0</td>\n",
       "      <td>15.0</td>\n",
       "      <td>1.5</td>\n",
       "      <td>166.5</td>\n",
       "      <td>146.5</td>\n",
       "    </tr>\n",
       "    <tr>\n",
       "      <th>1</th>\n",
       "      <td>1000</td>\n",
       "      <td>30720</td>\n",
       "      <td>3000</td>\n",
       "      <td>70</td>\n",
       "      <td>7</td>\n",
       "      <td>0.01</td>\n",
       "      <td>0.01</td>\n",
       "      <td>ultimate</td>\n",
       "      <td>30.0</td>\n",
       "      <td>210.0</td>\n",
       "      <td>30.0</td>\n",
       "      <td>10.0</td>\n",
       "      <td>250.0</td>\n",
       "      <td>180.0</td>\n",
       "    </tr>\n",
       "  </tbody>\n",
       "</table>\n",
       "</div>"
      ],
      "text/plain": [
       "   messages_included  mb_per_month_included  minutes_included  \\\n",
       "0                 50                  15360               500   \n",
       "1               1000                  30720              3000   \n",
       "\n",
       "   usd_monthly_pay  usd_per_gb  usd_per_message  usd_per_minute plan_name  \\\n",
       "0               20          10             0.03            0.03      surf   \n",
       "1               70           7             0.01            0.01  ultimate   \n",
       "\n",
       "   gb_per_month_included  costo_gigas  costo_minuto  costo_mensaje  \\\n",
       "0                   15.0        150.0          15.0            1.5   \n",
       "1                   30.0        210.0          30.0           10.0   \n",
       "\n",
       "   total_costo  ahorro_plan  \n",
       "0        166.5        146.5  \n",
       "1        250.0        180.0  "
      ]
     },
     "execution_count": 155,
     "metadata": {},
     "output_type": "execute_result"
    }
   ],
   "source": [
    "# Imprime las condiciones de la tarifa y asegúrate de que te quedan claras\n",
    "df_plans.head()"
   ]
  },
  {
   "cell_type": "markdown",
   "metadata": {
    "id": "hMR1tP5d0q1F"
   },
   "source": [
    "## Agregar datos por usuario"
   ]
  },
  {
   "cell_type": "code",
   "execution_count": 156,
   "metadata": {
    "id": "A332cedB0q1G"
   },
   "outputs": [
    {
     "data": {
      "text/html": [
       "<div>\n",
       "<style scoped>\n",
       "    .dataframe tbody tr th:only-of-type {\n",
       "        vertical-align: middle;\n",
       "    }\n",
       "\n",
       "    .dataframe tbody tr th {\n",
       "        vertical-align: top;\n",
       "    }\n",
       "\n",
       "    .dataframe thead th {\n",
       "        text-align: right;\n",
       "    }\n",
       "</style>\n",
       "<table border=\"1\" class=\"dataframe\">\n",
       "  <thead>\n",
       "    <tr style=\"text-align: right;\">\n",
       "      <th></th>\n",
       "      <th>user_id</th>\n",
       "      <th>year_month</th>\n",
       "      <th>numero_llamadas_mes</th>\n",
       "    </tr>\n",
       "  </thead>\n",
       "  <tbody>\n",
       "    <tr>\n",
       "      <th>763</th>\n",
       "      <td>1163</td>\n",
       "      <td>2018-12</td>\n",
       "      <td>76</td>\n",
       "    </tr>\n",
       "    <tr>\n",
       "      <th>948</th>\n",
       "      <td>1203</td>\n",
       "      <td>2018-03</td>\n",
       "      <td>6</td>\n",
       "    </tr>\n",
       "    <tr>\n",
       "      <th>1664</th>\n",
       "      <td>1365</td>\n",
       "      <td>2018-07</td>\n",
       "      <td>155</td>\n",
       "    </tr>\n",
       "    <tr>\n",
       "      <th>1120</th>\n",
       "      <td>1245</td>\n",
       "      <td>2018-11</td>\n",
       "      <td>29</td>\n",
       "    </tr>\n",
       "    <tr>\n",
       "      <th>2092</th>\n",
       "      <td>1461</td>\n",
       "      <td>2018-11</td>\n",
       "      <td>39</td>\n",
       "    </tr>\n",
       "  </tbody>\n",
       "</table>\n",
       "</div>"
      ],
      "text/plain": [
       "      user_id year_month  numero_llamadas_mes\n",
       "763      1163    2018-12                   76\n",
       "948      1203    2018-03                    6\n",
       "1664     1365    2018-07                  155\n",
       "1120     1245    2018-11                   29\n",
       "2092     1461    2018-11                   39"
      ]
     },
     "execution_count": 156,
     "metadata": {},
     "output_type": "execute_result"
    }
   ],
   "source": [
    "# Calcula el número de llamadas hechas por cada usuario al mes. Guarda el resultado.\n",
    "df_llamadas_mes = df_calls.groupby(['user_id', 'year_month']).agg(\n",
    "    numero_llamadas_mes=('duration', 'count')\n",
    ").reset_index()\n",
    "df_llamadas_mes.sample(5)"
   ]
  },
  {
   "cell_type": "code",
   "execution_count": 157,
   "metadata": {
    "id": "aw2cmuql0q1G"
   },
   "outputs": [
    {
     "data": {
      "text/html": [
       "<div>\n",
       "<style scoped>\n",
       "    .dataframe tbody tr th:only-of-type {\n",
       "        vertical-align: middle;\n",
       "    }\n",
       "\n",
       "    .dataframe tbody tr th {\n",
       "        vertical-align: top;\n",
       "    }\n",
       "\n",
       "    .dataframe thead th {\n",
       "        text-align: right;\n",
       "    }\n",
       "</style>\n",
       "<table border=\"1\" class=\"dataframe\">\n",
       "  <thead>\n",
       "    <tr style=\"text-align: right;\">\n",
       "      <th></th>\n",
       "      <th>user_id</th>\n",
       "      <th>year_month</th>\n",
       "      <th>total_minutos_mes</th>\n",
       "    </tr>\n",
       "  </thead>\n",
       "  <tbody>\n",
       "    <tr>\n",
       "      <th>645</th>\n",
       "      <td>1140</td>\n",
       "      <td>2018-10</td>\n",
       "      <td>825.87</td>\n",
       "    </tr>\n",
       "    <tr>\n",
       "      <th>2162</th>\n",
       "      <td>1476</td>\n",
       "      <td>2018-11</td>\n",
       "      <td>388.76</td>\n",
       "    </tr>\n",
       "    <tr>\n",
       "      <th>2075</th>\n",
       "      <td>1458</td>\n",
       "      <td>2018-08</td>\n",
       "      <td>205.85</td>\n",
       "    </tr>\n",
       "    <tr>\n",
       "      <th>900</th>\n",
       "      <td>1192</td>\n",
       "      <td>2018-10</td>\n",
       "      <td>407.59</td>\n",
       "    </tr>\n",
       "    <tr>\n",
       "      <th>616</th>\n",
       "      <td>1133</td>\n",
       "      <td>2018-09</td>\n",
       "      <td>297.96</td>\n",
       "    </tr>\n",
       "  </tbody>\n",
       "</table>\n",
       "</div>"
      ],
      "text/plain": [
       "      user_id year_month  total_minutos_mes\n",
       "645      1140    2018-10             825.87\n",
       "2162     1476    2018-11             388.76\n",
       "2075     1458    2018-08             205.85\n",
       "900      1192    2018-10             407.59\n",
       "616      1133    2018-09             297.96"
      ]
     },
     "execution_count": 157,
     "metadata": {},
     "output_type": "execute_result"
    }
   ],
   "source": [
    "# Calcula la cantidad de minutos usados por cada usuario al mes. Guarda el resultado.\n",
    "df_minutos_mes = df_calls.groupby(['user_id', 'year_month']).agg(\n",
    "    total_minutos_mes=('duration', 'sum')\n",
    ").reset_index()\n",
    "df_minutos_mes.sample(5)"
   ]
  },
  {
   "cell_type": "code",
   "execution_count": 158,
   "metadata": {
    "id": "CcQvNHn60q1G"
   },
   "outputs": [
    {
     "data": {
      "text/html": [
       "<div>\n",
       "<style scoped>\n",
       "    .dataframe tbody tr th:only-of-type {\n",
       "        vertical-align: middle;\n",
       "    }\n",
       "\n",
       "    .dataframe tbody tr th {\n",
       "        vertical-align: top;\n",
       "    }\n",
       "\n",
       "    .dataframe thead th {\n",
       "        text-align: right;\n",
       "    }\n",
       "</style>\n",
       "<table border=\"1\" class=\"dataframe\">\n",
       "  <thead>\n",
       "    <tr style=\"text-align: right;\">\n",
       "      <th></th>\n",
       "      <th>user_id</th>\n",
       "      <th>year_month</th>\n",
       "      <th>total_mensajes_mes</th>\n",
       "    </tr>\n",
       "  </thead>\n",
       "  <tbody>\n",
       "    <tr>\n",
       "      <th>831</th>\n",
       "      <td>1222</td>\n",
       "      <td>2018-07</td>\n",
       "      <td>23</td>\n",
       "    </tr>\n",
       "    <tr>\n",
       "      <th>1289</th>\n",
       "      <td>1346</td>\n",
       "      <td>2018-10</td>\n",
       "      <td>57</td>\n",
       "    </tr>\n",
       "    <tr>\n",
       "      <th>1472</th>\n",
       "      <td>1394</td>\n",
       "      <td>2018-12</td>\n",
       "      <td>23</td>\n",
       "    </tr>\n",
       "    <tr>\n",
       "      <th>683</th>\n",
       "      <td>1184</td>\n",
       "      <td>2018-12</td>\n",
       "      <td>37</td>\n",
       "    </tr>\n",
       "    <tr>\n",
       "      <th>134</th>\n",
       "      <td>1046</td>\n",
       "      <td>2018-10</td>\n",
       "      <td>27</td>\n",
       "    </tr>\n",
       "  </tbody>\n",
       "</table>\n",
       "</div>"
      ],
      "text/plain": [
       "      user_id year_month  total_mensajes_mes\n",
       "831      1222    2018-07                  23\n",
       "1289     1346    2018-10                  57\n",
       "1472     1394    2018-12                  23\n",
       "683      1184    2018-12                  37\n",
       "134      1046    2018-10                  27"
      ]
     },
     "execution_count": 158,
     "metadata": {},
     "output_type": "execute_result"
    }
   ],
   "source": [
    "# Calcula el número de mensajes enviados por cada usuario al mes. Guarda el resultado.\n",
    "df_mensajes_mes = df_messages.groupby(['user_id', 'year_month']).agg(\n",
    "    total_mensajes_mes=('id', 'count')\n",
    ").reset_index()\n",
    "df_mensajes_mes.sample(5)"
   ]
  },
  {
   "cell_type": "code",
   "execution_count": 159,
   "metadata": {
    "id": "H1AqN2eG0q1H"
   },
   "outputs": [
    {
     "data": {
      "text/html": [
       "<div>\n",
       "<style scoped>\n",
       "    .dataframe tbody tr th:only-of-type {\n",
       "        vertical-align: middle;\n",
       "    }\n",
       "\n",
       "    .dataframe tbody tr th {\n",
       "        vertical-align: top;\n",
       "    }\n",
       "\n",
       "    .dataframe thead th {\n",
       "        text-align: right;\n",
       "    }\n",
       "</style>\n",
       "<table border=\"1\" class=\"dataframe\">\n",
       "  <thead>\n",
       "    <tr style=\"text-align: right;\">\n",
       "      <th></th>\n",
       "      <th>user_id</th>\n",
       "      <th>year_month</th>\n",
       "      <th>total_gb_mes</th>\n",
       "    </tr>\n",
       "  </thead>\n",
       "  <tbody>\n",
       "    <tr>\n",
       "      <th>38</th>\n",
       "      <td>1010</td>\n",
       "      <td>2018-04</td>\n",
       "      <td>19.26</td>\n",
       "    </tr>\n",
       "    <tr>\n",
       "      <th>1327</th>\n",
       "      <td>1284</td>\n",
       "      <td>2018-10</td>\n",
       "      <td>30.95</td>\n",
       "    </tr>\n",
       "    <tr>\n",
       "      <th>1311</th>\n",
       "      <td>1280</td>\n",
       "      <td>2018-08</td>\n",
       "      <td>10.64</td>\n",
       "    </tr>\n",
       "    <tr>\n",
       "      <th>616</th>\n",
       "      <td>1131</td>\n",
       "      <td>2018-07</td>\n",
       "      <td>16.18</td>\n",
       "    </tr>\n",
       "    <tr>\n",
       "      <th>2229</th>\n",
       "      <td>1491</td>\n",
       "      <td>2018-05</td>\n",
       "      <td>6.31</td>\n",
       "    </tr>\n",
       "  </tbody>\n",
       "</table>\n",
       "</div>"
      ],
      "text/plain": [
       "      user_id year_month  total_gb_mes\n",
       "38       1010    2018-04         19.26\n",
       "1327     1284    2018-10         30.95\n",
       "1311     1280    2018-08         10.64\n",
       "616      1131    2018-07         16.18\n",
       "2229     1491    2018-05          6.31"
      ]
     },
     "execution_count": 159,
     "metadata": {},
     "output_type": "execute_result"
    }
   ],
   "source": [
    "# Calcula el volumen del tráfico de Internet usado por cada usuario al mes. Guarda el resultado.\n",
    "df_gb_mes = df_internet.groupby(['user_id', 'year_month']).agg(\n",
    "    total_gb_mes=('gb_used', 'sum')\n",
    ").reset_index().round(2)\n",
    "df_gb_mes.sample(5)"
   ]
  },
  {
   "cell_type": "code",
   "execution_count": 160,
   "metadata": {
    "id": "FW99ykyf0q1H"
   },
   "outputs": [
    {
     "data": {
      "text/html": [
       "<div>\n",
       "<style scoped>\n",
       "    .dataframe tbody tr th:only-of-type {\n",
       "        vertical-align: middle;\n",
       "    }\n",
       "\n",
       "    .dataframe tbody tr th {\n",
       "        vertical-align: top;\n",
       "    }\n",
       "\n",
       "    .dataframe thead th {\n",
       "        text-align: right;\n",
       "    }\n",
       "</style>\n",
       "<table border=\"1\" class=\"dataframe\">\n",
       "  <thead>\n",
       "    <tr style=\"text-align: right;\">\n",
       "      <th></th>\n",
       "      <th>user_id</th>\n",
       "      <th>year_month</th>\n",
       "      <th>total_gb_mes</th>\n",
       "      <th>numero_llamadas_mes</th>\n",
       "      <th>total_minutos_mes</th>\n",
       "      <th>total_mensajes_mes</th>\n",
       "    </tr>\n",
       "  </thead>\n",
       "  <tbody>\n",
       "    <tr>\n",
       "      <th>1344</th>\n",
       "      <td>1290</td>\n",
       "      <td>2018-12</td>\n",
       "      <td>4.64</td>\n",
       "      <td>8.0</td>\n",
       "      <td>47.38</td>\n",
       "      <td>19.0</td>\n",
       "    </tr>\n",
       "    <tr>\n",
       "      <th>2263</th>\n",
       "      <td>1498</td>\n",
       "      <td>2018-03</td>\n",
       "      <td>19.28</td>\n",
       "      <td>37.0</td>\n",
       "      <td>247.72</td>\n",
       "      <td>0.0</td>\n",
       "    </tr>\n",
       "    <tr>\n",
       "      <th>1396</th>\n",
       "      <td>1302</td>\n",
       "      <td>2018-11</td>\n",
       "      <td>22.45</td>\n",
       "      <td>70.0</td>\n",
       "      <td>449.45</td>\n",
       "      <td>68.0</td>\n",
       "    </tr>\n",
       "    <tr>\n",
       "      <th>514</th>\n",
       "      <td>1109</td>\n",
       "      <td>2018-11</td>\n",
       "      <td>10.76</td>\n",
       "      <td>68.0</td>\n",
       "      <td>441.31</td>\n",
       "      <td>0.0</td>\n",
       "    </tr>\n",
       "    <tr>\n",
       "      <th>934</th>\n",
       "      <td>1195</td>\n",
       "      <td>2018-09</td>\n",
       "      <td>4.12</td>\n",
       "      <td>23.0</td>\n",
       "      <td>133.92</td>\n",
       "      <td>25.0</td>\n",
       "    </tr>\n",
       "  </tbody>\n",
       "</table>\n",
       "</div>"
      ],
      "text/plain": [
       "      user_id year_month  total_gb_mes  numero_llamadas_mes  \\\n",
       "1344     1290    2018-12          4.64                  8.0   \n",
       "2263     1498    2018-03         19.28                 37.0   \n",
       "1396     1302    2018-11         22.45                 70.0   \n",
       "514      1109    2018-11         10.76                 68.0   \n",
       "934      1195    2018-09          4.12                 23.0   \n",
       "\n",
       "      total_minutos_mes  total_mensajes_mes  \n",
       "1344              47.38                19.0  \n",
       "2263             247.72                 0.0  \n",
       "1396             449.45                68.0  \n",
       "514              441.31                 0.0  \n",
       "934              133.92                25.0  "
      ]
     },
     "execution_count": 160,
     "metadata": {},
     "output_type": "execute_result"
    }
   ],
   "source": [
    "# Fusiona los datos de llamadas, minutos, mensajes e Internet con base en user_id y month\n",
    "df_total = df_gb_mes.merge(\n",
    "    df_llamadas_mes,\n",
    "    on=['user_id', 'year_month'],\n",
    "    how='left'\n",
    ")\n",
    "df_total = df_total.merge(\n",
    "    df_minutos_mes,\n",
    "    on=['user_id', 'year_month'],\n",
    "    how='left'\n",
    ")\n",
    "df_total = df_total.merge(\n",
    "    df_mensajes_mes,\n",
    "    on=['user_id', 'year_month'],\n",
    "    how='left'\n",
    ")\n",
    "df_total = df_total.fillna(0)\n",
    "df_total.sample(5)"
   ]
  },
  {
   "cell_type": "code",
   "execution_count": 161,
   "metadata": {
    "id": "0dNOXHag0q1H"
   },
   "outputs": [
    {
     "name": "stdout",
     "output_type": "stream",
     "text": [
      "<class 'pandas.core.frame.DataFrame'>\n",
      "Int64Index: 2277 entries, 0 to 2276\n",
      "Data columns (total 20 columns):\n",
      " #   Column                 Non-Null Count  Dtype  \n",
      "---  ------                 --------------  -----  \n",
      " 0   user_id                2277 non-null   int64  \n",
      " 1   year_month             2277 non-null   object \n",
      " 2   total_gb_mes           2277 non-null   float64\n",
      " 3   numero_llamadas_mes    2277 non-null   int64  \n",
      " 4   total_minutos_mes      2277 non-null   int64  \n",
      " 5   total_mensajes_mes     2277 non-null   int64  \n",
      " 6   plan                   2277 non-null   object \n",
      " 7   messages_included      2277 non-null   int64  \n",
      " 8   mb_per_month_included  2277 non-null   int64  \n",
      " 9   minutes_included       2277 non-null   int64  \n",
      " 10  usd_monthly_pay        2277 non-null   int64  \n",
      " 11  usd_per_gb             2277 non-null   int64  \n",
      " 12  usd_per_message        2277 non-null   float64\n",
      " 13  usd_per_minute         2277 non-null   float64\n",
      " 14  gb_per_month_included  2277 non-null   float64\n",
      " 15  costo_gigas            2277 non-null   float64\n",
      " 16  costo_minuto           2277 non-null   float64\n",
      " 17  costo_mensaje          2277 non-null   float64\n",
      " 18  total_costo            2277 non-null   float64\n",
      " 19  ahorro_plan            2277 non-null   float64\n",
      "dtypes: float64(9), int64(9), object(2)\n",
      "memory usage: 373.6+ KB\n"
     ]
    }
   ],
   "source": [
    "# Verificar los contadores en int\n",
    "cols_int = ['numero_llamadas_mes', 'total_minutos_mes', 'total_mensajes_mes']\n",
    "df_total[cols_int] = df_total[cols_int].fillna(0).astype(int)\n",
    "# Incluir la columna plan \n",
    "df_total = df_total.merge(\n",
    "    df_users[['user_id', 'plan']],\n",
    "    on='user_id',\n",
    "    how='left'\n",
    ")\n",
    "#Agregar la informacion de la tarifa\n",
    "df_total = df_total.merge(\n",
    "    df_plans,\n",
    "    left_on='plan',\n",
    "    right_on='plan_name',\n",
    "    how='left'\n",
    ")\n",
    "df_total = df_total.drop(columns=['plan_name'])\n",
    "df_total.sample(5)\n",
    "df_total.info()"
   ]
  },
  {
   "cell_type": "code",
   "execution_count": 162,
   "metadata": {
    "id": "5FGCf_c60q1I"
   },
   "outputs": [
    {
     "name": "stdout",
     "output_type": "stream",
     "text": [
      "   user_id year_month      plan  ingreso_total_mes\n",
      "0     1000    2018-12  ultimate              70.00\n",
      "1     1001    2018-08      surf              20.00\n",
      "2     1001    2018-09      surf              20.00\n",
      "3     1001    2018-10      surf              88.19\n",
      "4     1001    2018-11      surf              50.70\n"
     ]
    }
   ],
   "source": [
    "# Calcula el ingreso mensual para cada usuario\n",
    "#Excedente de gigas (GB)\n",
    "df_total['exceso_gb'] = (df_total['total_gb_mes'] - df_total['gb_per_month_included']).clip(lower=0)\n",
    "#Excedente de minutos\n",
    "df_total['exceso_minutos'] = (df_total['total_minutos_mes'] - df_total['minutes_included']).clip(lower=0)\n",
    "#Excedente de mensajes\n",
    "df_total['exceso_mensajes'] = (df_total['total_mensajes_mes'] - df_total['messages_included']).clip(lower=0)\n",
    "#Costos por excedentes\n",
    "df_total['costo_exceso_gb'] = df_total['exceso_gb'] * df_total['usd_per_gb']\n",
    "df_total['costo_exceso_minutos'] = df_total['exceso_minutos'] * df_total['usd_per_minute']\n",
    "df_total['costo_exceso_mensajes'] = df_total['exceso_mensajes'] * df_total['usd_per_message']\n",
    "#Ingreso mensual final (tarifa fija + excedentes)\n",
    "df_total['ingreso_total_mes'] = (\n",
    "    df_total['usd_monthly_pay'] +\n",
    "    df_total['costo_exceso_gb'] +\n",
    "    df_total['costo_exceso_minutos'] +\n",
    "    df_total['costo_exceso_mensajes']\n",
    ").round(2)\n",
    "#Resultado\n",
    "df_ingresos = df_total[['user_id', 'year_month', 'plan', 'ingreso_total_mes']].copy()\n",
    "print(df_ingresos.head())"
   ]
  },
  {
   "cell_type": "markdown",
   "metadata": {
    "id": "-jtyHzJb0q1I"
   },
   "source": [
    "## Estudia el comportamiento de usuario"
   ]
  },
  {
   "cell_type": "markdown",
   "metadata": {
    "id": "vtW4CJEe0q1J"
   },
   "source": [
    "### Llamadas"
   ]
  },
  {
   "cell_type": "code",
   "execution_count": 163,
   "metadata": {
    "id": "Jf5v5--k0q1J"
   },
   "outputs": [
    {
     "data": {
      "image/png": "[encoded data removed]",
      "text/plain": [
       "<Figure size 1200x600 with 1 Axes>"
      ]
     },
     "metadata": {},
     "output_type": "display_data"
    }
   ],
   "source": [
    "# Compara la duración promedio de llamadas por cada plan y por cada mes. Traza un gráfico de barras para visualizarla.\n",
    "df_total['duracion_promedio_llamada'] = df_total['total_minutos_mes'] / df_total['numero_llamadas_mes']\n",
    "df_total['duracion_promedio_llamada'] = df_total['duracion_promedio_llamada'].fillna(0)\n",
    "#Agrupar por plan y year_month\n",
    "df_promedio = df_total.groupby(['plan', 'year_month'])['duracion_promedio_llamada'].mean().reset_index()\n",
    "#Datos para grafico de barras\n",
    "plt.figure(figsize=(12, 6))\n",
    "planes = df_promedio['plan'].unique()\n",
    "colores = ['#1f77b4', '#ff7f0e']\n",
    "for idx, plan in enumerate(planes):\n",
    "    datos = df_promedio[df_promedio['plan'] == plan]\n",
    "    plt.bar(\n",
    "        datos['year_month'],\n",
    "        datos['duracion_promedio_llamada'],\n",
    "        label=plan,\n",
    "        color=colores[idx],\n",
    "        alpha=0.7)\n",
    "plt.title('Duración promedio de llamadas por plan y por mes', fontsize=14)\n",
    "plt.xlabel('Mes (year-month)', fontsize=12)\n",
    "plt.ylabel('Duración promedio de llamadas (minutos)', fontsize=12)\n",
    "plt.xticks(rotation=45)\n",
    "plt.legend(title='Plan')\n",
    "plt.grid(axis='y', linestyle='--', alpha=0.7)\n",
    "plt.tight_layout()\n",
    "plt.show()"
   ]
  },
  {
   "cell_type": "code",
   "execution_count": 164,
   "metadata": {
    "id": "QoLqW1S_0q1J"
   },
   "outputs": [
    {
     "data": {
      "image/png": "[encoded data removed]",
      "text/plain": [
       "<Figure size 1200x600 with 1 Axes>"
      ]
     },
     "metadata": {},
     "output_type": "display_data"
    }
   ],
   "source": [
    "# Compara el número de minutos mensuales que necesitan los usuarios de cada plan. Traza un histograma.\n",
    "df_surf = df_total[df_total['plan'] == 'surf']\n",
    "df_ultimate = df_total[df_total['plan'] == 'ultimate']\n",
    "#Datos para elaborar el histograma\n",
    "plt.figure(figsize=(12, 6))\n",
    "plt.hist(df_surf['total_minutos_mes'], bins=30, alpha=0.7, label='Surf', color='#1f77b4')\n",
    "plt.hist(df_ultimate['total_minutos_mes'], bins=30, alpha=0.7, label='Ultimate', color='#ff7f0e')\n",
    "plt.title('Distribución de minutos mensuales por plan')\n",
    "plt.xlabel('Minutos mensuales')\n",
    "plt.ylabel('Número de usuarios-mes')\n",
    "plt.legend(title='Plan')\n",
    "plt.grid(axis='y', linestyle='--', alpha=0.5)\n",
    "plt.tight_layout()\n",
    "plt.show()"
   ]
  },
  {
   "cell_type": "code",
   "execution_count": 165,
   "metadata": {
    "id": "oSndbAnt0q1K"
   },
   "outputs": [
    {
     "name": "stdout",
     "output_type": "stream",
     "text": [
      "Media de minutos mensuales: 405.61\n",
      "Varianza de minutos mensuales: 49752.16\n"
     ]
    }
   ],
   "source": [
    "# Calcula la media y la varianza de la duración mensual de llamadas.\n",
    "media_minutos = df_total['total_minutos_mes'].mean()\n",
    "varianza_minutos = df_total['total_minutos_mes'].var()\n",
    "print(f\"Media de minutos mensuales: {media_minutos:.2f}\")\n",
    "print(f\"Varianza de minutos mensuales: {varianza_minutos:.2f}\")"
   ]
  },
  {
   "cell_type": "code",
   "execution_count": 166,
   "metadata": {
    "id": "nZzoRUKc0q1K"
   },
   "outputs": [
    {
     "data": {
      "text/plain": [
       "<Figure size 1000x600 with 0 Axes>"
      ]
     },
     "metadata": {},
     "output_type": "display_data"
    },
    {
     "data": {
      "image/png": "[encoded data removed]",
      "text/plain": [
       "<Figure size 640x480 with 1 Axes>"
      ]
     },
     "metadata": {},
     "output_type": "display_data"
    }
   ],
   "source": [
    "# Traza un diagrama de caja para visualizar la distribución de la duración mensual de llamadas\n",
    "plt.figure(figsize=(10, 6))\n",
    "df_total.boxplot(column='total_minutos_mes', by='plan', grid=False)\n",
    "plt.title('Distribución de la duración mensual de llamadas por plan')\n",
    "plt.suptitle('')\n",
    "plt.xlabel('Plan')\n",
    "plt.ylabel('Minutos mensuales de llamadas')\n",
    "plt.show()"
   ]
  },
  {
   "cell_type": "markdown",
   "metadata": {
    "id": "r627zBO50q1K"
   },
   "source": [
    "De acuerdo a la visualizacion de la informacion observamos que la media esta alrededor de 406 minutos y que los datos son muy dispersos en los usuarios de acuerdo con el resultado de la varianza 49752.16, podriamos decir que para el plan surf es para clientes que no llaman tanto y al contrario el plan ulimate es para clientes que llaman demasiado. Tambien se podria concluir que hay usuarios que estan pagando por minutos que no usan y hay otros que usan mas del doble del promedio."
   ]
  },
  {
   "cell_type": "markdown",
   "metadata": {
    "id": "8idKy8Wh0q1L"
   },
   "source": [
    "### Mensajes"
   ]
  },
  {
   "cell_type": "code",
   "execution_count": 167,
   "metadata": {
    "id": "NXLxiTit0q1L"
   },
   "outputs": [
    {
     "data": {
      "text/plain": [
       "<Figure size 1000x600 with 0 Axes>"
      ]
     },
     "metadata": {},
     "output_type": "display_data"
    },
    {
     "data": {
      "image/png": "[encoded data removed]",
      "text/plain": [
       "<Figure size 640x480 with 1 Axes>"
      ]
     },
     "metadata": {},
     "output_type": "display_data"
    }
   ],
   "source": [
    "# Comprara el número de mensajes que tienden a enviar cada mes los usuarios de cada plan\n",
    "plt.figure(figsize=(10, 6))\n",
    "df_total.boxplot(column='total_mensajes_mes', by='plan', grid=False)\n",
    "plt.title('Distribución del número de mensajes mensuales por plan')\n",
    "plt.suptitle('')  \n",
    "plt.xlabel('Plan')\n",
    "plt.ylabel('Número de mensajes mensuales')\n",
    "plt.show()"
   ]
  },
  {
   "cell_type": "code",
   "execution_count": 168,
   "metadata": {
    "id": "GRI_R7xF0q1L"
   },
   "outputs": [
    {
     "name": "stdout",
     "output_type": "stream",
     "text": [
      "Media de mensajes mensuales: 32.90\n",
      "Varianza de mensajes mensuales: 1127.85\n"
     ]
    }
   ],
   "source": [
    "# Calcula la media y la varianza de la número de mensajes que tienden a enviar cada mes.\n",
    "media_mensajes = df_total['total_mensajes_mes'].mean()\n",
    "varianza_mensajes = df_total['total_mensajes_mes'].var()\n",
    "print(f\"Media de mensajes mensuales: {media_mensajes:.2f}\")\n",
    "print(f\"Varianza de mensajes mensuales: {varianza_mensajes:.2f}\")"
   ]
  },
  {
   "cell_type": "markdown",
   "metadata": {
    "id": "390SSL480q1M"
   },
   "source": [
    "Podemos concluir que igual que se presenta en el consumo de minutos en los planes, los usuarios estan muy dispersos en el comportamiento, algunos usuarios no envian mensajes, otros envian entre 70 o mas mensajes al mes y que el plan surf de 50 mensajes es casi suficiente para la mayoria de usuarios y el plan ultimate de 1000 son demasiados y lo usan muy pocos a ese nivel."
   ]
  },
  {
   "cell_type": "markdown",
   "metadata": {
    "id": "42YSypXz0q1M"
   },
   "source": [
    "### Internet"
   ]
  },
  {
   "cell_type": "code",
   "execution_count": 169,
   "metadata": {
    "id": "lSuKPtjh0q1M"
   },
   "outputs": [
    {
     "data": {
      "text/plain": [
       "<Figure size 1000x600 with 0 Axes>"
      ]
     },
     "metadata": {},
     "output_type": "display_data"
    },
    {
     "data": {
      "image/png": "[encoded data removed]",
      "text/plain": [
       "<Figure size 640x480 with 1 Axes>"
      ]
     },
     "metadata": {},
     "output_type": "display_data"
    }
   ],
   "source": [
    "# Compara la cantidad de tráfico de Internet consumido por usuarios por plan\n",
    "plt.figure(figsize=(10, 6))\n",
    "df_total.boxplot(column='total_gb_mes', by='plan', grid=False)\n",
    "plt.title('Distribución del consumo mensual de GB por plan')\n",
    "plt.suptitle('')\n",
    "plt.xlabel('Plan')\n",
    "plt.ylabel('GB consumidos mensualmente')\n",
    "plt.show()"
   ]
  },
  {
   "cell_type": "code",
   "execution_count": 170,
   "metadata": {
    "id": "wnh8jYXi0q1N"
   },
   "outputs": [
    {
     "name": "stdout",
     "output_type": "stream",
     "text": [
      "Media de datos mensuales: 16.49\n",
      "Varianza de datos mensuales: 59.07\n"
     ]
    }
   ],
   "source": [
    "# Calcula la media y la varianza de los gb que usan cada mes.\n",
    "media_gb = df_total['total_gb_mes'].mean()\n",
    "varianza_gb = df_total['total_gb_mes'].var()\n",
    "print(f\"Media de datos mensuales: {media_gb:.2f}\")\n",
    "print(f\"Varianza de datos mensuales: {varianza_gb:.2f}\")"
   ]
  },
  {
   "cell_type": "markdown",
   "metadata": {
    "id": "UN9zwuMP0q1N"
   },
   "source": [
    "Como conclusion es que los usuarios consumen en promedio 16 gigas para los planes surf estaria por encima de la gigas que incluye el plan y estarian pagando cargos extras por ese consumo adicional y para el plan ultimate esta por debajo de lo que ofrece el plan por lo tanto no estarian pagando cargos extras. "
   ]
  },
  {
   "cell_type": "markdown",
   "metadata": {
    "id": "tCijq3260q1N"
   },
   "source": [
    "## Ingreso"
   ]
  },
  {
   "cell_type": "code",
   "execution_count": 171,
   "metadata": {
    "id": "tz-dq_V00q1O"
   },
   "outputs": [
    {
     "data": {
      "text/plain": [
       "count    2277.00\n",
       "mean      192.87\n",
       "std        38.82\n",
       "min       166.50\n",
       "25%       166.50\n",
       "50%       166.50\n",
       "75%       250.00\n",
       "max       250.00\n",
       "Name: total_costo, dtype: float64"
      ]
     },
     "execution_count": 171,
     "metadata": {},
     "output_type": "execute_result"
    }
   ],
   "source": [
    "df_total['total_costo'].describe().round(2)"
   ]
  },
  {
   "cell_type": "markdown",
   "metadata": {
    "id": "KAFidcXZ0q1P"
   },
   "source": [
    "La mayoria de los usuarios pagan las tarifas fijas, la mediana se encuentra en 166,50 que corresponde el plan surf sin tener excedentes y que solo un 25% de usuarios paga 250 que es el plan ultimate. El ingreso promedio se ubica en 192.87 lo que establece que los clientes permanecen el plan economico y que una parte pequeña de usuario paga el plan mas alto. La desviacion estandar 38,82 indica que hay grupos diferenciados.   "
   ]
  },
  {
   "cell_type": "markdown",
   "metadata": {
    "id": "ajJ7VKeI0q1Q"
   },
   "source": [
    "## Prueba las hipótesis estadísticas"
   ]
  },
  {
   "cell_type": "code",
   "execution_count": 172,
   "metadata": {
    "id": "nFoPNlPq0q1R"
   },
   "outputs": [
    {
     "name": "stdout",
     "output_type": "stream",
     "text": [
      "Estadístico t: -inf\n",
      "Valor p: 0.0\n"
     ]
    },
    {
     "name": "stderr",
     "output_type": "stream",
     "text": [
      "/tmp/ipykernel_32/3293423216.py:6: RuntimeWarning: Precision loss occurred in moment calculation due to catastrophic cancellation. This occurs when the data are nearly identical. Results may be unreliable.\n",
      "  t_stat, p_value = ttest_ind(surf_ingresos, ultimate_ingresos, equal_var=False)\n"
     ]
    }
   ],
   "source": [
    "# Prueba las hipótesis\n",
    "from scipy.stats import ttest_ind\n",
    "surf_ingresos = df_total[df_total['plan'] == 'surf']['total_costo']\n",
    "ultimate_ingresos = df_total[df_total['plan'] == 'ultimate']['total_costo']\n",
    "alpha = 0.05\n",
    "t_stat, p_value = ttest_ind(surf_ingresos, ultimate_ingresos, equal_var=False)\n",
    "print('Estadístico t:', t_stat)\n",
    "print('Valor p:', p_value)"
   ]
  },
  {
   "cell_type": "code",
   "execution_count": 174,
   "metadata": {
    "id": "Cqcj7wrZ0q1S"
   },
   "outputs": [
    {
     "name": "stdout",
     "output_type": "stream",
     "text": [
      "Estadístico t: -9.04\n",
      "Valor p: 0.0\n",
      "Rechazamos H₀: hay diferencia significativa entre los ingresos promedio de NY-NJ y otras regiones.\n"
     ]
    }
   ],
   "source": [
    "# Prueba las hipótesis usuarios del área NY-NJ es diferente al de los usuarios de otras regiones\n",
    "df_total = df_total.merge(df_users[['user_id', 'estado']], on='user_id', how='left')\n",
    "ny_nj_ingresos = df_total[df_total['estado'].isin(['NY', 'NJ'])]['total_costo']\n",
    "otras_regiones_ingresos = df_total[~df_total['estado'].isin(['NY', 'NJ'])]['total_costo']\n",
    "t_stat, p_value = ttest_ind(ny_nj_ingresos, otras_regiones_ingresos, equal_var=False)\n",
    "print('Estadístico t:', round(t_stat, 2))\n",
    "print('Valor p:', round(p_value, 4))\n",
    "alpha = 0.05\n",
    "if p_value < alpha:\n",
    "    print('Rechazamos H₀: hay diferencia significativa entre los ingresos promedio de NY-NJ y otras regiones.')\n",
    "else:\n",
    "    print('No se puede rechazar H₀: no hay evidencia de diferencia entre los ingresos promedio.')"
   ]
  },
  {
   "cell_type": "markdown",
   "metadata": {
    "id": "bbTR8UQO0q1T"
   },
   "source": [
    "## Conclusión general"
   ]
  },
  {
   "cell_type": "code",
   "execution_count": null,
   "metadata": {},
   "outputs": [],
   "source": [
    "1. Es importante inicial el analisis de la informacion con el contenido de los datos, asi mismo evidenciar si hay valores ausentes o duplicados que requieran de ajuste o eliminacion para que no distorsione los resultados de los calculos estimados.\n",
    "2. Como no fue posible determinar como esta distribuido el costo de los paquetes de los planes si fue posible identificar los sobrecostos que los usuarios podrian estar asumiendo por desborde del plan.\n",
    "3. Pudimos evidenciar que el comportamiento de los usuarios es disperso pero de igual manera pocos sobrepasan sus planes.\n",
    "4. La mayoria de los usuarios se ubican en el plan economico por lo que cumple con las necesidades que requieren y asi mismo el porcentaje de usuarios que usan el plan plus es por que su labor asi lo requiere.\n",
    "5. El operador Megaline puede invertir en publicidad al plan Surf que es el que genera mas ingresos por lo que la mayoria de usuarios tienen dicho plan.\n",
    "6. El operador puede tambien estimar aumentar los datos o minutos por plan ya que son los recursos que mas usan los clientes. Los mensajes actualmente no son de mayor uso y se evidencio en el analisis realizado.    "
   ]
  }
 ],
 "metadata": {
  "ExecuteTimeLog": [
   {
    "duration": 828,
    "start_time": "2021-11-16T09:21:11.304Z"
   },
   {
    "duration": 893,
    "start_time": "2021-11-16T09:21:17.728Z"
   },
   {
    "duration": 1150,
    "start_time": "2021-11-16T09:21:29.568Z"
   },
   {
    "duration": 3,
    "start_time": "2021-11-16T09:24:14.495Z"
   },
   {
    "duration": 120,
    "start_time": "2021-11-16T09:24:46.630Z"
   },
   {
    "duration": 3,
    "start_time": "2021-11-16T09:28:27.882Z"
   },
   {
    "duration": 4,
    "start_time": "2021-11-16T09:29:54.281Z"
   },
   {
    "duration": 3,
    "start_time": "2021-11-16T09:30:45.936Z"
   },
   {
    "duration": 4,
    "start_time": "2021-11-16T09:31:06.300Z"
   },
   {
    "duration": 113,
    "start_time": "2021-11-16T09:31:37.208Z"
   },
   {
    "duration": 143,
    "start_time": "2021-11-16T09:31:48.656Z"
   },
   {
    "duration": 98,
    "start_time": "2021-11-16T09:31:55.678Z"
   },
   {
    "duration": 3,
    "start_time": "2021-11-16T09:32:08.535Z"
   },
   {
    "duration": 111,
    "start_time": "2021-11-16T09:32:10.120Z"
   },
   {
    "duration": 3,
    "start_time": "2021-11-16T09:32:15.732Z"
   },
   {
    "duration": 4,
    "start_time": "2021-11-16T09:32:29.423Z"
   },
   {
    "duration": 3,
    "start_time": "2021-11-16T10:03:03.074Z"
   },
   {
    "duration": 3,
    "start_time": "2021-11-16T10:10:01.288Z"
   },
   {
    "duration": 3,
    "start_time": "2021-11-16T10:10:46.923Z"
   },
   {
    "duration": 121,
    "start_time": "2021-11-16T10:37:46.494Z"
   },
   {
    "duration": 125,
    "start_time": "2021-11-16T10:38:20.632Z"
   },
   {
    "duration": 112,
    "start_time": "2021-11-16T10:46:53.001Z"
   },
   {
    "duration": 110,
    "start_time": "2021-11-16T10:48:25.775Z"
   },
   {
    "duration": 3,
    "start_time": "2021-11-16T10:50:18.720Z"
   },
   {
    "duration": 4,
    "start_time": "2021-11-16T10:50:37.649Z"
   },
   {
    "duration": 2,
    "start_time": "2021-11-16T10:50:51.884Z"
   },
   {
    "duration": 3,
    "start_time": "2021-11-16T10:51:56.237Z"
   },
   {
    "duration": 101,
    "start_time": "2021-11-16T10:53:13.791Z"
   },
   {
    "duration": 3,
    "start_time": "2021-11-16T10:55:59.186Z"
   },
   {
    "duration": 3,
    "start_time": "2021-11-16T10:56:10.751Z"
   },
   {
    "duration": 3,
    "start_time": "2021-11-16T10:56:49.038Z"
   },
   {
    "duration": 3,
    "start_time": "2021-11-16T10:56:49.174Z"
   },
   {
    "duration": 4,
    "start_time": "2021-11-16T10:56:49.414Z"
   },
   {
    "duration": 3,
    "start_time": "2021-11-16T10:56:49.680Z"
   },
   {
    "duration": 3,
    "start_time": "2021-11-16T10:56:50.370Z"
   },
   {
    "duration": 114,
    "start_time": "2021-11-16T10:59:34.518Z"
   },
   {
    "duration": 3,
    "start_time": "2021-11-16T11:01:41.201Z"
   },
   {
    "duration": 116,
    "start_time": "2021-11-16T11:01:48.754Z"
   },
   {
    "duration": 3,
    "start_time": "2021-11-16T11:02:16.685Z"
   },
   {
    "duration": 3,
    "start_time": "2021-11-16T11:02:19.479Z"
   },
   {
    "duration": 3,
    "start_time": "2021-11-16T11:02:47.067Z"
   },
   {
    "duration": 3,
    "start_time": "2021-11-16T11:02:49.353Z"
   },
   {
    "duration": 3,
    "start_time": "2021-11-16T11:03:07.835Z"
   },
   {
    "duration": 3,
    "start_time": "2021-11-16T11:03:07.953Z"
   },
   {
    "duration": 112,
    "start_time": "2021-11-16T11:07:52.072Z"
   },
   {
    "duration": 187,
    "start_time": "2021-11-16T11:09:23.468Z"
   },
   {
    "duration": 4,
    "start_time": "2021-11-16T11:10:01.455Z"
   },
   {
    "duration": 3,
    "start_time": "2021-11-16T11:10:05.069Z"
   },
   {
    "duration": 4,
    "start_time": "2021-11-16T11:10:13.376Z"
   },
   {
    "duration": 3,
    "start_time": "2021-11-16T11:10:14.434Z"
   },
   {
    "duration": 3,
    "start_time": "2021-11-16T11:10:22.853Z"
   },
   {
    "duration": 4,
    "start_time": "2021-11-16T11:27:29.279Z"
   },
   {
    "duration": 4,
    "start_time": "2021-11-16T11:29:08.919Z"
   },
   {
    "duration": 118,
    "start_time": "2021-11-16T11:29:46.703Z"
   },
   {
    "duration": 437,
    "start_time": "2021-11-16T11:36:02.181Z"
   },
   {
    "duration": 157,
    "start_time": "2021-11-16T11:36:14.388Z"
   },
   {
    "duration": 207,
    "start_time": "2021-11-16T11:47:15.898Z"
   },
   {
    "duration": 3,
    "start_time": "2021-11-16T11:53:52.092Z"
   },
   {
    "duration": 3,
    "start_time": "2021-11-16T11:53:52.236Z"
   },
   {
    "duration": 3,
    "start_time": "2021-11-16T11:59:12.005Z"
   },
   {
    "duration": 112,
    "start_time": "2021-11-16T12:00:33.446Z"
   },
   {
    "duration": 3,
    "start_time": "2021-11-16T12:02:14.453Z"
   },
   {
    "duration": 3,
    "start_time": "2021-11-16T12:02:39.512Z"
   },
   {
    "duration": 106,
    "start_time": "2021-11-16T12:03:03.460Z"
   },
   {
    "duration": 3,
    "start_time": "2021-11-17T20:37:21.139Z"
   },
   {
    "duration": 3,
    "start_time": "2021-11-17T20:37:22.229Z"
   },
   {
    "duration": 3,
    "start_time": "2021-11-17T20:38:38.806Z"
   },
   {
    "duration": 3,
    "start_time": "2021-11-17T20:38:41.958Z"
   },
   {
    "duration": 3,
    "start_time": "2021-11-17T20:43:46.551Z"
   },
   {
    "duration": 4,
    "start_time": "2021-11-17T20:58:21.835Z"
   },
   {
    "duration": 3,
    "start_time": "2021-11-17T20:59:21.872Z"
   },
   {
    "duration": 4,
    "start_time": "2021-11-17T20:59:45.352Z"
   },
   {
    "duration": 4,
    "start_time": "2021-11-17T20:59:49.646Z"
   },
   {
    "duration": 159,
    "start_time": "2021-11-17T21:02:26.949Z"
   },
   {
    "duration": 3,
    "start_time": "2021-11-17T21:03:53.461Z"
   },
   {
    "duration": 3,
    "start_time": "2021-11-17T21:03:53.694Z"
   },
   {
    "duration": 3,
    "start_time": "2021-11-17T21:05:28.145Z"
   },
   {
    "duration": 116,
    "start_time": "2021-11-17T21:05:57.787Z"
   },
   {
    "duration": 3,
    "start_time": "2021-11-17T21:06:37.993Z"
   },
   {
    "duration": 3,
    "start_time": "2021-11-17T21:06:38.261Z"
   },
   {
    "duration": 3,
    "start_time": "2021-11-17T21:11:54.358Z"
   },
   {
    "duration": 3,
    "start_time": "2021-11-17T21:12:43.846Z"
   },
   {
    "duration": 4,
    "start_time": "2021-11-17T21:13:08.773Z"
   },
   {
    "duration": 3,
    "start_time": "2021-11-17T21:14:44.441Z"
   },
   {
    "duration": 3,
    "start_time": "2021-11-17T21:15:42.059Z"
   },
   {
    "duration": 4,
    "start_time": "2021-11-17T21:15:51.995Z"
   },
   {
    "duration": 3,
    "start_time": "2021-11-17T21:15:53.923Z"
   },
   {
    "duration": 3,
    "start_time": "2021-11-17T21:15:55.282Z"
   },
   {
    "duration": 3,
    "start_time": "2021-11-17T21:16:28.492Z"
   },
   {
    "duration": 3,
    "start_time": "2021-11-17T21:16:32.603Z"
   },
   {
    "duration": 3,
    "start_time": "2021-11-17T21:17:06.941Z"
   },
   {
    "duration": 98,
    "start_time": "2021-11-17T21:18:05.733Z"
   },
   {
    "duration": 4,
    "start_time": "2021-11-17T21:21:35.255Z"
   },
   {
    "duration": 3,
    "start_time": "2021-11-17T21:21:37.804Z"
   },
   {
    "duration": 4,
    "start_time": "2021-11-17T21:23:06.071Z"
   },
   {
    "duration": 3,
    "start_time": "2021-11-17T21:23:24.799Z"
   },
   {
    "duration": 3,
    "start_time": "2021-11-17T21:23:32.591Z"
   },
   {
    "duration": 98,
    "start_time": "2021-11-17T21:28:31.559Z"
   },
   {
    "duration": 3,
    "start_time": "2021-11-17T21:28:45.448Z"
   },
   {
    "duration": 3,
    "start_time": "2021-11-17T21:29:17.303Z"
   },
   {
    "duration": 3,
    "start_time": "2021-11-17T21:29:29.617Z"
   },
   {
    "duration": 3,
    "start_time": "2021-11-17T21:29:32.681Z"
   },
   {
    "duration": 3,
    "start_time": "2021-11-17T21:36:11.474Z"
   },
   {
    "duration": 3,
    "start_time": "2021-11-17T21:36:14.791Z"
   },
   {
    "duration": 3,
    "start_time": "2021-11-17T21:36:53.943Z"
   },
   {
    "duration": 3,
    "start_time": "2021-11-17T21:36:56.165Z"
   },
   {
    "duration": 4,
    "start_time": "2021-11-17T21:37:16.590Z"
   },
   {
    "duration": 3,
    "start_time": "2021-11-17T21:37:22.702Z"
   },
   {
    "duration": 4,
    "start_time": "2021-11-17T21:38:03.479Z"
   },
   {
    "duration": 3,
    "start_time": "2021-11-17T21:38:08.601Z"
   },
   {
    "duration": 3,
    "start_time": "2021-11-17T21:38:12.928Z"
   },
   {
    "duration": 3,
    "start_time": "2021-11-17T21:38:48.896Z"
   },
   {
    "duration": 2,
    "start_time": "2021-11-17T21:38:49.171Z"
   },
   {
    "duration": 4,
    "start_time": "2021-11-17T21:39:57.889Z"
   },
   {
    "duration": 3,
    "start_time": "2021-11-17T21:39:58.057Z"
   },
   {
    "duration": 3,
    "start_time": "2021-11-17T21:41:20.108Z"
   },
   {
    "duration": 3,
    "start_time": "2021-11-17T21:41:20.629Z"
   },
   {
    "duration": 3,
    "start_time": "2021-11-17T21:42:49.136Z"
   },
   {
    "duration": 3,
    "start_time": "2021-11-17T21:43:15.137Z"
   },
   {
    "duration": 4,
    "start_time": "2021-11-17T21:43:16.766Z"
   },
   {
    "duration": 4,
    "start_time": "2021-11-17T21:43:31.711Z"
   },
   {
    "duration": 3,
    "start_time": "2021-11-17T21:43:36.312Z"
   },
   {
    "duration": 4,
    "start_time": "2021-11-17T21:45:08.825Z"
   },
   {
    "duration": 4,
    "start_time": "2021-11-17T21:45:10.119Z"
   },
   {
    "duration": 4,
    "start_time": "2021-11-17T21:45:13.748Z"
   },
   {
    "duration": 3,
    "start_time": "2021-11-17T21:45:22.219Z"
   },
   {
    "duration": 3,
    "start_time": "2021-11-17T21:45:33.412Z"
   },
   {
    "duration": 2,
    "start_time": "2021-11-17T21:46:01.885Z"
   },
   {
    "duration": 3,
    "start_time": "2021-11-17T21:46:03.628Z"
   },
   {
    "duration": 107,
    "start_time": "2021-11-17T21:47:32.512Z"
   },
   {
    "duration": 103,
    "start_time": "2021-11-17T21:50:36.243Z"
   },
   {
    "duration": 3,
    "start_time": "2021-11-18T06:28:31.440Z"
   },
   {
    "duration": 3,
    "start_time": "2021-11-18T06:29:00.168Z"
   },
   {
    "duration": 3,
    "start_time": "2021-11-18T06:31:27.008Z"
   },
   {
    "duration": 2,
    "start_time": "2021-11-18T06:35:34.288Z"
   },
   {
    "duration": 2,
    "start_time": "2021-11-18T06:38:04.527Z"
   }
  ],
  "colab": {
   "provenance": []
  },
  "kernelspec": {
   "display_name": "Python 3 (ipykernel)",
   "language": "python",
   "name": "python3"
  },
  "language_info": {
   "codemirror_mode": {
    "name": "ipython",
    "version": 3
   },
   "file_extension": ".py",
   "mimetype": "text/x-python",
   "name": "python",
   "nbconvert_exporter": "python",
   "pygments_lexer": "ipython3",
   "version": "3.9.23"
  },
  "toc": {
   "base_numbering": 1,
   "nav_menu": {},
   "number_sections": true,
   "sideBar": true,
   "skip_h1_title": false,
   "title_cell": "Table of Contents",
   "title_sidebar": "Contents",
   "toc_cell": false,
   "toc_position": {},
   "toc_section_display": true,
   "toc_window_display": true
  }
 },
 "nbformat": 4,
 "nbformat_minor": 4
}
